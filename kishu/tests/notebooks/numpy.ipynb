{
 "cells": [
  {
   "cell_type": "code",
   "execution_count": null,
   "metadata": {
    "collapsed": false,
    "jupyter": {
     "outputs_hidden": false
    },
    "pycharm": {
     "name": "#%%\n"
    }
   },
   "outputs": [],
   "source": [
    "import numpy as np\n",
    "from sklearn import datasets\n",
    "from sklearn.neighbors import KNeighborsClassifier"
   ]
  },
  {
   "cell_type": "code",
   "execution_count": null,
   "metadata": {
    "collapsed": false,
    "jupyter": {
     "outputs_hidden": false
    },
    "pycharm": {
     "name": "#%%\n"
    }
   },
   "outputs": [],
   "source": [
    "%%memoize\n",
    "iris_X, iris_y = datasets.load_iris(return_X_y=True)"
   ]
  },
  {
   "cell_type": "code",
   "execution_count": 55,
   "metadata": {
    "pycharm": {
     "name": "#%%\n"
    }
   },
   "outputs": [],
   "source": [
    "indices = np.random.permutation(len(iris_X))\n",
    "iris_X_train = iris_X[indices[:-10]]\n",
    "iris_y_train = iris_y[indices[:-10]]\n",
    "iris_X_test = iris_X[indices[-10:]]\n",
    "iris_y_test = iris_y[indices[-10:]]"
   ]
  },
  {
   "cell_type": "code",
   "execution_count": 56,
   "metadata": {
    "pycharm": {
     "name": "#%%\n"
    }
   },
   "outputs": [
    {
     "data": {
      "text/plain": [
       "array([1, 1, 2, 2, 2, 0, 0, 1, 2, 2])"
      ]
     },
     "execution_count": 56,
     "metadata": {},
     "output_type": "execute_result"
    }
   ],
   "source": [
    "%%memoize\n",
    "indices = 123\n",
    "knn = KNeighborsClassifier()\n",
    "knn.fit(iris_X_train, iris_y_train)\n",
    "\n",
    "knn.predict(iris_X_test)"
   ]
  },
  {
   "cell_type": "code",
   "execution_count": 31,
   "metadata": {},
   "outputs": [],
   "source": [
    "# Do it again\n",
    "indices = np.random.permutation(len(iris_X))\n",
    "iris_X_train = iris_X[indices[:-10]]\n",
    "iris_y_train = iris_y[indices[:-10]]\n",
    "iris_X_test = iris_X[indices[-10:]]\n",
    "iris_y_test = iris_y[indices[-10:]]"
   ]
  },
  {
   "cell_type": "code",
   "execution_count": 32,
   "metadata": {},
   "outputs": [
    {
     "data": {
      "text/plain": [
       "array([1, 2, 1, 2, 1, 1, 0, 0, 2, 0])"
      ]
     },
     "execution_count": 32,
     "metadata": {},
     "output_type": "execute_result"
    }
   ],
   "source": [
    "indices = 123\n",
    "knn = KNeighborsClassifier()\n",
    "knn.fit(iris_X_train, iris_y_train)\n",
    "\n",
    "knn.predict(iris_X_test)"
   ]
  },
  {
   "cell_type": "code",
   "execution_count": 7,
   "metadata": {},
   "outputs": [
    {
     "name": "stdout",
     "output_type": "stream",
     "text": [
      "None\n"
     ]
    },
    {
     "ename": "AttributeError",
     "evalue": "'NoneType' object has no attribute 'splitlines'",
     "output_type": "error",
     "traceback": [
      "\u001b[0;31m---------------------------------------------------------------------------\u001b[0m",
      "\u001b[0;31mAttributeError\u001b[0m                            Traceback (most recent call last)",
      "File \u001b[0;32m<timed exec>:2\u001b[0m\n",
      "File \u001b[0;32m~/kishu-venv/lib/python3.8/site-packages/ipyflow/api/cells.py:40\u001b[0m, in \u001b[0;36mreproduce_cell\u001b[0;34m(ctr, show_input, show_output, lookback)\u001b[0m\n\u001b[1;32m     36\u001b[0m \u001b[38;5;28;01mdef\u001b[39;00m \u001b[38;5;21mreproduce_cell\u001b[39m(\n\u001b[1;32m     37\u001b[0m     ctr: \u001b[38;5;28mint\u001b[39m, show_input: \u001b[38;5;28mbool\u001b[39m \u001b[38;5;241m=\u001b[39m \u001b[38;5;28;01mTrue\u001b[39;00m, show_output: \u001b[38;5;28mbool\u001b[39m \u001b[38;5;241m=\u001b[39m \u001b[38;5;28;01mTrue\u001b[39;00m, lookback: \u001b[38;5;28mint\u001b[39m \u001b[38;5;241m=\u001b[39m \u001b[38;5;241m0\u001b[39m\n\u001b[1;32m     38\u001b[0m ):\n\u001b[1;32m     39\u001b[0m     \u001b[38;5;28;01mreturn\u001b[39;00m (\n\u001b[0;32m---> 40\u001b[0m         \u001b[43mcells\u001b[49m\u001b[43m(\u001b[49m\u001b[43m)\u001b[49m\n\u001b[1;32m     41\u001b[0m \u001b[43m        \u001b[49m\u001b[38;5;241;43m.\u001b[39;49m\u001b[43mat_counter\u001b[49m\u001b[43m(\u001b[49m\u001b[43mctr\u001b[49m\u001b[43m)\u001b[49m\n\u001b[1;32m     42\u001b[0m \u001b[43m        \u001b[49m\u001b[38;5;241;43m.\u001b[39;49m\u001b[43mreproduce\u001b[49m\u001b[43m(\u001b[49m\u001b[43mshow_input\u001b[49m\u001b[38;5;241;43m=\u001b[39;49m\u001b[43mshow_input\u001b[49m\u001b[43m,\u001b[49m\u001b[43m \u001b[49m\u001b[43mshow_output\u001b[49m\u001b[38;5;241;43m=\u001b[39;49m\u001b[43mshow_output\u001b[49m\u001b[43m,\u001b[49m\u001b[43m \u001b[49m\u001b[43mlookback\u001b[49m\u001b[38;5;241;43m=\u001b[39;49m\u001b[43mlookback\u001b[49m\u001b[43m)\u001b[49m\n\u001b[1;32m     43\u001b[0m     )\n",
      "File \u001b[0;32m~/kishu-venv/lib/python3.8/site-packages/ipyflow/data_model/cell.py:886\u001b[0m, in \u001b[0;36mCell.reproduce\u001b[0;34m(self, show_input, show_output, lookback)\u001b[0m\n\u001b[1;32m    883\u001b[0m     print_ \u001b[38;5;241m=\u001b[39m \u001b[38;5;28mprint\u001b[39m\n\u001b[1;32m    884\u001b[0m     print_(cell_to_repro\u001b[38;5;241m.\u001b[39mexecuted_content)\n\u001b[1;32m    885\u001b[0m     max_len \u001b[38;5;241m=\u001b[39m \u001b[38;5;28mmax\u001b[39m(\n\u001b[0;32m--> 886\u001b[0m         \u001b[38;5;28mlen\u001b[39m(line) \u001b[38;5;28;01mfor\u001b[39;00m line \u001b[38;5;129;01min\u001b[39;00m \u001b[43mcell_to_repro\u001b[49m\u001b[38;5;241;43m.\u001b[39;49m\u001b[43mexecuted_content\u001b[49m\u001b[38;5;241;43m.\u001b[39;49m\u001b[43msplitlines\u001b[49m()\n\u001b[1;32m    887\u001b[0m     )\n\u001b[1;32m    888\u001b[0m     print_(\u001b[38;5;124m\"\u001b[39m\u001b[38;5;124m-\u001b[39m\u001b[38;5;124m\"\u001b[39m \u001b[38;5;241m*\u001b[39m max_len)\n\u001b[1;32m    889\u001b[0m \u001b[38;5;28;01mif\u001b[39;00m show_output:\n",
      "\u001b[0;31mAttributeError\u001b[0m: 'NoneType' object has no attribute 'splitlines'"
     ]
    }
   ],
   "source": [
    "%%time\n",
    "from ipyflow import reproduce_cell\n",
    "reproduce_cell(5, lookback=1)"
   ]
  },
  {
   "cell_type": "code",
   "execution_count": null,
   "metadata": {},
   "outputs": [],
   "source": []
  }
 ],
 "metadata": {
  "interpreter": {
   "hash": "73e29f827a180d655af59b8e84c2509fd207c6d30a6436933ca2d326b6144ecd"
  },
  "ipyflow": {
   "cell_children": {
    "0154bf69-43cd-4b31-baa5-197629492c3b": [],
    "093789ba-01ab-4048-813a-1cbd37aded3a": [
     "6437b190-d301-4495-a7f1-c5ccfbbf1357",
     "b2dbd6f8-8827-40d8-90ed-8d2b88e9d2b2",
     "6cec47bf-9bc7-472a-a5ab-bfcb1f1ee771"
    ],
    "0e932135-b287-4854-b840-6452a634d8d2": [],
    "19ec70c1-7aa9-4cee-b3af-aa7c203645e5": [],
    "1bf8cb6c-93f5-4ded-b7cd-d943b2bf2750": [],
    "1f6ace2a-3c00-4931-b691-0b3539cfca0a": [],
    "409ccc6b-15f2-488a-ac0b-1891516ed153": [],
    "5394274c-02bb-4c04-bf35-0db5d9696d08": [],
    "5e039c9d-04d2-439d-9448-1b0779c6c06b": [
     "6cec47bf-9bc7-472a-a5ab-bfcb1f1ee771"
    ],
    "6437b190-d301-4495-a7f1-c5ccfbbf1357": [],
    "66f53679-f380-4926-9ef8-853bb39bb3d7": [],
    "6cec47bf-9bc7-472a-a5ab-bfcb1f1ee771": [],
    "838a347f-baa4-4705-8501-7c8f244a363a": [],
    "9a437b0f-aed4-4460-a968-39a8df733660": [],
    "b02bfd98-51cf-43d1-8d39-4994907fdb8a": [],
    "b2dbd6f8-8827-40d8-90ed-8d2b88e9d2b2": [
     "f1ceaf15-2091-43d6-b7c1-2ecfa7d13afc",
     "5e039c9d-04d2-439d-9448-1b0779c6c06b"
    ],
    "b5c0d2ad-1249-4946-9da9-8697a2a26251": [],
    "cabb02b0-e932-4495-a840-48329514121a": [],
    "d22a2d84-c699-4e5f-8a5b-6664d62deb18": [],
    "d86d6357-622e-4723-b84d-bd8d034649e1": [],
    "f1ceaf15-2091-43d6-b7c1-2ecfa7d13afc": [
     "6437b190-d301-4495-a7f1-c5ccfbbf1357"
    ],
    "f5ab6435-e18b-4c2b-a844-cd2eb9dc4d74": [],
    "fd93472e-2780-4333-b406-ed2a69f0a59c": [],
    "fe793759-d3fd-4d7b-ab10-4a2b9855c9cb": []
   },
   "cell_parents": {
    "0154bf69-43cd-4b31-baa5-197629492c3b": [],
    "093789ba-01ab-4048-813a-1cbd37aded3a": [],
    "0e932135-b287-4854-b840-6452a634d8d2": [],
    "19ec70c1-7aa9-4cee-b3af-aa7c203645e5": [],
    "1bf8cb6c-93f5-4ded-b7cd-d943b2bf2750": [],
    "1f6ace2a-3c00-4931-b691-0b3539cfca0a": [],
    "409ccc6b-15f2-488a-ac0b-1891516ed153": [],
    "5394274c-02bb-4c04-bf35-0db5d9696d08": [],
    "5e039c9d-04d2-439d-9448-1b0779c6c06b": [
     "b2dbd6f8-8827-40d8-90ed-8d2b88e9d2b2"
    ],
    "6437b190-d301-4495-a7f1-c5ccfbbf1357": [
     "093789ba-01ab-4048-813a-1cbd37aded3a",
     "f1ceaf15-2091-43d6-b7c1-2ecfa7d13afc"
    ],
    "66f53679-f380-4926-9ef8-853bb39bb3d7": [],
    "6cec47bf-9bc7-472a-a5ab-bfcb1f1ee771": [
     "093789ba-01ab-4048-813a-1cbd37aded3a",
     "5e039c9d-04d2-439d-9448-1b0779c6c06b"
    ],
    "838a347f-baa4-4705-8501-7c8f244a363a": [],
    "9a437b0f-aed4-4460-a968-39a8df733660": [],
    "b02bfd98-51cf-43d1-8d39-4994907fdb8a": [],
    "b2dbd6f8-8827-40d8-90ed-8d2b88e9d2b2": [
     "093789ba-01ab-4048-813a-1cbd37aded3a"
    ],
    "b5c0d2ad-1249-4946-9da9-8697a2a26251": [],
    "cabb02b0-e932-4495-a840-48329514121a": [],
    "d22a2d84-c699-4e5f-8a5b-6664d62deb18": [],
    "d86d6357-622e-4723-b84d-bd8d034649e1": [],
    "f1ceaf15-2091-43d6-b7c1-2ecfa7d13afc": [
     "b2dbd6f8-8827-40d8-90ed-8d2b88e9d2b2"
    ],
    "f5ab6435-e18b-4c2b-a844-cd2eb9dc4d74": [],
    "fd93472e-2780-4333-b406-ed2a69f0a59c": [],
    "fe793759-d3fd-4d7b-ab10-4a2b9855c9cb": []
   }
  },
  "kernelspec": {
   "display_name": "Python 3 (ipykernel)",
   "language": "python",
   "name": "python3"
  },
  "language_info": {
   "codemirror_mode": {
    "name": "ipython",
    "version": 3
   },
   "file_extension": ".py",
   "mimetype": "text/x-python",
   "name": "python",
   "nbconvert_exporter": "python",
   "pygments_lexer": "ipython3",
   "version": "3.8.10"
  }
 },
 "nbformat": 4,
 "nbformat_minor": 4
}
