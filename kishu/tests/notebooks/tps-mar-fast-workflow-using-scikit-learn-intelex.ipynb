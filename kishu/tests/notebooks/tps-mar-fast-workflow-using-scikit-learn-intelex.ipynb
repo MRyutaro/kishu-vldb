{
 "cells": [
  {
   "cell_type": "markdown",
   "metadata": {},
   "source": [
    "<div style=\"background-color:rgba(0, 167, 255, 0.6);border-radius:5px;display:fill\">\n",
    "    <h1><center>Tabular Playground Series - Mar 2022\n",
    "</div>"
   ]
  },
  {
   "cell_type": "markdown",
   "metadata": {},
   "source": [
    "<center><a><img src=\"https://i.ibb.co/PWvpT9F/header.png\" alt=\"header\" border=\"0\" width=800 height=400 class=\"center\"></a>"
   ]
  },
  {
   "cell_type": "markdown",
   "metadata": {},
   "source": [
    "<h1> Fast Random Forest and Intel® Extension for Scikit-learn* - Kaggle Tabular Playground Series - March 2022 </h1>"
   ]
  },
  {
   "cell_type": "markdown",
   "metadata": {},
   "source": [
    "For classical machine learning algorithms, we often use the most popular Python library, Scikit-learn. With Scikit-learn you can fit models and search for optimal parameters, but it sometimes works for hours. Speeding up this process is something anyone who uses Scikit-learn would be interested in.\n",
    "\n",
    "I want to show you how to use Scikit-learn library and get the results faster without changing the code. To do this, we will make use of another Python library, [**Intel® Extension for Scikit-learn***](https://github.com/intel/scikit-learn-intelex). It accelerates Scikit-learn and does not require you to change the code written for Scikit-learn.\n",
    "\n",
    "I will show you how to **speed up** your kernel without changing your code!"
   ]
  },
  {
   "cell_type": "markdown",
   "metadata": {},
   "source": [
    "More information you can find in [Introduction to scikit-learn-intelex](https://www.kaggle.com/lordozvlad/introduction-to-scikit-learn-intelex)!"
   ]
  },
  {
   "cell_type": "markdown",
   "metadata": {},
   "source": [
    "### Intel® Extension for Scikit-learn installation:"
   ]
  },
  {
   "cell_type": "markdown",
   "metadata": {},
   "source": [
    "### Import Libraries"
   ]
  },
  {
   "cell_type": "code",
   "execution_count": 1,
   "metadata": {},
   "outputs": [],
   "source": [
    "import pandas as pd\n",
    "import numpy as np\n",
    "import warnings\n",
    "import gc\n",
    "from IPython.display import HTML\n",
    "warnings.filterwarnings(\"ignore\")\n",
    "\n",
    "from math import sin, cos, pi\n",
    "\n",
    "from timeit import default_timer as timer\n",
    "import matplotlib.pyplot as plt\n",
    "\n",
    "random_state = 42"
   ]
  },
  {
   "cell_type": "code",
   "execution_count": 2,
   "metadata": {},
   "outputs": [
    {
     "name": "stderr",
     "output_type": "stream",
     "text": [
      "Intel(R) Extension for Scikit-learn* enabled (https://github.com/intel/scikit-learn-intelex)\n"
     ]
    }
   ],
   "source": [
    "from sklearnex import patch_sklearn\n",
    "patch_sklearn()"
   ]
  },
  {
   "cell_type": "markdown",
   "metadata": {},
   "source": [
    "### Reading Data"
   ]
  },
  {
   "cell_type": "code",
   "execution_count": 3,
   "metadata": {},
   "outputs": [],
   "source": [
    "PATH_TRAIN      = '/data/elastic-notebook/data/tabular-playground-series-mar-2022/train.csv'\n",
    "PATH_TEST       = '/data/elastic-notebook/data/tabular-playground-series-mar-2022/test.csv'\n",
    "PATH_SUBMISSION = '/data/elastic-notebook/data/tabular-playground-series-mar-2022/sample_submission.csv'"
   ]
  },
  {
   "cell_type": "code",
   "execution_count": 4,
   "metadata": {},
   "outputs": [],
   "source": [
    "train_data = pd.read_csv(PATH_TRAIN, parse_dates=['time'])\n",
    "test_data  = pd.read_csv(PATH_TEST, parse_dates=['time'])\n",
    "submission = pd.read_csv(PATH_SUBMISSION)"
   ]
  },
  {
   "cell_type": "code",
   "execution_count": 5,
   "metadata": {},
   "outputs": [
    {
     "data": {
      "text/html": [
       "<div>\n",
       "<style scoped>\n",
       "    .dataframe tbody tr th:only-of-type {\n",
       "        vertical-align: middle;\n",
       "    }\n",
       "\n",
       "    .dataframe tbody tr th {\n",
       "        vertical-align: top;\n",
       "    }\n",
       "\n",
       "    .dataframe thead th {\n",
       "        text-align: right;\n",
       "    }\n",
       "</style>\n",
       "<table border=\"1\" class=\"dataframe\">\n",
       "  <thead>\n",
       "    <tr style=\"text-align: right;\">\n",
       "      <th></th>\n",
       "      <th>row_id</th>\n",
       "      <th>time</th>\n",
       "      <th>x</th>\n",
       "      <th>y</th>\n",
       "      <th>direction</th>\n",
       "      <th>congestion</th>\n",
       "    </tr>\n",
       "  </thead>\n",
       "  <tbody>\n",
       "    <tr>\n",
       "      <th>0</th>\n",
       "      <td>0</td>\n",
       "      <td>1991-04-01</td>\n",
       "      <td>0</td>\n",
       "      <td>0</td>\n",
       "      <td>EB</td>\n",
       "      <td>70</td>\n",
       "    </tr>\n",
       "    <tr>\n",
       "      <th>1</th>\n",
       "      <td>1</td>\n",
       "      <td>1991-04-01</td>\n",
       "      <td>0</td>\n",
       "      <td>0</td>\n",
       "      <td>NB</td>\n",
       "      <td>49</td>\n",
       "    </tr>\n",
       "    <tr>\n",
       "      <th>2</th>\n",
       "      <td>2</td>\n",
       "      <td>1991-04-01</td>\n",
       "      <td>0</td>\n",
       "      <td>0</td>\n",
       "      <td>SB</td>\n",
       "      <td>24</td>\n",
       "    </tr>\n",
       "    <tr>\n",
       "      <th>3</th>\n",
       "      <td>3</td>\n",
       "      <td>1991-04-01</td>\n",
       "      <td>0</td>\n",
       "      <td>1</td>\n",
       "      <td>EB</td>\n",
       "      <td>18</td>\n",
       "    </tr>\n",
       "    <tr>\n",
       "      <th>4</th>\n",
       "      <td>4</td>\n",
       "      <td>1991-04-01</td>\n",
       "      <td>0</td>\n",
       "      <td>1</td>\n",
       "      <td>NB</td>\n",
       "      <td>60</td>\n",
       "    </tr>\n",
       "  </tbody>\n",
       "</table>\n",
       "</div>"
      ],
      "text/plain": [
       "   row_id       time  x  y direction  congestion\n",
       "0       0 1991-04-01  0  0        EB          70\n",
       "1       1 1991-04-01  0  0        NB          49\n",
       "2       2 1991-04-01  0  0        SB          24\n",
       "3       3 1991-04-01  0  1        EB          18\n",
       "4       4 1991-04-01  0  1        NB          60"
      ]
     },
     "execution_count": 5,
     "metadata": {},
     "output_type": "execute_result"
    }
   ],
   "source": [
    "train_data[:5]"
   ]
  },
  {
   "cell_type": "markdown",
   "metadata": {},
   "source": [
    "<a id=\"top\"></a>\n",
    "<div class=\"list-group\" id=\"list-tab\" role=\"tablist\">\n",
    "<h3 class=\"list-group-item list-group-item-action active\" data-toggle=\"list\" role=\"tab\" aria-controls=\"home\">Feature engineering</h3>\n",
    "    \n",
    "   * [Date-Related Features](#1)\n",
    "   * [Lag Features](#2)\n",
    "   * [Expanding Window Feature](#3)\n",
    "   * [Cyclical Features](#4)\n",
    "   "
   ]
  },
  {
   "cell_type": "markdown",
   "metadata": {},
   "source": [
    "<a id=\"1\"></a>\n",
    "### Date-Related Features\n",
    "<a href=\"#top\" class=\"btn btn-primary btn-sm\" role=\"button\" aria-pressed=\"true\" style=\"color:white\" data-toggle=\"popover\">Go to Feature engineering</a>"
   ]
  },
  {
   "cell_type": "code",
   "execution_count": 6,
   "metadata": {},
   "outputs": [],
   "source": [
    "train_data['year'] = train_data['time'].dt.year \n",
    "train_data['month'] = train_data['time'].dt.month \n",
    "train_data['day'] = train_data['time'].dt.day\n",
    "train_data['hour'] = train_data['time'].dt.hour\n",
    "train_data['minute'] = train_data['time'].dt.minute\n",
    "train_data['weekday'] = train_data['time'].dt.weekday\n",
    "train_data['dayofweek_num'] = train_data['time'].dt.dayofweek  \n",
    "\n",
    "test_data['year'] = test_data['time'].dt.year \n",
    "test_data['month'] = test_data['time'].dt.month \n",
    "test_data['day'] = test_data['time'].dt.day\n",
    "test_data['hour'] = test_data['time'].dt.hour\n",
    "test_data['minute'] = test_data['time'].dt.minute\n",
    "test_data['weekday'] = test_data['time'].dt.weekday\n",
    "test_data['dayofweek_num'] = test_data['time'].dt.dayofweek  "
   ]
  },
  {
   "cell_type": "code",
   "execution_count": 7,
   "metadata": {},
   "outputs": [
    {
     "data": {
      "text/html": [
       "<div>\n",
       "<style scoped>\n",
       "    .dataframe tbody tr th:only-of-type {\n",
       "        vertical-align: middle;\n",
       "    }\n",
       "\n",
       "    .dataframe tbody tr th {\n",
       "        vertical-align: top;\n",
       "    }\n",
       "\n",
       "    .dataframe thead th {\n",
       "        text-align: right;\n",
       "    }\n",
       "</style>\n",
       "<table border=\"1\" class=\"dataframe\">\n",
       "  <thead>\n",
       "    <tr style=\"text-align: right;\">\n",
       "      <th></th>\n",
       "      <th>row_id</th>\n",
       "      <th>time</th>\n",
       "      <th>x</th>\n",
       "      <th>y</th>\n",
       "      <th>direction</th>\n",
       "      <th>congestion</th>\n",
       "      <th>year</th>\n",
       "      <th>month</th>\n",
       "      <th>day</th>\n",
       "      <th>hour</th>\n",
       "      <th>minute</th>\n",
       "      <th>weekday</th>\n",
       "      <th>dayofweek_num</th>\n",
       "    </tr>\n",
       "  </thead>\n",
       "  <tbody>\n",
       "    <tr>\n",
       "      <th>0</th>\n",
       "      <td>0</td>\n",
       "      <td>1991-04-01</td>\n",
       "      <td>0</td>\n",
       "      <td>0</td>\n",
       "      <td>EB</td>\n",
       "      <td>70</td>\n",
       "      <td>1991</td>\n",
       "      <td>4</td>\n",
       "      <td>1</td>\n",
       "      <td>0</td>\n",
       "      <td>0</td>\n",
       "      <td>0</td>\n",
       "      <td>0</td>\n",
       "    </tr>\n",
       "    <tr>\n",
       "      <th>1</th>\n",
       "      <td>1</td>\n",
       "      <td>1991-04-01</td>\n",
       "      <td>0</td>\n",
       "      <td>0</td>\n",
       "      <td>NB</td>\n",
       "      <td>49</td>\n",
       "      <td>1991</td>\n",
       "      <td>4</td>\n",
       "      <td>1</td>\n",
       "      <td>0</td>\n",
       "      <td>0</td>\n",
       "      <td>0</td>\n",
       "      <td>0</td>\n",
       "    </tr>\n",
       "    <tr>\n",
       "      <th>2</th>\n",
       "      <td>2</td>\n",
       "      <td>1991-04-01</td>\n",
       "      <td>0</td>\n",
       "      <td>0</td>\n",
       "      <td>SB</td>\n",
       "      <td>24</td>\n",
       "      <td>1991</td>\n",
       "      <td>4</td>\n",
       "      <td>1</td>\n",
       "      <td>0</td>\n",
       "      <td>0</td>\n",
       "      <td>0</td>\n",
       "      <td>0</td>\n",
       "    </tr>\n",
       "    <tr>\n",
       "      <th>3</th>\n",
       "      <td>3</td>\n",
       "      <td>1991-04-01</td>\n",
       "      <td>0</td>\n",
       "      <td>1</td>\n",
       "      <td>EB</td>\n",
       "      <td>18</td>\n",
       "      <td>1991</td>\n",
       "      <td>4</td>\n",
       "      <td>1</td>\n",
       "      <td>0</td>\n",
       "      <td>0</td>\n",
       "      <td>0</td>\n",
       "      <td>0</td>\n",
       "    </tr>\n",
       "    <tr>\n",
       "      <th>4</th>\n",
       "      <td>4</td>\n",
       "      <td>1991-04-01</td>\n",
       "      <td>0</td>\n",
       "      <td>1</td>\n",
       "      <td>NB</td>\n",
       "      <td>60</td>\n",
       "      <td>1991</td>\n",
       "      <td>4</td>\n",
       "      <td>1</td>\n",
       "      <td>0</td>\n",
       "      <td>0</td>\n",
       "      <td>0</td>\n",
       "      <td>0</td>\n",
       "    </tr>\n",
       "  </tbody>\n",
       "</table>\n",
       "</div>"
      ],
      "text/plain": [
       "   row_id       time  x  y direction  congestion  year  month  day  hour  \\\n",
       "0       0 1991-04-01  0  0        EB          70  1991      4    1     0   \n",
       "1       1 1991-04-01  0  0        NB          49  1991      4    1     0   \n",
       "2       2 1991-04-01  0  0        SB          24  1991      4    1     0   \n",
       "3       3 1991-04-01  0  1        EB          18  1991      4    1     0   \n",
       "4       4 1991-04-01  0  1        NB          60  1991      4    1     0   \n",
       "\n",
       "   minute  weekday  dayofweek_num  \n",
       "0       0        0              0  \n",
       "1       0        0              0  \n",
       "2       0        0              0  \n",
       "3       0        0              0  \n",
       "4       0        0              0  "
      ]
     },
     "execution_count": 7,
     "metadata": {},
     "output_type": "execute_result"
    }
   ],
   "source": [
    "train_data[:5]"
   ]
  },
  {
   "cell_type": "markdown",
   "metadata": {},
   "source": [
    "<a id=\"2\"></a>\n",
    "### Lag Features\n",
    "<a href=\"#top\" class=\"btn btn-primary btn-sm\" role=\"button\" aria-pressed=\"true\" style=\"color:white\" data-toggle=\"popover\">Go to Feature engineering</a>"
   ]
  },
  {
   "cell_type": "code",
   "execution_count": 8,
   "metadata": {},
   "outputs": [],
   "source": [
    "train_data['lag_1'] = train_data['congestion'].shift(1)\n",
    "train_data['lag_2'] = train_data['congestion'].shift(2)\n",
    "train_data['lag_3'] = train_data['congestion'].shift(3)\n",
    "train_data['lag_4'] = train_data['congestion'].shift(4)\n",
    "train_data['lag_5'] = train_data['congestion'].shift(5)\n",
    "train_data['lag_6'] = train_data['congestion'].shift(6)\n",
    "train_data['lag_7'] = train_data['congestion'].shift(7)"
   ]
  },
  {
   "cell_type": "code",
   "execution_count": 9,
   "metadata": {},
   "outputs": [
    {
     "data": {
      "text/html": [
       "<div>\n",
       "<style scoped>\n",
       "    .dataframe tbody tr th:only-of-type {\n",
       "        vertical-align: middle;\n",
       "    }\n",
       "\n",
       "    .dataframe tbody tr th {\n",
       "        vertical-align: top;\n",
       "    }\n",
       "\n",
       "    .dataframe thead th {\n",
       "        text-align: right;\n",
       "    }\n",
       "</style>\n",
       "<table border=\"1\" class=\"dataframe\">\n",
       "  <thead>\n",
       "    <tr style=\"text-align: right;\">\n",
       "      <th></th>\n",
       "      <th>row_id</th>\n",
       "      <th>time</th>\n",
       "      <th>x</th>\n",
       "      <th>y</th>\n",
       "      <th>direction</th>\n",
       "      <th>congestion</th>\n",
       "      <th>year</th>\n",
       "      <th>month</th>\n",
       "      <th>day</th>\n",
       "      <th>hour</th>\n",
       "      <th>minute</th>\n",
       "      <th>weekday</th>\n",
       "      <th>dayofweek_num</th>\n",
       "      <th>lag_1</th>\n",
       "      <th>lag_2</th>\n",
       "      <th>lag_3</th>\n",
       "      <th>lag_4</th>\n",
       "      <th>lag_5</th>\n",
       "      <th>lag_6</th>\n",
       "      <th>lag_7</th>\n",
       "    </tr>\n",
       "  </thead>\n",
       "  <tbody>\n",
       "    <tr>\n",
       "      <th>0</th>\n",
       "      <td>0</td>\n",
       "      <td>1991-04-01</td>\n",
       "      <td>0</td>\n",
       "      <td>0</td>\n",
       "      <td>EB</td>\n",
       "      <td>70</td>\n",
       "      <td>1991</td>\n",
       "      <td>4</td>\n",
       "      <td>1</td>\n",
       "      <td>0</td>\n",
       "      <td>0</td>\n",
       "      <td>0</td>\n",
       "      <td>0</td>\n",
       "      <td>NaN</td>\n",
       "      <td>NaN</td>\n",
       "      <td>NaN</td>\n",
       "      <td>NaN</td>\n",
       "      <td>NaN</td>\n",
       "      <td>NaN</td>\n",
       "      <td>NaN</td>\n",
       "    </tr>\n",
       "    <tr>\n",
       "      <th>1</th>\n",
       "      <td>1</td>\n",
       "      <td>1991-04-01</td>\n",
       "      <td>0</td>\n",
       "      <td>0</td>\n",
       "      <td>NB</td>\n",
       "      <td>49</td>\n",
       "      <td>1991</td>\n",
       "      <td>4</td>\n",
       "      <td>1</td>\n",
       "      <td>0</td>\n",
       "      <td>0</td>\n",
       "      <td>0</td>\n",
       "      <td>0</td>\n",
       "      <td>70.0</td>\n",
       "      <td>NaN</td>\n",
       "      <td>NaN</td>\n",
       "      <td>NaN</td>\n",
       "      <td>NaN</td>\n",
       "      <td>NaN</td>\n",
       "      <td>NaN</td>\n",
       "    </tr>\n",
       "    <tr>\n",
       "      <th>2</th>\n",
       "      <td>2</td>\n",
       "      <td>1991-04-01</td>\n",
       "      <td>0</td>\n",
       "      <td>0</td>\n",
       "      <td>SB</td>\n",
       "      <td>24</td>\n",
       "      <td>1991</td>\n",
       "      <td>4</td>\n",
       "      <td>1</td>\n",
       "      <td>0</td>\n",
       "      <td>0</td>\n",
       "      <td>0</td>\n",
       "      <td>0</td>\n",
       "      <td>49.0</td>\n",
       "      <td>70.0</td>\n",
       "      <td>NaN</td>\n",
       "      <td>NaN</td>\n",
       "      <td>NaN</td>\n",
       "      <td>NaN</td>\n",
       "      <td>NaN</td>\n",
       "    </tr>\n",
       "    <tr>\n",
       "      <th>3</th>\n",
       "      <td>3</td>\n",
       "      <td>1991-04-01</td>\n",
       "      <td>0</td>\n",
       "      <td>1</td>\n",
       "      <td>EB</td>\n",
       "      <td>18</td>\n",
       "      <td>1991</td>\n",
       "      <td>4</td>\n",
       "      <td>1</td>\n",
       "      <td>0</td>\n",
       "      <td>0</td>\n",
       "      <td>0</td>\n",
       "      <td>0</td>\n",
       "      <td>24.0</td>\n",
       "      <td>49.0</td>\n",
       "      <td>70.0</td>\n",
       "      <td>NaN</td>\n",
       "      <td>NaN</td>\n",
       "      <td>NaN</td>\n",
       "      <td>NaN</td>\n",
       "    </tr>\n",
       "    <tr>\n",
       "      <th>4</th>\n",
       "      <td>4</td>\n",
       "      <td>1991-04-01</td>\n",
       "      <td>0</td>\n",
       "      <td>1</td>\n",
       "      <td>NB</td>\n",
       "      <td>60</td>\n",
       "      <td>1991</td>\n",
       "      <td>4</td>\n",
       "      <td>1</td>\n",
       "      <td>0</td>\n",
       "      <td>0</td>\n",
       "      <td>0</td>\n",
       "      <td>0</td>\n",
       "      <td>18.0</td>\n",
       "      <td>24.0</td>\n",
       "      <td>49.0</td>\n",
       "      <td>70.0</td>\n",
       "      <td>NaN</td>\n",
       "      <td>NaN</td>\n",
       "      <td>NaN</td>\n",
       "    </tr>\n",
       "  </tbody>\n",
       "</table>\n",
       "</div>"
      ],
      "text/plain": [
       "   row_id       time  x  y direction  congestion  year  month  day  hour  \\\n",
       "0       0 1991-04-01  0  0        EB          70  1991      4    1     0   \n",
       "1       1 1991-04-01  0  0        NB          49  1991      4    1     0   \n",
       "2       2 1991-04-01  0  0        SB          24  1991      4    1     0   \n",
       "3       3 1991-04-01  0  1        EB          18  1991      4    1     0   \n",
       "4       4 1991-04-01  0  1        NB          60  1991      4    1     0   \n",
       "\n",
       "   minute  weekday  dayofweek_num  lag_1  lag_2  lag_3  lag_4  lag_5  lag_6  \\\n",
       "0       0        0              0    NaN    NaN    NaN    NaN    NaN    NaN   \n",
       "1       0        0              0   70.0    NaN    NaN    NaN    NaN    NaN   \n",
       "2       0        0              0   49.0   70.0    NaN    NaN    NaN    NaN   \n",
       "3       0        0              0   24.0   49.0   70.0    NaN    NaN    NaN   \n",
       "4       0        0              0   18.0   24.0   49.0   70.0    NaN    NaN   \n",
       "\n",
       "   lag_7  \n",
       "0    NaN  \n",
       "1    NaN  \n",
       "2    NaN  \n",
       "3    NaN  \n",
       "4    NaN  "
      ]
     },
     "execution_count": 9,
     "metadata": {},
     "output_type": "execute_result"
    }
   ],
   "source": [
    "train_data[:5]"
   ]
  },
  {
   "cell_type": "markdown",
   "metadata": {},
   "source": [
    "<a id=\"3\"></a>\n",
    "### Expanding Window Feature\n",
    "<a href=\"#top\" class=\"btn btn-primary btn-sm\" role=\"button\" aria-pressed=\"true\" style=\"color:white\" data-toggle=\"popover\">Go to Feature engineering</a>"
   ]
  },
  {
   "cell_type": "code",
   "execution_count": 10,
   "metadata": {},
   "outputs": [],
   "source": [
    "train_data['expanding_mean'] = train_data['congestion'].expanding(2).mean()"
   ]
  },
  {
   "cell_type": "code",
   "execution_count": 11,
   "metadata": {},
   "outputs": [
    {
     "data": {
      "text/html": [
       "<div>\n",
       "<style scoped>\n",
       "    .dataframe tbody tr th:only-of-type {\n",
       "        vertical-align: middle;\n",
       "    }\n",
       "\n",
       "    .dataframe tbody tr th {\n",
       "        vertical-align: top;\n",
       "    }\n",
       "\n",
       "    .dataframe thead th {\n",
       "        text-align: right;\n",
       "    }\n",
       "</style>\n",
       "<table border=\"1\" class=\"dataframe\">\n",
       "  <thead>\n",
       "    <tr style=\"text-align: right;\">\n",
       "      <th></th>\n",
       "      <th>row_id</th>\n",
       "      <th>time</th>\n",
       "      <th>x</th>\n",
       "      <th>y</th>\n",
       "      <th>direction</th>\n",
       "      <th>congestion</th>\n",
       "      <th>year</th>\n",
       "      <th>month</th>\n",
       "      <th>day</th>\n",
       "      <th>hour</th>\n",
       "      <th>...</th>\n",
       "      <th>weekday</th>\n",
       "      <th>dayofweek_num</th>\n",
       "      <th>lag_1</th>\n",
       "      <th>lag_2</th>\n",
       "      <th>lag_3</th>\n",
       "      <th>lag_4</th>\n",
       "      <th>lag_5</th>\n",
       "      <th>lag_6</th>\n",
       "      <th>lag_7</th>\n",
       "      <th>expanding_mean</th>\n",
       "    </tr>\n",
       "  </thead>\n",
       "  <tbody>\n",
       "    <tr>\n",
       "      <th>0</th>\n",
       "      <td>0</td>\n",
       "      <td>1991-04-01</td>\n",
       "      <td>0</td>\n",
       "      <td>0</td>\n",
       "      <td>EB</td>\n",
       "      <td>70</td>\n",
       "      <td>1991</td>\n",
       "      <td>4</td>\n",
       "      <td>1</td>\n",
       "      <td>0</td>\n",
       "      <td>...</td>\n",
       "      <td>0</td>\n",
       "      <td>0</td>\n",
       "      <td>NaN</td>\n",
       "      <td>NaN</td>\n",
       "      <td>NaN</td>\n",
       "      <td>NaN</td>\n",
       "      <td>NaN</td>\n",
       "      <td>NaN</td>\n",
       "      <td>NaN</td>\n",
       "      <td>NaN</td>\n",
       "    </tr>\n",
       "    <tr>\n",
       "      <th>1</th>\n",
       "      <td>1</td>\n",
       "      <td>1991-04-01</td>\n",
       "      <td>0</td>\n",
       "      <td>0</td>\n",
       "      <td>NB</td>\n",
       "      <td>49</td>\n",
       "      <td>1991</td>\n",
       "      <td>4</td>\n",
       "      <td>1</td>\n",
       "      <td>0</td>\n",
       "      <td>...</td>\n",
       "      <td>0</td>\n",
       "      <td>0</td>\n",
       "      <td>70.0</td>\n",
       "      <td>NaN</td>\n",
       "      <td>NaN</td>\n",
       "      <td>NaN</td>\n",
       "      <td>NaN</td>\n",
       "      <td>NaN</td>\n",
       "      <td>NaN</td>\n",
       "      <td>59.500000</td>\n",
       "    </tr>\n",
       "    <tr>\n",
       "      <th>2</th>\n",
       "      <td>2</td>\n",
       "      <td>1991-04-01</td>\n",
       "      <td>0</td>\n",
       "      <td>0</td>\n",
       "      <td>SB</td>\n",
       "      <td>24</td>\n",
       "      <td>1991</td>\n",
       "      <td>4</td>\n",
       "      <td>1</td>\n",
       "      <td>0</td>\n",
       "      <td>...</td>\n",
       "      <td>0</td>\n",
       "      <td>0</td>\n",
       "      <td>49.0</td>\n",
       "      <td>70.0</td>\n",
       "      <td>NaN</td>\n",
       "      <td>NaN</td>\n",
       "      <td>NaN</td>\n",
       "      <td>NaN</td>\n",
       "      <td>NaN</td>\n",
       "      <td>47.666667</td>\n",
       "    </tr>\n",
       "    <tr>\n",
       "      <th>3</th>\n",
       "      <td>3</td>\n",
       "      <td>1991-04-01</td>\n",
       "      <td>0</td>\n",
       "      <td>1</td>\n",
       "      <td>EB</td>\n",
       "      <td>18</td>\n",
       "      <td>1991</td>\n",
       "      <td>4</td>\n",
       "      <td>1</td>\n",
       "      <td>0</td>\n",
       "      <td>...</td>\n",
       "      <td>0</td>\n",
       "      <td>0</td>\n",
       "      <td>24.0</td>\n",
       "      <td>49.0</td>\n",
       "      <td>70.0</td>\n",
       "      <td>NaN</td>\n",
       "      <td>NaN</td>\n",
       "      <td>NaN</td>\n",
       "      <td>NaN</td>\n",
       "      <td>40.250000</td>\n",
       "    </tr>\n",
       "    <tr>\n",
       "      <th>4</th>\n",
       "      <td>4</td>\n",
       "      <td>1991-04-01</td>\n",
       "      <td>0</td>\n",
       "      <td>1</td>\n",
       "      <td>NB</td>\n",
       "      <td>60</td>\n",
       "      <td>1991</td>\n",
       "      <td>4</td>\n",
       "      <td>1</td>\n",
       "      <td>0</td>\n",
       "      <td>...</td>\n",
       "      <td>0</td>\n",
       "      <td>0</td>\n",
       "      <td>18.0</td>\n",
       "      <td>24.0</td>\n",
       "      <td>49.0</td>\n",
       "      <td>70.0</td>\n",
       "      <td>NaN</td>\n",
       "      <td>NaN</td>\n",
       "      <td>NaN</td>\n",
       "      <td>44.200000</td>\n",
       "    </tr>\n",
       "  </tbody>\n",
       "</table>\n",
       "<p>5 rows × 21 columns</p>\n",
       "</div>"
      ],
      "text/plain": [
       "   row_id       time  x  y direction  congestion  year  month  day  hour  ...  \\\n",
       "0       0 1991-04-01  0  0        EB          70  1991      4    1     0  ...   \n",
       "1       1 1991-04-01  0  0        NB          49  1991      4    1     0  ...   \n",
       "2       2 1991-04-01  0  0        SB          24  1991      4    1     0  ...   \n",
       "3       3 1991-04-01  0  1        EB          18  1991      4    1     0  ...   \n",
       "4       4 1991-04-01  0  1        NB          60  1991      4    1     0  ...   \n",
       "\n",
       "   weekday  dayofweek_num  lag_1  lag_2  lag_3  lag_4  lag_5  lag_6  lag_7  \\\n",
       "0        0              0    NaN    NaN    NaN    NaN    NaN    NaN    NaN   \n",
       "1        0              0   70.0    NaN    NaN    NaN    NaN    NaN    NaN   \n",
       "2        0              0   49.0   70.0    NaN    NaN    NaN    NaN    NaN   \n",
       "3        0              0   24.0   49.0   70.0    NaN    NaN    NaN    NaN   \n",
       "4        0              0   18.0   24.0   49.0   70.0    NaN    NaN    NaN   \n",
       "\n",
       "   expanding_mean  \n",
       "0             NaN  \n",
       "1       59.500000  \n",
       "2       47.666667  \n",
       "3       40.250000  \n",
       "4       44.200000  \n",
       "\n",
       "[5 rows x 21 columns]"
      ]
     },
     "execution_count": 11,
     "metadata": {},
     "output_type": "execute_result"
    }
   ],
   "source": [
    "train_data[:5]"
   ]
  },
  {
   "cell_type": "markdown",
   "metadata": {},
   "source": [
    "<a id=\"4\"></a>\n",
    "### Cyclical Features\n",
    "<a href=\"#top\" class=\"btn btn-primary btn-sm\" role=\"button\" aria-pressed=\"true\" style=\"color:white\" data-toggle=\"popover\">Go to Feature engineering</a>"
   ]
  },
  {
   "cell_type": "markdown",
   "metadata": {},
   "source": [
    "For this features engineering techniques thank you [Inversion](https://www.kaggle.com/inversion) and his wonderfull [notebook](https://www.kaggle.com/inversion/tps-mar-22-cyclical-features)."
   ]
  },
  {
   "cell_type": "code",
   "execution_count": 12,
   "metadata": {},
   "outputs": [],
   "source": [
    "sin_vals = {\n",
    "    'NB': 0.0,\n",
    "    'NE': sin(1 * pi/4),\n",
    "    'EB': 1.0,\n",
    "    'SE': sin(3 * pi/4),\n",
    "    'SB': 0.0,\n",
    "    'SW': sin(5 * pi/4),    \n",
    "    'WB': -1.0,    \n",
    "    'NW': sin(7 * pi/4),  \n",
    "    }\n",
    "\n",
    "cos_vals = {\n",
    "    'NB': 1.0,\n",
    "    'NE': cos(1 * pi/4),\n",
    "    'EB': 0.0,\n",
    "    'SE': cos(3 * pi/4),\n",
    "    'SB': -1.0,\n",
    "    'SW': cos(5 * pi/4),    \n",
    "    'WB': 0.0,    \n",
    "    'NW': cos(7 * pi/4),  \n",
    "    }\n",
    "\n",
    "\n",
    "train_data['sin'] = train_data['direction'].map(sin_vals)\n",
    "test_data['sin'] = test_data['direction'].map(sin_vals)\n",
    "\n",
    "train_data['cos'] = train_data['direction'].map(cos_vals)\n",
    "test_data['cos'] = test_data['direction'].map(cos_vals)"
   ]
  },
  {
   "cell_type": "code",
   "execution_count": 13,
   "metadata": {},
   "outputs": [],
   "source": [
    "encoded_vals = {\n",
    "    'NB': 0,\n",
    "    'NE': 1,\n",
    "    'EB': 2,\n",
    "    'SE': 3,\n",
    "    'SB': 4,\n",
    "    'SW': 5,\n",
    "    'WB': 6, \n",
    "    'NW': 7,\n",
    "    }\n",
    "\n",
    "train_data['direction'] = train_data['direction'].map(encoded_vals)\n",
    "test_data['direction'] = test_data['direction'].map(encoded_vals)"
   ]
  },
  {
   "cell_type": "code",
   "execution_count": 14,
   "metadata": {},
   "outputs": [],
   "source": [
    "train_data['hour_sin'] = np.sin(2 * np.pi * train_data['hour']/23.0)\n",
    "train_data['hour_cos'] = np.cos(2 * np.pi * train_data['hour']/23.0)\n",
    "train_data['minute_sin'] = np.sin(2 * np.pi * train_data['minute']/59.0)\n",
    "train_data['minute_cos'] = np.cos(2 * np.pi * train_data['minute']/59.0)\n",
    "\n",
    "test_data['hour_sin'] = np.sin(2 * np.pi * test_data['hour']/23.0)\n",
    "test_data['hour_cos'] = np.cos(2 * np.pi * test_data['hour']/23.0)\n",
    "test_data['minute_sin'] = np.sin(2 * np.pi * test_data['minute']/59.0)\n",
    "test_data['minute_cos'] = np.cos(2 * np.pi * test_data['minute']/59.0)"
   ]
  },
  {
   "cell_type": "code",
   "execution_count": 15,
   "metadata": {},
   "outputs": [
    {
     "data": {
      "text/html": [
       "<div>\n",
       "<style scoped>\n",
       "    .dataframe tbody tr th:only-of-type {\n",
       "        vertical-align: middle;\n",
       "    }\n",
       "\n",
       "    .dataframe tbody tr th {\n",
       "        vertical-align: top;\n",
       "    }\n",
       "\n",
       "    .dataframe thead th {\n",
       "        text-align: right;\n",
       "    }\n",
       "</style>\n",
       "<table border=\"1\" class=\"dataframe\">\n",
       "  <thead>\n",
       "    <tr style=\"text-align: right;\">\n",
       "      <th></th>\n",
       "      <th>row_id</th>\n",
       "      <th>time</th>\n",
       "      <th>x</th>\n",
       "      <th>y</th>\n",
       "      <th>direction</th>\n",
       "      <th>congestion</th>\n",
       "      <th>year</th>\n",
       "      <th>month</th>\n",
       "      <th>day</th>\n",
       "      <th>hour</th>\n",
       "      <th>...</th>\n",
       "      <th>lag_5</th>\n",
       "      <th>lag_6</th>\n",
       "      <th>lag_7</th>\n",
       "      <th>expanding_mean</th>\n",
       "      <th>sin</th>\n",
       "      <th>cos</th>\n",
       "      <th>hour_sin</th>\n",
       "      <th>hour_cos</th>\n",
       "      <th>minute_sin</th>\n",
       "      <th>minute_cos</th>\n",
       "    </tr>\n",
       "  </thead>\n",
       "  <tbody>\n",
       "    <tr>\n",
       "      <th>0</th>\n",
       "      <td>0</td>\n",
       "      <td>1991-04-01</td>\n",
       "      <td>0</td>\n",
       "      <td>0</td>\n",
       "      <td>2</td>\n",
       "      <td>70</td>\n",
       "      <td>1991</td>\n",
       "      <td>4</td>\n",
       "      <td>1</td>\n",
       "      <td>0</td>\n",
       "      <td>...</td>\n",
       "      <td>NaN</td>\n",
       "      <td>NaN</td>\n",
       "      <td>NaN</td>\n",
       "      <td>NaN</td>\n",
       "      <td>1.0</td>\n",
       "      <td>0.0</td>\n",
       "      <td>0.0</td>\n",
       "      <td>1.0</td>\n",
       "      <td>0.0</td>\n",
       "      <td>1.0</td>\n",
       "    </tr>\n",
       "    <tr>\n",
       "      <th>1</th>\n",
       "      <td>1</td>\n",
       "      <td>1991-04-01</td>\n",
       "      <td>0</td>\n",
       "      <td>0</td>\n",
       "      <td>0</td>\n",
       "      <td>49</td>\n",
       "      <td>1991</td>\n",
       "      <td>4</td>\n",
       "      <td>1</td>\n",
       "      <td>0</td>\n",
       "      <td>...</td>\n",
       "      <td>NaN</td>\n",
       "      <td>NaN</td>\n",
       "      <td>NaN</td>\n",
       "      <td>59.500000</td>\n",
       "      <td>0.0</td>\n",
       "      <td>1.0</td>\n",
       "      <td>0.0</td>\n",
       "      <td>1.0</td>\n",
       "      <td>0.0</td>\n",
       "      <td>1.0</td>\n",
       "    </tr>\n",
       "    <tr>\n",
       "      <th>2</th>\n",
       "      <td>2</td>\n",
       "      <td>1991-04-01</td>\n",
       "      <td>0</td>\n",
       "      <td>0</td>\n",
       "      <td>4</td>\n",
       "      <td>24</td>\n",
       "      <td>1991</td>\n",
       "      <td>4</td>\n",
       "      <td>1</td>\n",
       "      <td>0</td>\n",
       "      <td>...</td>\n",
       "      <td>NaN</td>\n",
       "      <td>NaN</td>\n",
       "      <td>NaN</td>\n",
       "      <td>47.666667</td>\n",
       "      <td>0.0</td>\n",
       "      <td>-1.0</td>\n",
       "      <td>0.0</td>\n",
       "      <td>1.0</td>\n",
       "      <td>0.0</td>\n",
       "      <td>1.0</td>\n",
       "    </tr>\n",
       "    <tr>\n",
       "      <th>3</th>\n",
       "      <td>3</td>\n",
       "      <td>1991-04-01</td>\n",
       "      <td>0</td>\n",
       "      <td>1</td>\n",
       "      <td>2</td>\n",
       "      <td>18</td>\n",
       "      <td>1991</td>\n",
       "      <td>4</td>\n",
       "      <td>1</td>\n",
       "      <td>0</td>\n",
       "      <td>...</td>\n",
       "      <td>NaN</td>\n",
       "      <td>NaN</td>\n",
       "      <td>NaN</td>\n",
       "      <td>40.250000</td>\n",
       "      <td>1.0</td>\n",
       "      <td>0.0</td>\n",
       "      <td>0.0</td>\n",
       "      <td>1.0</td>\n",
       "      <td>0.0</td>\n",
       "      <td>1.0</td>\n",
       "    </tr>\n",
       "    <tr>\n",
       "      <th>4</th>\n",
       "      <td>4</td>\n",
       "      <td>1991-04-01</td>\n",
       "      <td>0</td>\n",
       "      <td>1</td>\n",
       "      <td>0</td>\n",
       "      <td>60</td>\n",
       "      <td>1991</td>\n",
       "      <td>4</td>\n",
       "      <td>1</td>\n",
       "      <td>0</td>\n",
       "      <td>...</td>\n",
       "      <td>NaN</td>\n",
       "      <td>NaN</td>\n",
       "      <td>NaN</td>\n",
       "      <td>44.200000</td>\n",
       "      <td>0.0</td>\n",
       "      <td>1.0</td>\n",
       "      <td>0.0</td>\n",
       "      <td>1.0</td>\n",
       "      <td>0.0</td>\n",
       "      <td>1.0</td>\n",
       "    </tr>\n",
       "  </tbody>\n",
       "</table>\n",
       "<p>5 rows × 27 columns</p>\n",
       "</div>"
      ],
      "text/plain": [
       "   row_id       time  x  y  direction  congestion  year  month  day  hour  \\\n",
       "0       0 1991-04-01  0  0          2          70  1991      4    1     0   \n",
       "1       1 1991-04-01  0  0          0          49  1991      4    1     0   \n",
       "2       2 1991-04-01  0  0          4          24  1991      4    1     0   \n",
       "3       3 1991-04-01  0  1          2          18  1991      4    1     0   \n",
       "4       4 1991-04-01  0  1          0          60  1991      4    1     0   \n",
       "\n",
       "   ...  lag_5  lag_6  lag_7  expanding_mean  sin  cos  hour_sin  hour_cos  \\\n",
       "0  ...    NaN    NaN    NaN             NaN  1.0  0.0       0.0       1.0   \n",
       "1  ...    NaN    NaN    NaN       59.500000  0.0  1.0       0.0       1.0   \n",
       "2  ...    NaN    NaN    NaN       47.666667  0.0 -1.0       0.0       1.0   \n",
       "3  ...    NaN    NaN    NaN       40.250000  1.0  0.0       0.0       1.0   \n",
       "4  ...    NaN    NaN    NaN       44.200000  0.0  1.0       0.0       1.0   \n",
       "\n",
       "   minute_sin  minute_cos  \n",
       "0         0.0         1.0  \n",
       "1         0.0         1.0  \n",
       "2         0.0         1.0  \n",
       "3         0.0         1.0  \n",
       "4         0.0         1.0  \n",
       "\n",
       "[5 rows x 27 columns]"
      ]
     },
     "execution_count": 15,
     "metadata": {},
     "output_type": "execute_result"
    }
   ],
   "source": [
    "train_data[:5]"
   ]
  },
  {
   "cell_type": "code",
   "execution_count": 16,
   "metadata": {},
   "outputs": [],
   "source": [
    "train_data = train_data.fillna(0)"
   ]
  },
  {
   "cell_type": "code",
   "execution_count": 17,
   "metadata": {},
   "outputs": [],
   "source": [
    "train_data = train_data.drop('time', axis='columns')\n",
    "test_data = test_data.drop('time', axis='columns')"
   ]
  },
  {
   "cell_type": "code",
   "execution_count": 18,
   "metadata": {},
   "outputs": [],
   "source": [
    "X, y = train_data.drop(['congestion'], axis = 1), train_data['congestion']"
   ]
  },
  {
   "cell_type": "code",
   "execution_count": 19,
   "metadata": {},
   "outputs": [],
   "source": [
    "from sklearn.model_selection import train_test_split\n",
    "\n",
    "X_train, X_val, y_train, y_val = train_test_split(X, y, test_size = 0.2, random_state = 42)"
   ]
  },
  {
   "cell_type": "markdown",
   "metadata": {},
   "source": [
    "### ELI5"
   ]
  },
  {
   "cell_type": "markdown",
   "metadata": {},
   "source": [
    "ELI5 provides a way to compute feature importances for any black-box estimator by measuring how score decreases when a feature is not available."
   ]
  },
  {
   "cell_type": "code",
   "execution_count": 20,
   "metadata": {},
   "outputs": [
    {
     "name": "stderr",
     "output_type": "stream",
     "text": [
      "2024-04-16 10:09:07.308573: I tensorflow/tsl/cuda/cudart_stub.cc:28] Could not find cuda drivers on your machine, GPU will not be used.\n",
      "2024-04-16 10:09:07.360606: I tensorflow/tsl/cuda/cudart_stub.cc:28] Could not find cuda drivers on your machine, GPU will not be used.\n",
      "2024-04-16 10:09:07.361434: I tensorflow/core/platform/cpu_feature_guard.cc:182] This TensorFlow binary is optimized to use available CPU instructions in performance-critical operations.\n",
      "To enable the following instructions: AVX2 FMA, in other operations, rebuild TensorFlow with the appropriate compiler flags.\n",
      "2024-04-16 10:09:08.550268: W tensorflow/compiler/tf2tensorrt/utils/py_utils.cc:38] TF-TRT Warning: Could not find TensorRT\n"
     ]
    }
   ],
   "source": [
    "import eli5\n",
    "from eli5.sklearn import PermutationImportance"
   ]
  },
  {
   "cell_type": "code",
   "execution_count": 21,
   "metadata": {},
   "outputs": [],
   "source": [
    "from sklearn.ensemble import RandomForestRegressor"
   ]
  },
  {
   "cell_type": "code",
   "execution_count": 22,
   "metadata": {},
   "outputs": [],
   "source": [
    "timeFirstI  = timer()\n",
    "modelRF     = RandomForestRegressor(n_estimators = 100, random_state = 42, max_depth = 5, n_jobs = -1).fit(X_train, y_train)\n",
    "perm        = PermutationImportance(modelRF, random_state = 42).fit(X_val, y_val)\n",
    "timeSecondI = timer()"
   ]
  },
  {
   "cell_type": "code",
   "execution_count": 23,
   "metadata": {},
   "outputs": [
    {
     "name": "stdout",
     "output_type": "stream",
     "text": [
      "Total time with Intel Extension: 9.453734457492828 seconds\n"
     ]
    }
   ],
   "source": [
    "print(\"Total time with Intel Extension: {} seconds\".format(timeSecondI - timeFirstI))"
   ]
  },
  {
   "cell_type": "code",
   "execution_count": 24,
   "metadata": {},
   "outputs": [
    {
     "data": {
      "text/html": [
       "\n",
       "    <style>\n",
       "    table.eli5-weights tr:hover {\n",
       "        filter: brightness(85%);\n",
       "    }\n",
       "</style>\n",
       "\n",
       "\n",
       "\n",
       "    \n",
       "\n",
       "    \n",
       "\n",
       "    \n",
       "\n",
       "    \n",
       "\n",
       "    \n",
       "\n",
       "    \n",
       "\n",
       "\n",
       "    \n",
       "\n",
       "    \n",
       "\n",
       "    \n",
       "\n",
       "    \n",
       "\n",
       "    \n",
       "\n",
       "    \n",
       "\n",
       "\n",
       "    \n",
       "\n",
       "    \n",
       "\n",
       "    \n",
       "\n",
       "    \n",
       "\n",
       "    \n",
       "        <table class=\"eli5-weights eli5-feature-importances\" style=\"border-collapse: collapse; border: none; margin-top: 0em; table-layout: auto;\">\n",
       "    <thead>\n",
       "    <tr style=\"border: none;\">\n",
       "        <th style=\"padding: 0 1em 0 0.5em; text-align: right; border: none;\">Weight</th>\n",
       "        <th style=\"padding: 0 0.5em 0 0.5em; text-align: left; border: none;\">Feature</th>\n",
       "    </tr>\n",
       "    </thead>\n",
       "    <tbody>\n",
       "    \n",
       "        <tr style=\"background-color: hsl(120, 100.00%, 80.00%); border: none;\">\n",
       "            <td style=\"padding: 0 1em 0 0.5em; text-align: right; border: none;\">\n",
       "                0.1647\n",
       "                \n",
       "                    &plusmn; 0.0031\n",
       "                \n",
       "            </td>\n",
       "            <td style=\"padding: 0 0.5em 0 0.5em; text-align: left; border: none;\">\n",
       "                y\n",
       "            </td>\n",
       "        </tr>\n",
       "    \n",
       "        <tr style=\"background-color: hsl(120, 100.00%, 82.64%); border: none;\">\n",
       "            <td style=\"padding: 0 1em 0 0.5em; text-align: right; border: none;\">\n",
       "                0.1346\n",
       "                \n",
       "                    &plusmn; 0.0017\n",
       "                \n",
       "            </td>\n",
       "            <td style=\"padding: 0 0.5em 0 0.5em; text-align: left; border: none;\">\n",
       "                cos\n",
       "            </td>\n",
       "        </tr>\n",
       "    \n",
       "        <tr style=\"background-color: hsl(120, 100.00%, 84.25%); border: none;\">\n",
       "            <td style=\"padding: 0 1em 0 0.5em; text-align: right; border: none;\">\n",
       "                0.1171\n",
       "                \n",
       "                    &plusmn; 0.0016\n",
       "                \n",
       "            </td>\n",
       "            <td style=\"padding: 0 0.5em 0 0.5em; text-align: left; border: none;\">\n",
       "                direction\n",
       "            </td>\n",
       "        </tr>\n",
       "    \n",
       "        <tr style=\"background-color: hsl(120, 100.00%, 90.30%); border: none;\">\n",
       "            <td style=\"padding: 0 1em 0 0.5em; text-align: right; border: none;\">\n",
       "                0.0586\n",
       "                \n",
       "                    &plusmn; 0.0013\n",
       "                \n",
       "            </td>\n",
       "            <td style=\"padding: 0 0.5em 0 0.5em; text-align: left; border: none;\">\n",
       "                hour_sin\n",
       "            </td>\n",
       "        </tr>\n",
       "    \n",
       "        <tr style=\"background-color: hsl(120, 100.00%, 93.57%); border: none;\">\n",
       "            <td style=\"padding: 0 1em 0 0.5em; text-align: right; border: none;\">\n",
       "                0.0325\n",
       "                \n",
       "                    &plusmn; 0.0008\n",
       "                \n",
       "            </td>\n",
       "            <td style=\"padding: 0 0.5em 0 0.5em; text-align: left; border: none;\">\n",
       "                x\n",
       "            </td>\n",
       "        </tr>\n",
       "    \n",
       "        <tr style=\"background-color: hsl(120, 100.00%, 94.61%); border: none;\">\n",
       "            <td style=\"padding: 0 1em 0 0.5em; text-align: right; border: none;\">\n",
       "                0.0253\n",
       "                \n",
       "                    &plusmn; 0.0010\n",
       "                \n",
       "            </td>\n",
       "            <td style=\"padding: 0 0.5em 0 0.5em; text-align: left; border: none;\">\n",
       "                lag_2\n",
       "            </td>\n",
       "        </tr>\n",
       "    \n",
       "        <tr style=\"background-color: hsl(120, 100.00%, 95.03%); border: none;\">\n",
       "            <td style=\"padding: 0 1em 0 0.5em; text-align: right; border: none;\">\n",
       "                0.0226\n",
       "                \n",
       "                    &plusmn; 0.0006\n",
       "                \n",
       "            </td>\n",
       "            <td style=\"padding: 0 0.5em 0 0.5em; text-align: left; border: none;\">\n",
       "                lag_1\n",
       "            </td>\n",
       "        </tr>\n",
       "    \n",
       "        <tr style=\"background-color: hsl(120, 100.00%, 95.83%); border: none;\">\n",
       "            <td style=\"padding: 0 1em 0 0.5em; text-align: right; border: none;\">\n",
       "                0.0176\n",
       "                \n",
       "                    &plusmn; 0.0003\n",
       "                \n",
       "            </td>\n",
       "            <td style=\"padding: 0 0.5em 0 0.5em; text-align: left; border: none;\">\n",
       "                lag_6\n",
       "            </td>\n",
       "        </tr>\n",
       "    \n",
       "        <tr style=\"background-color: hsl(120, 100.00%, 96.11%); border: none;\">\n",
       "            <td style=\"padding: 0 1em 0 0.5em; text-align: right; border: none;\">\n",
       "                0.0159\n",
       "                \n",
       "                    &plusmn; 0.0002\n",
       "                \n",
       "            </td>\n",
       "            <td style=\"padding: 0 0.5em 0 0.5em; text-align: left; border: none;\">\n",
       "                lag_7\n",
       "            </td>\n",
       "        </tr>\n",
       "    \n",
       "        <tr style=\"background-color: hsl(120, 100.00%, 96.69%); border: none;\">\n",
       "            <td style=\"padding: 0 1em 0 0.5em; text-align: right; border: none;\">\n",
       "                0.0126\n",
       "                \n",
       "                    &plusmn; 0.0004\n",
       "                \n",
       "            </td>\n",
       "            <td style=\"padding: 0 0.5em 0 0.5em; text-align: left; border: none;\">\n",
       "                lag_3\n",
       "            </td>\n",
       "        </tr>\n",
       "    \n",
       "        <tr style=\"background-color: hsl(120, 100.00%, 97.48%); border: none;\">\n",
       "            <td style=\"padding: 0 1em 0 0.5em; text-align: right; border: none;\">\n",
       "                0.0085\n",
       "                \n",
       "                    &plusmn; 0.0007\n",
       "                \n",
       "            </td>\n",
       "            <td style=\"padding: 0 0.5em 0 0.5em; text-align: left; border: none;\">\n",
       "                hour_cos\n",
       "            </td>\n",
       "        </tr>\n",
       "    \n",
       "        <tr style=\"background-color: hsl(120, 100.00%, 97.73%); border: none;\">\n",
       "            <td style=\"padding: 0 1em 0 0.5em; text-align: right; border: none;\">\n",
       "                0.0073\n",
       "                \n",
       "                    &plusmn; 0.0001\n",
       "                \n",
       "            </td>\n",
       "            <td style=\"padding: 0 0.5em 0 0.5em; text-align: left; border: none;\">\n",
       "                lag_4\n",
       "            </td>\n",
       "        </tr>\n",
       "    \n",
       "        <tr style=\"background-color: hsl(120, 100.00%, 98.85%); border: none;\">\n",
       "            <td style=\"padding: 0 1em 0 0.5em; text-align: right; border: none;\">\n",
       "                0.0028\n",
       "                \n",
       "                    &plusmn; 0.0001\n",
       "                \n",
       "            </td>\n",
       "            <td style=\"padding: 0 0.5em 0 0.5em; text-align: left; border: none;\">\n",
       "                hour\n",
       "            </td>\n",
       "        </tr>\n",
       "    \n",
       "        <tr style=\"background-color: hsl(120, 100.00%, 99.06%); border: none;\">\n",
       "            <td style=\"padding: 0 1em 0 0.5em; text-align: right; border: none;\">\n",
       "                0.0021\n",
       "                \n",
       "                    &plusmn; 0.0000\n",
       "                \n",
       "            </td>\n",
       "            <td style=\"padding: 0 0.5em 0 0.5em; text-align: left; border: none;\">\n",
       "                sin\n",
       "            </td>\n",
       "        </tr>\n",
       "    \n",
       "        <tr style=\"background-color: hsl(120, 100.00%, 99.67%); border: none;\">\n",
       "            <td style=\"padding: 0 1em 0 0.5em; text-align: right; border: none;\">\n",
       "                0.0005\n",
       "                \n",
       "                    &plusmn; 0.0000\n",
       "                \n",
       "            </td>\n",
       "            <td style=\"padding: 0 0.5em 0 0.5em; text-align: left; border: none;\">\n",
       "                row_id\n",
       "            </td>\n",
       "        </tr>\n",
       "    \n",
       "        <tr style=\"background-color: hsl(120, 100.00%, 99.86%); border: none;\">\n",
       "            <td style=\"padding: 0 1em 0 0.5em; text-align: right; border: none;\">\n",
       "                0.0001\n",
       "                \n",
       "                    &plusmn; 0.0000\n",
       "                \n",
       "            </td>\n",
       "            <td style=\"padding: 0 0.5em 0 0.5em; text-align: left; border: none;\">\n",
       "                lag_5\n",
       "            </td>\n",
       "        </tr>\n",
       "    \n",
       "        <tr style=\"background-color: hsl(120, 100.00%, 99.90%); border: none;\">\n",
       "            <td style=\"padding: 0 1em 0 0.5em; text-align: right; border: none;\">\n",
       "                0.0001\n",
       "                \n",
       "                    &plusmn; 0.0001\n",
       "                \n",
       "            </td>\n",
       "            <td style=\"padding: 0 0.5em 0 0.5em; text-align: left; border: none;\">\n",
       "                dayofweek_num\n",
       "            </td>\n",
       "        </tr>\n",
       "    \n",
       "        <tr style=\"background-color: hsl(120, 100.00%, 99.90%); border: none;\">\n",
       "            <td style=\"padding: 0 1em 0 0.5em; text-align: right; border: none;\">\n",
       "                0.0001\n",
       "                \n",
       "                    &plusmn; 0.0001\n",
       "                \n",
       "            </td>\n",
       "            <td style=\"padding: 0 0.5em 0 0.5em; text-align: left; border: none;\">\n",
       "                weekday\n",
       "            </td>\n",
       "        </tr>\n",
       "    \n",
       "        <tr style=\"background-color: hsl(120, 100.00%, 99.97%); border: none;\">\n",
       "            <td style=\"padding: 0 1em 0 0.5em; text-align: right; border: none;\">\n",
       "                0.0000\n",
       "                \n",
       "                    &plusmn; 0.0000\n",
       "                \n",
       "            </td>\n",
       "            <td style=\"padding: 0 0.5em 0 0.5em; text-align: left; border: none;\">\n",
       "                expanding_mean\n",
       "            </td>\n",
       "        </tr>\n",
       "    \n",
       "        <tr style=\"background-color: hsl(0, 100.00%, 100.00%); border: none;\">\n",
       "            <td style=\"padding: 0 1em 0 0.5em; text-align: right; border: none;\">\n",
       "                0\n",
       "                \n",
       "                    &plusmn; 0.0000\n",
       "                \n",
       "            </td>\n",
       "            <td style=\"padding: 0 0.5em 0 0.5em; text-align: left; border: none;\">\n",
       "                year\n",
       "            </td>\n",
       "        </tr>\n",
       "    \n",
       "    \n",
       "        \n",
       "            <tr style=\"background-color: hsl(0, 100.00%, 100.00%); border: none;\">\n",
       "                <td colspan=\"2\" style=\"padding: 0 0.5em 0 0.5em; text-align: center; border: none; white-space: nowrap;\">\n",
       "                    <i>&hellip; 5 more &hellip;</i>\n",
       "                </td>\n",
       "            </tr>\n",
       "        \n",
       "    \n",
       "    </tbody>\n",
       "</table>\n",
       "    \n",
       "\n",
       "    \n",
       "\n",
       "\n",
       "    \n",
       "\n",
       "    \n",
       "\n",
       "    \n",
       "\n",
       "    \n",
       "\n",
       "    \n",
       "\n",
       "    \n",
       "\n",
       "\n",
       "\n"
      ],
      "text/plain": [
       "<IPython.core.display.HTML object>"
      ]
     },
     "execution_count": 24,
     "metadata": {},
     "output_type": "execute_result"
    }
   ],
   "source": [
    "eli5.show_weights(perm, feature_names = X.columns.tolist())"
   ]
  },
  {
   "cell_type": "code",
   "execution_count": 25,
   "metadata": {},
   "outputs": [],
   "source": [
    "pi_features = eli5.explain_weights_df(perm, feature_names = X_train.columns.tolist())\n",
    "pi_features = pi_features.loc[pi_features['weight'] >= 0.005]['feature'].tolist()"
   ]
  },
  {
   "cell_type": "code",
   "execution_count": 26,
   "metadata": {},
   "outputs": [
    {
     "data": {
      "text/plain": [
       "['y',\n",
       " 'cos',\n",
       " 'direction',\n",
       " 'hour_sin',\n",
       " 'x',\n",
       " 'lag_2',\n",
       " 'lag_1',\n",
       " 'lag_6',\n",
       " 'lag_7',\n",
       " 'lag_3',\n",
       " 'hour_cos',\n",
       " 'lag_4']"
      ]
     },
     "execution_count": 26,
     "metadata": {},
     "output_type": "execute_result"
    }
   ],
   "source": [
    "pi_features"
   ]
  },
  {
   "cell_type": "code",
   "execution_count": 27,
   "metadata": {},
   "outputs": [],
   "source": [
    "X_trains = X_train.loc[:, pi_features]"
   ]
  },
  {
   "cell_type": "code",
   "execution_count": 28,
   "metadata": {},
   "outputs": [
    {
     "data": {
      "text/plain": [
       "['y', 'cos', 'direction', 'hour_sin', 'x', 'hour_cos']"
      ]
     },
     "execution_count": 28,
     "metadata": {},
     "output_type": "execute_result"
    }
   ],
   "source": [
    "train_features = []\n",
    "for features in pi_features:\n",
    "    if features[:3] != 'lag' and features != 'expanding_mean':\n",
    "        train_features.append(features)\n",
    "\n",
    "train_features"
   ]
  },
  {
   "cell_type": "code",
   "execution_count": 29,
   "metadata": {},
   "outputs": [],
   "source": [
    "X_trainRF = X_train.loc[:, train_features]"
   ]
  },
  {
   "cell_type": "code",
   "execution_count": 30,
   "metadata": {},
   "outputs": [
    {
     "data": {
      "text/plain": [
       "['y', 'cos', 'direction', 'hour_sin', 'x', 'hour_cos']"
      ]
     },
     "execution_count": 30,
     "metadata": {},
     "output_type": "execute_result"
    }
   ],
   "source": [
    "test_features = []\n",
    "for features in pi_features:\n",
    "    if features[:3] != 'lag' and features != 'expanding_mean':\n",
    "        test_features.append(features)\n",
    "\n",
    "test_features"
   ]
  },
  {
   "cell_type": "code",
   "execution_count": 31,
   "metadata": {},
   "outputs": [],
   "source": [
    "test_data = test_data.loc[:, test_features]"
   ]
  },
  {
   "cell_type": "markdown",
   "metadata": {},
   "source": [
    "### Default Scikit-learn"
   ]
  },
  {
   "cell_type": "code",
   "execution_count": 32,
   "metadata": {},
   "outputs": [],
   "source": [
    "from sklearnex import unpatch_sklearn\n",
    "unpatch_sklearn()"
   ]
  },
  {
   "cell_type": "code",
   "execution_count": 33,
   "metadata": {},
   "outputs": [],
   "source": [
    "import eli5\n",
    "from eli5.sklearn import PermutationImportance"
   ]
  },
  {
   "cell_type": "code",
   "execution_count": 34,
   "metadata": {},
   "outputs": [],
   "source": [
    "from sklearn.ensemble import RandomForestRegressor"
   ]
  },
  {
   "cell_type": "code",
   "execution_count": 35,
   "metadata": {},
   "outputs": [],
   "source": [
    "timeFirstD  = timer()\n",
    "modelRF     = RandomForestRegressor(n_estimators = 100, random_state = 42, max_depth = 5, n_jobs = -1).fit(X_train, y_train)\n",
    "perm        = PermutationImportance(modelRF, random_state = 42).fit(X_val, y_val)\n",
    "timeSecondD = timer()"
   ]
  },
  {
   "cell_type": "code",
   "execution_count": 36,
   "metadata": {},
   "outputs": [
    {
     "name": "stdout",
     "output_type": "stream",
     "text": [
      "Total time with default Scikit-learn: 33.82206127792597 seconds\n"
     ]
    }
   ],
   "source": [
    "print(\"Total time with default Scikit-learn: {} seconds\".format(timeSecondD - timeFirstD))"
   ]
  },
  {
   "cell_type": "code",
   "execution_count": 37,
   "metadata": {},
   "outputs": [
    {
     "data": {
      "text/html": [
       "\n",
       "    <style>\n",
       "    table.eli5-weights tr:hover {\n",
       "        filter: brightness(85%);\n",
       "    }\n",
       "</style>\n",
       "\n",
       "\n",
       "\n",
       "    \n",
       "\n",
       "    \n",
       "\n",
       "    \n",
       "\n",
       "    \n",
       "\n",
       "    \n",
       "\n",
       "    \n",
       "\n",
       "\n",
       "    \n",
       "\n",
       "    \n",
       "\n",
       "    \n",
       "\n",
       "    \n",
       "\n",
       "    \n",
       "\n",
       "    \n",
       "\n",
       "\n",
       "    \n",
       "\n",
       "    \n",
       "\n",
       "    \n",
       "\n",
       "    \n",
       "\n",
       "    \n",
       "        <table class=\"eli5-weights eli5-feature-importances\" style=\"border-collapse: collapse; border: none; margin-top: 0em; table-layout: auto;\">\n",
       "    <thead>\n",
       "    <tr style=\"border: none;\">\n",
       "        <th style=\"padding: 0 1em 0 0.5em; text-align: right; border: none;\">Weight</th>\n",
       "        <th style=\"padding: 0 0.5em 0 0.5em; text-align: left; border: none;\">Feature</th>\n",
       "    </tr>\n",
       "    </thead>\n",
       "    <tbody>\n",
       "    \n",
       "        <tr style=\"background-color: hsl(120, 100.00%, 80.00%); border: none;\">\n",
       "            <td style=\"padding: 0 1em 0 0.5em; text-align: right; border: none;\">\n",
       "                0.1594\n",
       "                \n",
       "                    &plusmn; 0.0030\n",
       "                \n",
       "            </td>\n",
       "            <td style=\"padding: 0 0.5em 0 0.5em; text-align: left; border: none;\">\n",
       "                y\n",
       "            </td>\n",
       "        </tr>\n",
       "    \n",
       "        <tr style=\"background-color: hsl(120, 100.00%, 82.71%); border: none;\">\n",
       "            <td style=\"padding: 0 1em 0 0.5em; text-align: right; border: none;\">\n",
       "                0.1294\n",
       "                \n",
       "                    &plusmn; 0.0016\n",
       "                \n",
       "            </td>\n",
       "            <td style=\"padding: 0 0.5em 0 0.5em; text-align: left; border: none;\">\n",
       "                cos\n",
       "            </td>\n",
       "        </tr>\n",
       "    \n",
       "        <tr style=\"background-color: hsl(120, 100.00%, 83.84%); border: none;\">\n",
       "            <td style=\"padding: 0 1em 0 0.5em; text-align: right; border: none;\">\n",
       "                0.1175\n",
       "                \n",
       "                    &plusmn; 0.0014\n",
       "                \n",
       "            </td>\n",
       "            <td style=\"padding: 0 0.5em 0 0.5em; text-align: left; border: none;\">\n",
       "                direction\n",
       "            </td>\n",
       "        </tr>\n",
       "    \n",
       "        <tr style=\"background-color: hsl(120, 100.00%, 90.49%); border: none;\">\n",
       "            <td style=\"padding: 0 1em 0 0.5em; text-align: right; border: none;\">\n",
       "                0.0551\n",
       "                \n",
       "                    &plusmn; 0.0013\n",
       "                \n",
       "            </td>\n",
       "            <td style=\"padding: 0 0.5em 0 0.5em; text-align: left; border: none;\">\n",
       "                hour_sin\n",
       "            </td>\n",
       "        </tr>\n",
       "    \n",
       "        <tr style=\"background-color: hsl(120, 100.00%, 92.90%); border: none;\">\n",
       "            <td style=\"padding: 0 1em 0 0.5em; text-align: right; border: none;\">\n",
       "                0.0363\n",
       "                \n",
       "                    &plusmn; 0.0009\n",
       "                \n",
       "            </td>\n",
       "            <td style=\"padding: 0 0.5em 0 0.5em; text-align: left; border: none;\">\n",
       "                x\n",
       "            </td>\n",
       "        </tr>\n",
       "    \n",
       "        <tr style=\"background-color: hsl(120, 100.00%, 93.91%); border: none;\">\n",
       "            <td style=\"padding: 0 1em 0 0.5em; text-align: right; border: none;\">\n",
       "                0.0291\n",
       "                \n",
       "                    &plusmn; 0.0011\n",
       "                \n",
       "            </td>\n",
       "            <td style=\"padding: 0 0.5em 0 0.5em; text-align: left; border: none;\">\n",
       "                lag_2\n",
       "            </td>\n",
       "        </tr>\n",
       "    \n",
       "        <tr style=\"background-color: hsl(120, 100.00%, 95.52%); border: none;\">\n",
       "            <td style=\"padding: 0 1em 0 0.5em; text-align: right; border: none;\">\n",
       "                0.0188\n",
       "                \n",
       "                    &plusmn; 0.0005\n",
       "                \n",
       "            </td>\n",
       "            <td style=\"padding: 0 0.5em 0 0.5em; text-align: left; border: none;\">\n",
       "                lag_1\n",
       "            </td>\n",
       "        </tr>\n",
       "    \n",
       "        <tr style=\"background-color: hsl(120, 100.00%, 95.71%); border: none;\">\n",
       "            <td style=\"padding: 0 1em 0 0.5em; text-align: right; border: none;\">\n",
       "                0.0176\n",
       "                \n",
       "                    &plusmn; 0.0002\n",
       "                \n",
       "            </td>\n",
       "            <td style=\"padding: 0 0.5em 0 0.5em; text-align: left; border: none;\">\n",
       "                lag_6\n",
       "            </td>\n",
       "        </tr>\n",
       "    \n",
       "        <tr style=\"background-color: hsl(120, 100.00%, 96.01%); border: none;\">\n",
       "            <td style=\"padding: 0 1em 0 0.5em; text-align: right; border: none;\">\n",
       "                0.0159\n",
       "                \n",
       "                    &plusmn; 0.0002\n",
       "                \n",
       "            </td>\n",
       "            <td style=\"padding: 0 0.5em 0 0.5em; text-align: left; border: none;\">\n",
       "                lag_7\n",
       "            </td>\n",
       "        </tr>\n",
       "    \n",
       "        <tr style=\"background-color: hsl(120, 100.00%, 96.86%); border: none;\">\n",
       "            <td style=\"padding: 0 1em 0 0.5em; text-align: right; border: none;\">\n",
       "                0.0113\n",
       "                \n",
       "                    &plusmn; 0.0004\n",
       "                \n",
       "            </td>\n",
       "            <td style=\"padding: 0 0.5em 0 0.5em; text-align: left; border: none;\">\n",
       "                lag_3\n",
       "            </td>\n",
       "        </tr>\n",
       "    \n",
       "        <tr style=\"background-color: hsl(120, 100.00%, 97.55%); border: none;\">\n",
       "            <td style=\"padding: 0 1em 0 0.5em; text-align: right; border: none;\">\n",
       "                0.0080\n",
       "                \n",
       "                    &plusmn; 0.0007\n",
       "                \n",
       "            </td>\n",
       "            <td style=\"padding: 0 0.5em 0 0.5em; text-align: left; border: none;\">\n",
       "                hour_cos\n",
       "            </td>\n",
       "        </tr>\n",
       "    \n",
       "        <tr style=\"background-color: hsl(120, 100.00%, 97.63%); border: none;\">\n",
       "            <td style=\"padding: 0 1em 0 0.5em; text-align: right; border: none;\">\n",
       "                0.0076\n",
       "                \n",
       "                    &plusmn; 0.0002\n",
       "                \n",
       "            </td>\n",
       "            <td style=\"padding: 0 0.5em 0 0.5em; text-align: left; border: none;\">\n",
       "                lag_4\n",
       "            </td>\n",
       "        </tr>\n",
       "    \n",
       "        <tr style=\"background-color: hsl(120, 100.00%, 98.48%); border: none;\">\n",
       "            <td style=\"padding: 0 1em 0 0.5em; text-align: right; border: none;\">\n",
       "                0.0040\n",
       "                \n",
       "                    &plusmn; 0.0001\n",
       "                \n",
       "            </td>\n",
       "            <td style=\"padding: 0 0.5em 0 0.5em; text-align: left; border: none;\">\n",
       "                hour\n",
       "            </td>\n",
       "        </tr>\n",
       "    \n",
       "        <tr style=\"background-color: hsl(120, 100.00%, 98.70%); border: none;\">\n",
       "            <td style=\"padding: 0 1em 0 0.5em; text-align: right; border: none;\">\n",
       "                0.0032\n",
       "                \n",
       "                    &plusmn; 0.0001\n",
       "                \n",
       "            </td>\n",
       "            <td style=\"padding: 0 0.5em 0 0.5em; text-align: left; border: none;\">\n",
       "                sin\n",
       "            </td>\n",
       "        </tr>\n",
       "    \n",
       "        <tr style=\"background-color: hsl(120, 100.00%, 99.49%); border: none;\">\n",
       "            <td style=\"padding: 0 1em 0 0.5em; text-align: right; border: none;\">\n",
       "                0.0009\n",
       "                \n",
       "                    &plusmn; 0.0001\n",
       "                \n",
       "            </td>\n",
       "            <td style=\"padding: 0 0.5em 0 0.5em; text-align: left; border: none;\">\n",
       "                row_id\n",
       "            </td>\n",
       "        </tr>\n",
       "    \n",
       "        <tr style=\"background-color: hsl(120, 100.00%, 99.90%); border: none;\">\n",
       "            <td style=\"padding: 0 1em 0 0.5em; text-align: right; border: none;\">\n",
       "                0.0001\n",
       "                \n",
       "                    &plusmn; 0.0001\n",
       "                \n",
       "            </td>\n",
       "            <td style=\"padding: 0 0.5em 0 0.5em; text-align: left; border: none;\">\n",
       "                dayofweek_num\n",
       "            </td>\n",
       "        </tr>\n",
       "    \n",
       "        <tr style=\"background-color: hsl(120, 100.00%, 99.91%); border: none;\">\n",
       "            <td style=\"padding: 0 1em 0 0.5em; text-align: right; border: none;\">\n",
       "                0.0001\n",
       "                \n",
       "                    &plusmn; 0.0001\n",
       "                \n",
       "            </td>\n",
       "            <td style=\"padding: 0 0.5em 0 0.5em; text-align: left; border: none;\">\n",
       "                weekday\n",
       "            </td>\n",
       "        </tr>\n",
       "    \n",
       "        <tr style=\"background-color: hsl(120, 100.00%, 99.98%); border: none;\">\n",
       "            <td style=\"padding: 0 1em 0 0.5em; text-align: right; border: none;\">\n",
       "                0.0000\n",
       "                \n",
       "                    &plusmn; 0.0000\n",
       "                \n",
       "            </td>\n",
       "            <td style=\"padding: 0 0.5em 0 0.5em; text-align: left; border: none;\">\n",
       "                expanding_mean\n",
       "            </td>\n",
       "        </tr>\n",
       "    \n",
       "        <tr style=\"background-color: hsl(120, 100.00%, 100.00%); border: none;\">\n",
       "            <td style=\"padding: 0 1em 0 0.5em; text-align: right; border: none;\">\n",
       "                0.0000\n",
       "                \n",
       "                    &plusmn; 0.0000\n",
       "                \n",
       "            </td>\n",
       "            <td style=\"padding: 0 0.5em 0 0.5em; text-align: left; border: none;\">\n",
       "                minute\n",
       "            </td>\n",
       "        </tr>\n",
       "    \n",
       "        <tr style=\"background-color: hsl(120, 100.00%, 100.00%); border: none;\">\n",
       "            <td style=\"padding: 0 1em 0 0.5em; text-align: right; border: none;\">\n",
       "                0.0000\n",
       "                \n",
       "                    &plusmn; 0.0000\n",
       "                \n",
       "            </td>\n",
       "            <td style=\"padding: 0 0.5em 0 0.5em; text-align: left; border: none;\">\n",
       "                month\n",
       "            </td>\n",
       "        </tr>\n",
       "    \n",
       "    \n",
       "        \n",
       "            <tr style=\"background-color: hsl(120, 100.00%, 100.00%); border: none;\">\n",
       "                <td colspan=\"2\" style=\"padding: 0 0.5em 0 0.5em; text-align: center; border: none; white-space: nowrap;\">\n",
       "                    <i>&hellip; 5 more &hellip;</i>\n",
       "                </td>\n",
       "            </tr>\n",
       "        \n",
       "    \n",
       "    </tbody>\n",
       "</table>\n",
       "    \n",
       "\n",
       "    \n",
       "\n",
       "\n",
       "    \n",
       "\n",
       "    \n",
       "\n",
       "    \n",
       "\n",
       "    \n",
       "\n",
       "    \n",
       "\n",
       "    \n",
       "\n",
       "\n",
       "\n"
      ],
      "text/plain": [
       "<IPython.core.display.HTML object>"
      ]
     },
     "execution_count": 37,
     "metadata": {},
     "output_type": "execute_result"
    }
   ],
   "source": [
    "eli5.show_weights(perm, feature_names = X.columns.tolist())"
   ]
  },
  {
   "cell_type": "code",
   "execution_count": 38,
   "metadata": {},
   "outputs": [],
   "source": [
    "pi_features = eli5.explain_weights_df(perm, feature_names = X_train.columns.tolist())\n",
    "pi_features = pi_features.loc[pi_features['weight'] >= 0.005]['feature'].tolist()"
   ]
  },
  {
   "cell_type": "code",
   "execution_count": 39,
   "metadata": {},
   "outputs": [
    {
     "data": {
      "text/plain": [
       "['y',\n",
       " 'cos',\n",
       " 'direction',\n",
       " 'hour_sin',\n",
       " 'x',\n",
       " 'lag_2',\n",
       " 'lag_1',\n",
       " 'lag_6',\n",
       " 'lag_7',\n",
       " 'lag_3',\n",
       " 'hour_cos',\n",
       " 'lag_4']"
      ]
     },
     "execution_count": 39,
     "metadata": {},
     "output_type": "execute_result"
    }
   ],
   "source": [
    "pi_features"
   ]
  },
  {
   "cell_type": "code",
   "execution_count": 40,
   "metadata": {
    "_kg_hide-input": true
   },
   "outputs": [
    {
     "data": {
      "text/html": [
       "<h2>ELI5 speedup: 3.58x</h2>(from 33.82 to 9.45 seconds)"
      ],
      "text/plain": [
       "<IPython.core.display.HTML object>"
      ]
     },
     "execution_count": 40,
     "metadata": {},
     "output_type": "execute_result"
    }
   ],
   "source": [
    "eli5_speedup = round((timeSecondD - timeFirstD) / (timeSecondI - timeFirstI), 2)\n",
    "HTML(f'<h2>ELI5 speedup: {eli5_speedup}x</h2>'\n",
    "     f'(from {round((timeSecondD - timeFirstD), 2)} to {round((timeSecondI - timeFirstI), 2)} seconds)')"
   ]
  },
  {
   "cell_type": "markdown",
   "metadata": {},
   "source": [
    "### Build model"
   ]
  },
  {
   "cell_type": "markdown",
   "metadata": {},
   "source": [
    "### Optimized Scikit-learn"
   ]
  },
  {
   "cell_type": "code",
   "execution_count": 41,
   "metadata": {},
   "outputs": [
    {
     "name": "stderr",
     "output_type": "stream",
     "text": [
      "Intel(R) Extension for Scikit-learn* enabled (https://github.com/intel/scikit-learn-intelex)\n"
     ]
    }
   ],
   "source": [
    "from sklearnex import patch_sklearn\n",
    "patch_sklearn()"
   ]
  },
  {
   "cell_type": "code",
   "execution_count": 42,
   "metadata": {},
   "outputs": [],
   "source": [
    "from sklearn.ensemble import RandomForestRegressor"
   ]
  },
  {
   "cell_type": "code",
   "execution_count": 43,
   "metadata": {},
   "outputs": [],
   "source": [
    "rf = RandomForestRegressor(n_estimators = 2000, max_depth = 20, n_jobs = -1, random_state = 42)\n",
    "\n",
    "tFO = timer()\n",
    "rf.fit(X_trainRF, y_train)\n",
    "tSO = timer()"
   ]
  },
  {
   "cell_type": "code",
   "execution_count": 44,
   "metadata": {},
   "outputs": [
    {
     "name": "stdout",
     "output_type": "stream",
     "text": [
      "Total fitting Random Forest time with optimized Scikit-learn: 35.29533835500479 seconds\n"
     ]
    }
   ],
   "source": [
    "print(\"Total fitting Random Forest time with optimized Scikit-learn: {} seconds\".format(tSO - tFO))"
   ]
  },
  {
   "cell_type": "markdown",
   "metadata": {},
   "source": [
    "### Default Scikit-learn"
   ]
  },
  {
   "cell_type": "code",
   "execution_count": 45,
   "metadata": {},
   "outputs": [],
   "source": [
    "from sklearnex import unpatch_sklearn\n",
    "unpatch_sklearn()"
   ]
  },
  {
   "cell_type": "code",
   "execution_count": 46,
   "metadata": {},
   "outputs": [],
   "source": [
    "from sklearn.ensemble import RandomForestRegressor"
   ]
  },
  {
   "cell_type": "code",
   "execution_count": 47,
   "metadata": {},
   "outputs": [],
   "source": [
    "rf = RandomForestRegressor(n_estimators = 2000, max_depth = 20, n_jobs = -1, random_state = 42)\n",
    "\n",
    "tFD = timer()\n",
    "rf.fit(X_trainRF, y_train)\n",
    "tSD = timer()"
   ]
  },
  {
   "cell_type": "code",
   "execution_count": 48,
   "metadata": {},
   "outputs": [
    {
     "name": "stdout",
     "output_type": "stream",
     "text": [
      "Total fitting Random Forest time with default Scikit-learn: 39.254687294363976 seconds\n"
     ]
    }
   ],
   "source": [
    "print(\"Total fitting Random Forest time with default Scikit-learn: {} seconds\".format(tSD - tFD))"
   ]
  },
  {
   "cell_type": "code",
   "execution_count": 49,
   "metadata": {
    "_kg_hide-input": true
   },
   "outputs": [
    {
     "data": {
      "text/html": [
       "<h2>RandomForest speedup: 1.11x</h2>(from 39.25 to 35.3 seconds)"
      ],
      "text/plain": [
       "<IPython.core.display.HTML object>"
      ]
     },
     "execution_count": 49,
     "metadata": {},
     "output_type": "execute_result"
    }
   ],
   "source": [
    "rf_speedup = round((tSD - tFD) / (tSO - tFO), 2)\n",
    "HTML(f'<h2>RandomForest speedup: {rf_speedup}x</h2>'\n",
    "     f'(from {round((tSD - tFD), 2)} to {round((tSO - tFO), 2)} seconds)')"
   ]
  },
  {
   "cell_type": "markdown",
   "metadata": {},
   "source": [
    "# Prediction"
   ]
  },
  {
   "cell_type": "code",
   "execution_count": 50,
   "metadata": {},
   "outputs": [],
   "source": [
    "submission_name =  'submit.csv'\n",
    "submission['congestion'] = rf.predict(test_data)\n",
    "submission.to_csv(submission_name, index = False)"
   ]
  },
  {
   "cell_type": "markdown",
   "metadata": {},
   "source": [
    "# Conclusion"
   ]
  },
  {
   "cell_type": "markdown",
   "metadata": {},
   "source": [
    "**Intel® Extension for Scikit-learn** gives you opportunities to:\n",
    "* Use your Scikit-learn code for training and inference without modification.\n",
    "* Get speed up your kernel"
   ]
  },
  {
   "cell_type": "markdown",
   "metadata": {},
   "source": [
    "*Please upvote if you liked it.*"
   ]
  },
  {
   "cell_type": "markdown",
   "metadata": {},
   "source": [
    "# Other notebooks with sklearnex usage"
   ]
  },
  {
   "cell_type": "markdown",
   "metadata": {},
   "source": [
    "### [[predict sales] Stacking with scikit-learn-intelex](https://www.kaggle.com/alexeykolobyanin/predict-sales-stacking-with-scikit-learn-intelex)\n",
    "\n",
    "### [[TPS-Aug] NuSVR with Intel Extension for Sklearn](https://www.kaggle.com/alexeykolobyanin/tps-aug-nusvr-with-intel-extension-for-sklearn)\n",
    "\n",
    "### [Using scikit-learn-intelex for What's Cooking](https://www.kaggle.com/kppetrov/using-scikit-learn-intelex-for-what-s-cooking?scriptVersionId=58739642)\n",
    "\n",
    "### [Fast KNN using  scikit-learn-intelex for MNIST](https://www.kaggle.com/kppetrov/fast-knn-using-scikit-learn-intelex-for-mnist?scriptVersionId=58738635)\n",
    "\n",
    "### [Fast SVC using scikit-learn-intelex for MNIST](https://www.kaggle.com/kppetrov/fast-svc-using-scikit-learn-intelex-for-mnist?scriptVersionId=58739300)\n",
    "\n",
    "### [Fast SVC using scikit-learn-intelex for NLP](https://www.kaggle.com/kppetrov/fast-svc-using-scikit-learn-intelex-for-nlp?scriptVersionId=58739339)\n",
    "\n",
    "### [Fast AutoML with Intel Extension for Scikit-learn](https://www.kaggle.com/lordozvlad/fast-automl-with-intel-extension-for-scikit-learn)\n",
    "\n",
    "### [[Titanic] AutoML with Intel Extension for Sklearn](https://www.kaggle.com/lordozvlad/titanic-automl-with-intel-extension-for-sklearn)"
   ]
  }
 ],
 "metadata": {
  "ipyflow": {
   "cell_children": {
    "00aafba1-2686-4128-8f30-abf2449c550c": [
     "f09a0a02-fa92-4095-82c2-b0df7fb081fe",
     "9536ea5c-2746-4f7a-8c99-39cf36df9dc2",
     "3bd0d8a0-158c-4ed4-a6e0-4970e20e07a5",
     "15c7da6c-cdeb-4fa8-b455-a6ac416d91dd",
     "20c4a1f8-0692-44f6-9698-d8bcb624dd76",
     "13558116-44dc-46e2-82ee-44dd2de94290",
     "7304619b-72f5-48d5-baea-700eb92f63f8"
    ],
    "01428bcd-e000-4ef6-9f4b-e10d0f9ca5f4": [
     "9e5424f7-4aa2-40a0-be42-535e71ce2ca2"
    ],
    "0203578f-c7f6-481c-90ed-052dfaf2b65a": [
     "9800a7ee-d0eb-47af-834e-461fb1da4437",
     "6c16edbb-8fe8-4322-aeb9-23677b87743b",
     "fc03b715-ae78-4fa5-8056-67112d8e67bb",
     "9ba6b03c-99a5-4685-ad0d-f0cee7ca66bb",
     "8f2af279-e2da-4bc4-a205-924bb201d596",
     "4bb695c6-178a-4634-82d8-4e389c5e0ea4",
     "f17e32b9-dd88-40a3-9b45-a35913f0989b",
     "45fc5ee4-1133-40d8-ac1a-60705bf9070e",
     "bd86c164-2fd8-4ade-b2d3-cde26918d38a"
    ],
    "064c05c8-4413-4d71-a1c6-fa0f40ce7390": [],
    "0980ce30-5035-4134-b849-8b1c54e48ac1": [],
    "09d57cf1-5d66-4808-ac5a-c829c4786f80": [],
    "0aa8db0b-d2ba-4501-a73a-c5db71b6f652": [],
    "0ac37a82-a3b3-4657-8a3d-8d5ffa61e9d4": [],
    "0c2e708d-b9b5-45df-bf27-db67f2eef486": [],
    "0c5b8ef2-1d7d-4bc8-9653-b88c7b6a2745": [],
    "11b036bb-ba7d-4bdc-bec8-918daefe37e9": [
     "86ccaa40-10e1-4919-9d92-13094a5fb07e"
    ],
    "13558116-44dc-46e2-82ee-44dd2de94290": [
     "bd1c03c9-4358-476c-b8f5-159b1766ac9f",
     "3bd0d8a0-158c-4ed4-a6e0-4970e20e07a5",
     "ec4a9650-4490-42a0-9886-bf3ffb6a2def",
     "5a1a2955-17aa-4d96-b525-30da1b50223b"
    ],
    "13a3f859-e467-4400-b170-15e0ee1f9a67": [],
    "14e9ca6e-f939-4c3e-9c0e-bd615af36ae7": [],
    "15c7da6c-cdeb-4fa8-b455-a6ac416d91dd": [
     "13558116-44dc-46e2-82ee-44dd2de94290",
     "4894b986-e9b3-4281-90e9-2e477787a484",
     "da702249-9ef8-4464-b023-fb03f30d31f5",
     "0c2e708d-b9b5-45df-bf27-db67f2eef486"
    ],
    "1615409d-ea9c-4ea3-9a2e-3bcc71bc5814": [],
    "170c0e95-c50e-4908-ab15-72978cdfd05f": [
     "fb3ed6a0-9c4f-4113-bd53-8b3abee89877",
     "24441dc2-9018-4fa2-a4e7-53914be062cf"
    ],
    "1743f794-c1ec-41b4-b0de-9ee1dd49d96b": [],
    "1a8ddb63-44fc-435f-a902-90c62e287bee": [],
    "1b53d9e4-9eac-47d2-9c07-bc563c141fe1": [
     "a8bb656b-9faf-4411-84a5-6f792e5d4968"
    ],
    "1b924deb-077d-40b7-9468-1f2eee791dbb": [],
    "1c317baf-501c-4643-9705-7c1903723a94": [],
    "20c4a1f8-0692-44f6-9698-d8bcb624dd76": [
     "72277a0f-64d7-4636-a0cd-5e8397ad7887",
     "8503b4fe-e06a-4b50-9a04-0f333e3cc406",
     "932b3c56-578e-441e-a02a-5eeabc44d4fd"
    ],
    "20f0e819-fe79-48ac-82c1-4ad301359b69": [],
    "238f4d94-bfb1-4b95-9a4c-8be93db65744": [],
    "23f3cd72-2372-40fc-b444-71544cdc2e58": [],
    "24441dc2-9018-4fa2-a4e7-53914be062cf": [],
    "2501743f-7230-4f98-8af3-203ec8524390": [
     "45fc5ee4-1133-40d8-ac1a-60705bf9070e"
    ],
    "25fe85fb-07eb-4364-b790-4a45aa423740": [
     "01428bcd-e000-4ef6-9f4b-e10d0f9ca5f4"
    ],
    "264a50d8-3522-42a9-98b2-4581e5b7ec18": [],
    "273835e6-3eab-40c8-9b4c-b23cad48a10e": [],
    "27f9d3a4-9a54-43bf-af45-a69baaf542ce": [],
    "2ae56e64-b8cc-4335-8aad-9ff21ad755e9": [
     "da702249-9ef8-4464-b023-fb03f30d31f5",
     "00aafba1-2686-4128-8f30-abf2449c550c"
    ],
    "2b175cb7-b5b1-4f29-916a-9419bebae6fe": [],
    "2d286b4c-7fb3-4a01-a775-0faea0f90ecf": [
     "d72ff50e-c382-4d26-955c-e851555903c0"
    ],
    "2e4a7557-d018-4549-8ba1-5a53a7887e84": [],
    "2e518d20-771a-44dc-a187-d5d4aea7a4a5": [],
    "357e4655-1c8e-43d0-931f-4c7738807dc8": [
     "faf64ff3-c215-4ae8-80ba-3d93309e8104",
     "8503b4fe-e06a-4b50-9a04-0f333e3cc406",
     "66e3b9da-9fce-44f2-ae72-1da39329d6aa",
     "11b036bb-ba7d-4bdc-bec8-918daefe37e9",
     "fd72573d-09a0-4a9e-ac4a-06f194a94db7"
    ],
    "36014c8c-c09b-4372-8040-d023d3253428": [],
    "36e24fe5-ad66-443d-a4b3-3cfff1fae26d": [],
    "38339ec7-18f6-4661-88d6-8e1a57e6c7e2": [],
    "3bd0d8a0-158c-4ed4-a6e0-4970e20e07a5": [],
    "3df30f57-90ad-43cf-b642-0aa8ad35de04": [],
    "45fc5ee4-1133-40d8-ac1a-60705bf9070e": [
     "e01d080a-d425-4ed3-bd8b-9b4697d853f8",
     "24441dc2-9018-4fa2-a4e7-53914be062cf",
     "9177dcce-a98f-486d-9b68-4649d318b689",
     "6c16edbb-8fe8-4322-aeb9-23677b87743b"
    ],
    "4601dcf0-142b-4f14-a28e-482b26ef56f2": [],
    "46f74887-3b7d-4fbb-80f6-8dffbdf1171b": [
     "8503b4fe-e06a-4b50-9a04-0f333e3cc406"
    ],
    "486daf31-1c8f-4e81-acd2-78ee74349fda": [],
    "4875f0b0-e100-4c08-acd8-70250f7cc52c": [],
    "487f3e9c-25eb-4d15-a127-8f44b4a7cd38": [
     "13558116-44dc-46e2-82ee-44dd2de94290",
     "15c7da6c-cdeb-4fa8-b455-a6ac416d91dd",
     "da702249-9ef8-4464-b023-fb03f30d31f5"
    ],
    "4894b986-e9b3-4281-90e9-2e477787a484": [],
    "4a4a92c7-312b-468e-95ab-18429d2cc2c3": [],
    "4b42c7ff-d45a-4816-98d5-6893bb21419b": [
     "7304619b-72f5-48d5-baea-700eb92f63f8"
    ],
    "4bb695c6-178a-4634-82d8-4e389c5e0ea4": [
     "cc788ba2-4f05-4b78-a679-705ebeb93ac2",
     "f82e6789-42da-4776-9eb9-9f72a9b95fd3",
     "f90f322e-8b2d-487d-bf9a-264088293c86"
    ],
    "4dda92e3-1bce-453a-adc1-aa79c53f0073": [],
    "4dddca93-f26b-4f14-a0b2-5e96ea6ba48f": [],
    "4f613575-3306-4187-9022-a89b084db2a1": [
     "fc03b715-ae78-4fa5-8056-67112d8e67bb",
     "bd86c164-2fd8-4ade-b2d3-cde26918d38a"
    ],
    "50bb7bf1-2d33-42cb-9c2f-f626020fdfc3": [],
    "50c63fcc-e7de-43b3-bce2-989ea7a54890": [
     "c61d631f-c885-4c57-9c08-88a3419ca6ea"
    ],
    "517386af-0e8f-4a3e-90aa-eccc8ede7fa2": [],
    "51a8ae67-4b3e-4989-8d16-13adf4748d42": [],
    "540cfe2d-ba93-4831-8092-d80cb0f2f668": [
     "15c7da6c-cdeb-4fa8-b455-a6ac416d91dd"
    ],
    "57c007c4-c957-46be-baed-ebb61c235ae6": [],
    "5a1a2955-17aa-4d96-b525-30da1b50223b": [],
    "5b5922e0-94b9-46fa-a344-18fe9ed2af34": [],
    "5f943676-0b42-4889-9d7d-6bb244ac37f4": [],
    "6094aeb9-81b2-488d-894a-945121cebd11": [],
    "65818706-c83a-4e19-8a7f-a8798424008d": [],
    "65a41dbf-f99d-463c-a594-73f7cf945eea": [],
    "6611c916-8223-470a-9d2c-461b13beacbe": [],
    "66e3b9da-9fce-44f2-ae72-1da39329d6aa": [
     "86ccaa40-10e1-4919-9d92-13094a5fb07e"
    ],
    "66fe753a-781d-4e36-8c6a-0122fc6dc23a": [],
    "67fa1658-dc28-4c59-aac9-fd2efec95a40": [],
    "6a17cdce-51b9-431b-a7bd-6c5cc915c9da": [],
    "6b04f07b-5cd5-4b38-a2e2-b573b1496c55": [],
    "6c16edbb-8fe8-4322-aeb9-23677b87743b": [],
    "6c5a6c30-d116-4f09-a031-222a1d14ab4e": [],
    "6c63aed3-1387-4f9a-ad30-389fb3b90a33": [],
    "6d7f7578-9c5f-4317-b463-d3a22ddee9da": [],
    "6f7d5c45-7b1d-4eac-b71a-99a4ed81197b": [
     "4f613575-3306-4187-9022-a89b084db2a1"
    ],
    "70bd5569-cbdb-401c-88d1-857751e00622": [],
    "72277a0f-64d7-4636-a0cd-5e8397ad7887": [],
    "72704c09-804d-4696-ad4f-32130614d0cb": [],
    "72f54824-3163-469b-95fd-886a1875f9fb": [],
    "7304619b-72f5-48d5-baea-700eb92f63f8": [
     "72277a0f-64d7-4636-a0cd-5e8397ad7887",
     "f57729e5-bdb6-4b88-9958-42a09ac3a2f2"
    ],
    "73aee6e2-8b4d-488e-9e8f-ad8047e6e62a": [],
    "7415d5a1-e66e-495f-b042-1ce970306dd7": [
     "4bb695c6-178a-4634-82d8-4e389c5e0ea4"
    ],
    "759592e1-fc01-4c0a-8f3a-fdf820ac11a0": [],
    "759ff63c-faa3-46cf-b2bc-1ed09279b47b": [],
    "76810fe4-3013-4846-9cf4-6d85e9230f78": [],
    "771e5080-da0e-4f7c-b764-b4c3d57b17f3": [
     "8f2af279-e2da-4bc4-a205-924bb201d596"
    ],
    "779deef0-dc0b-4e6c-b127-92efc9a28df1": [],
    "7a643321-b48d-49c7-a617-a93bd78e094d": [],
    "7bf0618d-c508-49b4-9c69-4802b93f8068": [],
    "7d106861-b395-4de3-9d85-2b4263e2f181": [],
    "806617a4-71b2-4b6f-9a92-3fed554856a0": [
     "25fe85fb-07eb-4364-b790-4a45aa423740"
    ],
    "8292f06d-7ba0-4986-9a2d-b7dec7578e83": [],
    "84492562-ec76-4726-88ad-e3b741d341be": [],
    "8503b4fe-e06a-4b50-9a04-0f333e3cc406": [],
    "859f2efd-9bd9-4c1d-a607-85493ffa9499": [],
    "86ccaa40-10e1-4919-9d92-13094a5fb07e": [
     "50c63fcc-e7de-43b3-bce2-989ea7a54890",
     "c61d631f-c885-4c57-9c08-88a3419ca6ea",
     "1b924deb-077d-40b7-9468-1f2eee791dbb"
    ],
    "8715e1cd-42d8-47f2-86a0-942c644802fc": [],
    "8864e182-21f0-4fd5-8a23-a3cb99220527": [],
    "8941bedb-7448-48e0-a682-ffbaa5b70372": [],
    "89c504b3-be20-46f2-9539-f337c68c18c0": [],
    "8a605d37-15a7-4268-b534-29ab8afc612f": [],
    "8baec89c-6399-42fc-be46-1777887b00bb": [],
    "8e0c463c-43a2-4bc3-b6a1-5ac5856a09a7": [],
    "8e609086-faf2-40d9-9462-effb645a4b5b": [],
    "8f19b7fc-6a06-46c8-8a44-16c34e0edb11": [],
    "8f2af279-e2da-4bc4-a205-924bb201d596": [
     "09d57cf1-5d66-4808-ac5a-c829c4786f80",
     "e458960d-e911-4159-b0cb-d526c0499979",
     "ddaaa901-9dff-4d50-b1c9-c9bc8a7b230b",
     "6c16edbb-8fe8-4322-aeb9-23677b87743b"
    ],
    "8f7be8bb-6acd-47cb-948a-16090b36c9b2": [],
    "914b5d3a-7f24-4e40-ab0c-4ee1ec4f15af": [
     "9446fd0a-601b-4480-9f88-85c3fbad701a"
    ],
    "9177dcce-a98f-486d-9b68-4649d318b689": [
     "ba45f990-2daa-432a-a852-5c3a250bfa63",
     "2d286b4c-7fb3-4a01-a775-0faea0f90ecf",
     "65818706-c83a-4e19-8a7f-a8798424008d",
     "6f7d5c45-7b1d-4eac-b71a-99a4ed81197b"
    ],
    "932b3c56-578e-441e-a02a-5eeabc44d4fd": [],
    "9446fd0a-601b-4480-9f88-85c3fbad701a": [],
    "946e3fcc-2cd3-493b-bbfc-a0c8785e3e78": [],
    "9536ea5c-2746-4f7a-8c99-39cf36df9dc2": [
     "73aee6e2-8b4d-488e-9e8f-ad8047e6e62a",
     "d9cd6f19-dd64-49a3-add1-ebe08820ae08",
     "914b5d3a-7f24-4e40-ab0c-4ee1ec4f15af",
     "0c2e708d-b9b5-45df-bf27-db67f2eef486"
    ],
    "95e6dcfb-5a42-4253-ba71-3e7ef5876340": [
     "11b036bb-ba7d-4bdc-bec8-918daefe37e9",
     "65a41dbf-f99d-463c-a594-73f7cf945eea"
    ],
    "9800a7ee-d0eb-47af-834e-461fb1da4437": [
     "84492562-ec76-4726-88ad-e3b741d341be",
     "9ba6b03c-99a5-4685-ad0d-f0cee7ca66bb",
     "23f3cd72-2372-40fc-b444-71544cdc2e58",
     "afc8d270-7cee-4f76-84a8-1fded1230aa5",
     "7415d5a1-e66e-495f-b042-1ce970306dd7"
    ],
    "984ab761-9d5c-402b-9959-01b551d0d885": [],
    "9ba6b03c-99a5-4685-ad0d-f0cee7ca66bb": [
     "4bb695c6-178a-4634-82d8-4e389c5e0ea4"
    ],
    "9dd2f7db-46f3-4f21-a258-886dca1cd109": [
     "357e4655-1c8e-43d0-931f-4c7738807dc8"
    ],
    "9e5424f7-4aa2-40a0-be42-535e71ce2ca2": [],
    "9f12279c-7155-4315-be17-dd2b20168694": [],
    "9f45cde5-5047-4199-9fb3-97fae22d05af": [
     "fc03b715-ae78-4fa5-8056-67112d8e67bb"
    ],
    "a191f7e4-ca75-488d-8edf-fb12cde51e26": [],
    "a47e8743-00c2-44ae-b9f2-71a015d74b90": [
     "e458960d-e911-4159-b0cb-d526c0499979",
     "8f2af279-e2da-4bc4-a205-924bb201d596",
     "ddaaa901-9dff-4d50-b1c9-c9bc8a7b230b"
    ],
    "a5437861-b4bb-4b44-a9e2-e150dc3b6839": [],
    "a62443ed-fac2-4198-8150-9931bc4ffda5": [],
    "a68fc091-dc0b-4ea8-a461-c43d7566c811": [],
    "a8bb656b-9faf-4411-84a5-6f792e5d4968": [
     "ec730dfb-7eb3-4770-84a2-135ae02d7475"
    ],
    "a973f646-b79c-4a5f-ae84-115433a6974d": [],
    "a9760427-23b7-45ae-b593-a8b0f096c34b": [],
    "a9e83772-ef6f-4b06-ab23-2b21f2c9b7fb": [],
    "aa342103-f04e-444d-b9b3-2c9b08078573": [
     "73aee6e2-8b4d-488e-9e8f-ad8047e6e62a",
     "9536ea5c-2746-4f7a-8c99-39cf36df9dc2",
     "914b5d3a-7f24-4e40-ab0c-4ee1ec4f15af"
    ],
    "acd43803-4793-48ec-8a8c-8456b21c1a6b": [],
    "ae32fb41-4a91-4dce-975a-eee5492edec0": [],
    "aee260b5-a6cc-47ab-8348-f84b1d8b393a": [
     "b3237e2b-5832-4d47-ad01-3ad17fc2d8dd",
     "0ac37a82-a3b3-4657-8a3d-8d5ffa61e9d4"
    ],
    "af2ad3fa-cbc5-4034-b961-39875e798b10": [
     "bd86c164-2fd8-4ade-b2d3-cde26918d38a"
    ],
    "afc8d270-7cee-4f76-84a8-1fded1230aa5": [
     "264a50d8-3522-42a9-98b2-4581e5b7ec18",
     "aee260b5-a6cc-47ab-8348-f84b1d8b393a",
     "9ba6b03c-99a5-4685-ad0d-f0cee7ca66bb"
    ],
    "b18cf389-130e-4fca-b299-f9884f8faecd": [],
    "b3237e2b-5832-4d47-ad01-3ad17fc2d8dd": [
     "70bd5569-cbdb-401c-88d1-857751e00622",
     "9ba6b03c-99a5-4685-ad0d-f0cee7ca66bb"
    ],
    "b60b2c8c-1f76-4503-a0ef-a0d275fb43ac": [],
    "ba45f990-2daa-432a-a852-5c3a250bfa63": [],
    "bab2995d-e4e8-4ea6-af75-2a49fa4fffe1": [],
    "bacaba9d-6ba7-4339-8e78-005aef7b5f19": [],
    "bd1c03c9-4358-476c-b8f5-159b1766ac9f": [
     "46f74887-3b7d-4fbb-80f6-8dffbdf1171b"
    ],
    "bd5b1013-a6f9-4abe-ad2d-ccbb6c794e76": [],
    "bd86c164-2fd8-4ade-b2d3-cde26918d38a": [
     "f17e32b9-dd88-40a3-9b45-a35913f0989b",
     "7a643321-b48d-49c7-a617-a93bd78e094d"
    ],
    "c1ad10f8-a7eb-4e52-8a46-41125fe4ef70": [],
    "c3ba0f7a-f5b7-4180-981a-02129ddf1956": [],
    "c602acc0-5d28-4c60-911d-8aaad720053a": [],
    "c61d631f-c885-4c57-9c08-88a3419ca6ea": [
     "2ae56e64-b8cc-4335-8aad-9ff21ad755e9",
     "46f74887-3b7d-4fbb-80f6-8dffbdf1171b"
    ],
    "ca837d72-5070-4402-9e7a-98474698c79d": [
     "86ccaa40-10e1-4919-9d92-13094a5fb07e",
     "9536ea5c-2746-4f7a-8c99-39cf36df9dc2",
     "357e4655-1c8e-43d0-931f-4c7738807dc8",
     "72277a0f-64d7-4636-a0cd-5e8397ad7887",
     "15c7da6c-cdeb-4fa8-b455-a6ac416d91dd",
     "20c4a1f8-0692-44f6-9698-d8bcb624dd76",
     "0c2e708d-b9b5-45df-bf27-db67f2eef486",
     "7304619b-72f5-48d5-baea-700eb92f63f8",
     "11b036bb-ba7d-4bdc-bec8-918daefe37e9"
    ],
    "cbb84eb9-184d-4320-90a0-351cf8edaad3": [],
    "cc788ba2-4f05-4b78-a679-705ebeb93ac2": [],
    "cd75fb58-c1d9-47d6-9341-510a3d3b081f": [],
    "cf45e258-523f-4f84-b9e8-ab98c56dc85e": [],
    "cf9ea23e-f1fd-47a6-8df4-d03b494392e3": [],
    "d4ecbae7-c733-4262-be39-d67e2e4c9005": [],
    "d54dbd50-6879-4723-aa63-8b39a669560a": [],
    "d6155875-a163-439c-b402-0452706bbe57": [],
    "d63764be-d3ab-48d7-bcb8-bcea78c7934c": [],
    "d6b99fa3-de46-490c-9d0d-92725f4a6b0b": [
     "20c4a1f8-0692-44f6-9698-d8bcb624dd76"
    ],
    "d7148266-c2ef-4122-8fff-6ae6b82fe10f": [],
    "d72bd870-44f8-4653-a25c-d88f5d500ff6": [],
    "d72ff50e-c382-4d26-955c-e851555903c0": [
     "23f3cd72-2372-40fc-b444-71544cdc2e58"
    ],
    "d7a8d1e6-459d-450b-b3c2-8281771fc36c": [],
    "d821756c-70d6-4029-9871-8acf65c7f64d": [],
    "d9cd6f19-dd64-49a3-add1-ebe08820ae08": [],
    "da702249-9ef8-4464-b023-fb03f30d31f5": [],
    "db21c94d-30fc-4dec-83e9-8d948494bfa8": [],
    "dcbd7086-f94b-4302-8f2d-d7e1f79df62d": [],
    "ddaaa901-9dff-4d50-b1c9-c9bc8a7b230b": [],
    "e01d080a-d425-4ed3-bd8b-9b4697d853f8": [],
    "e0413b5b-e0f4-4d3d-ba49-b26ab2dc5ef7": [],
    "e458960d-e911-4159-b0cb-d526c0499979": [
     "1a8ddb63-44fc-435f-a902-90c62e287bee"
    ],
    "e5d5dd01-c43f-4100-8829-45c04a472554": [],
    "e6bf4a35-baaa-434c-aef3-31629a30f037": [],
    "eadf391b-677a-4b30-be06-3110e3ccbef8": [],
    "eb469b5b-6611-493a-ab7b-ab573d12534e": [],
    "ec4a9650-4490-42a0-9886-bf3ffb6a2def": [
     "f09a0a02-fa92-4095-82c2-b0df7fb081fe"
    ],
    "ec730dfb-7eb3-4770-84a2-135ae02d7475": [
     "a9760427-23b7-45ae-b593-a8b0f096c34b"
    ],
    "eeb52d8b-0cf4-402a-be2a-914c50d63e85": [
     "bab2995d-e4e8-4ea6-af75-2a49fa4fffe1",
     "95e6dcfb-5a42-4253-ba71-3e7ef5876340"
    ],
    "efcbcb21-263c-4c8c-b5e7-b58de61e7aff": [],
    "f09a0a02-fa92-4095-82c2-b0df7fb081fe": [
     "20c4a1f8-0692-44f6-9698-d8bcb624dd76",
     "7304619b-72f5-48d5-baea-700eb92f63f8"
    ],
    "f17e32b9-dd88-40a3-9b45-a35913f0989b": [],
    "f3423576-c27a-498a-ac44-41338909985e": [],
    "f36ee1b3-0e81-4017-9322-b8c6929d3aa1": [],
    "f57729e5-bdb6-4b88-9958-42a09ac3a2f2": [],
    "f77d3b02-d233-47a5-9c72-3cf96e2b68e6": [
     "9800a7ee-d0eb-47af-834e-461fb1da4437"
    ],
    "f82e6789-42da-4776-9eb9-9f72a9b95fd3": [
     "170c0e95-c50e-4908-ab15-72978cdfd05f",
     "d72ff50e-c382-4d26-955c-e851555903c0"
    ],
    "f8f82f5a-b28a-408a-8865-7f5342e6d3c9": [],
    "f90f322e-8b2d-487d-bf9a-264088293c86": [
     "f82e6789-42da-4776-9eb9-9f72a9b95fd3"
    ],
    "fa4121db-3621-4e16-aceb-24e548d8bcd4": [
     "9177dcce-a98f-486d-9b68-4649d318b689",
     "ddaaa901-9dff-4d50-b1c9-c9bc8a7b230b",
     "24441dc2-9018-4fa2-a4e7-53914be062cf",
     "e458960d-e911-4159-b0cb-d526c0499979",
     "45fc5ee4-1133-40d8-ac1a-60705bf9070e"
    ],
    "fa6735d4-ba4b-462c-b571-8c1bda131223": [],
    "faf64ff3-c215-4ae8-80ba-3d93309e8104": [],
    "fb3ed6a0-9c4f-4113-bd53-8b3abee89877": [
     "ba45f990-2daa-432a-a852-5c3a250bfa63",
     "4f613575-3306-4187-9022-a89b084db2a1",
     "9177dcce-a98f-486d-9b68-4649d318b689",
     "fc03b715-ae78-4fa5-8056-67112d8e67bb",
     "8f2af279-e2da-4bc4-a205-924bb201d596",
     "45fc5ee4-1133-40d8-ac1a-60705bf9070e",
     "bd86c164-2fd8-4ade-b2d3-cde26918d38a"
    ],
    "fc018ad3-f60b-48fe-9715-1e5333a7aa47": [],
    "fc03b715-ae78-4fa5-8056-67112d8e67bb": [
     "f17e32b9-dd88-40a3-9b45-a35913f0989b",
     "23f3cd72-2372-40fc-b444-71544cdc2e58",
     "517386af-0e8f-4a3e-90aa-eccc8ede7fa2"
    ],
    "fd72573d-09a0-4a9e-ac4a-06f194a94db7": [
     "6a17cdce-51b9-431b-a7bd-6c5cc915c9da",
     "11b036bb-ba7d-4bdc-bec8-918daefe37e9",
     "eeb52d8b-0cf4-402a-be2a-914c50d63e85"
    ],
    "fdcb6f3a-9d9b-4c26-b288-c3fa55cccaa4": [],
    "ff9bbbc7-e38d-49e1-be12-66b00ed9f9eb": [
     "9536ea5c-2746-4f7a-8c99-39cf36df9dc2"
    ]
   },
   "cell_parents": {
    "00aafba1-2686-4128-8f30-abf2449c550c": [
     "2ae56e64-b8cc-4335-8aad-9ff21ad755e9"
    ],
    "01428bcd-e000-4ef6-9f4b-e10d0f9ca5f4": [
     "25fe85fb-07eb-4364-b790-4a45aa423740"
    ],
    "0203578f-c7f6-481c-90ed-052dfaf2b65a": [],
    "064c05c8-4413-4d71-a1c6-fa0f40ce7390": [],
    "0980ce30-5035-4134-b849-8b1c54e48ac1": [],
    "09d57cf1-5d66-4808-ac5a-c829c4786f80": [
     "8f2af279-e2da-4bc4-a205-924bb201d596"
    ],
    "0aa8db0b-d2ba-4501-a73a-c5db71b6f652": [],
    "0ac37a82-a3b3-4657-8a3d-8d5ffa61e9d4": [
     "aee260b5-a6cc-47ab-8348-f84b1d8b393a"
    ],
    "0c2e708d-b9b5-45df-bf27-db67f2eef486": [
     "15c7da6c-cdeb-4fa8-b455-a6ac416d91dd",
     "9536ea5c-2746-4f7a-8c99-39cf36df9dc2",
     "ca837d72-5070-4402-9e7a-98474698c79d"
    ],
    "0c5b8ef2-1d7d-4bc8-9653-b88c7b6a2745": [],
    "11b036bb-ba7d-4bdc-bec8-918daefe37e9": [
     "95e6dcfb-5a42-4253-ba71-3e7ef5876340",
     "ca837d72-5070-4402-9e7a-98474698c79d",
     "357e4655-1c8e-43d0-931f-4c7738807dc8",
     "fd72573d-09a0-4a9e-ac4a-06f194a94db7"
    ],
    "13558116-44dc-46e2-82ee-44dd2de94290": [
     "15c7da6c-cdeb-4fa8-b455-a6ac416d91dd",
     "487f3e9c-25eb-4d15-a127-8f44b4a7cd38",
     "00aafba1-2686-4128-8f30-abf2449c550c"
    ],
    "13a3f859-e467-4400-b170-15e0ee1f9a67": [],
    "14e9ca6e-f939-4c3e-9c0e-bd615af36ae7": [],
    "15c7da6c-cdeb-4fa8-b455-a6ac416d91dd": [
     "ca837d72-5070-4402-9e7a-98474698c79d",
     "540cfe2d-ba93-4831-8092-d80cb0f2f668",
     "00aafba1-2686-4128-8f30-abf2449c550c",
     "487f3e9c-25eb-4d15-a127-8f44b4a7cd38"
    ],
    "1615409d-ea9c-4ea3-9a2e-3bcc71bc5814": [],
    "170c0e95-c50e-4908-ab15-72978cdfd05f": [
     "f82e6789-42da-4776-9eb9-9f72a9b95fd3"
    ],
    "1743f794-c1ec-41b4-b0de-9ee1dd49d96b": [],
    "1a8ddb63-44fc-435f-a902-90c62e287bee": [
     "e458960d-e911-4159-b0cb-d526c0499979"
    ],
    "1b53d9e4-9eac-47d2-9c07-bc563c141fe1": [],
    "1b924deb-077d-40b7-9468-1f2eee791dbb": [
     "86ccaa40-10e1-4919-9d92-13094a5fb07e"
    ],
    "1c317baf-501c-4643-9705-7c1903723a94": [],
    "20c4a1f8-0692-44f6-9698-d8bcb624dd76": [
     "f09a0a02-fa92-4095-82c2-b0df7fb081fe",
     "ca837d72-5070-4402-9e7a-98474698c79d",
     "00aafba1-2686-4128-8f30-abf2449c550c",
     "d6b99fa3-de46-490c-9d0d-92725f4a6b0b"
    ],
    "20f0e819-fe79-48ac-82c1-4ad301359b69": [],
    "238f4d94-bfb1-4b95-9a4c-8be93db65744": [],
    "23f3cd72-2372-40fc-b444-71544cdc2e58": [
     "fc03b715-ae78-4fa5-8056-67112d8e67bb",
     "d72ff50e-c382-4d26-955c-e851555903c0",
     "9800a7ee-d0eb-47af-834e-461fb1da4437"
    ],
    "24441dc2-9018-4fa2-a4e7-53914be062cf": [
     "170c0e95-c50e-4908-ab15-72978cdfd05f",
     "fa4121db-3621-4e16-aceb-24e548d8bcd4",
     "45fc5ee4-1133-40d8-ac1a-60705bf9070e"
    ],
    "2501743f-7230-4f98-8af3-203ec8524390": [],
    "25fe85fb-07eb-4364-b790-4a45aa423740": [
     "806617a4-71b2-4b6f-9a92-3fed554856a0"
    ],
    "264a50d8-3522-42a9-98b2-4581e5b7ec18": [
     "afc8d270-7cee-4f76-84a8-1fded1230aa5"
    ],
    "273835e6-3eab-40c8-9b4c-b23cad48a10e": [],
    "27f9d3a4-9a54-43bf-af45-a69baaf542ce": [],
    "2ae56e64-b8cc-4335-8aad-9ff21ad755e9": [
     "c61d631f-c885-4c57-9c08-88a3419ca6ea"
    ],
    "2b175cb7-b5b1-4f29-916a-9419bebae6fe": [],
    "2d286b4c-7fb3-4a01-a775-0faea0f90ecf": [
     "9177dcce-a98f-486d-9b68-4649d318b689"
    ],
    "2e4a7557-d018-4549-8ba1-5a53a7887e84": [],
    "2e518d20-771a-44dc-a187-d5d4aea7a4a5": [],
    "357e4655-1c8e-43d0-931f-4c7738807dc8": [
     "9dd2f7db-46f3-4f21-a258-886dca1cd109",
     "ca837d72-5070-4402-9e7a-98474698c79d"
    ],
    "36014c8c-c09b-4372-8040-d023d3253428": [],
    "36e24fe5-ad66-443d-a4b3-3cfff1fae26d": [],
    "38339ec7-18f6-4661-88d6-8e1a57e6c7e2": [],
    "3bd0d8a0-158c-4ed4-a6e0-4970e20e07a5": [
     "13558116-44dc-46e2-82ee-44dd2de94290",
     "00aafba1-2686-4128-8f30-abf2449c550c"
    ],
    "3df30f57-90ad-43cf-b642-0aa8ad35de04": [],
    "45fc5ee4-1133-40d8-ac1a-60705bf9070e": [
     "fb3ed6a0-9c4f-4113-bd53-8b3abee89877",
     "2501743f-7230-4f98-8af3-203ec8524390",
     "fa4121db-3621-4e16-aceb-24e548d8bcd4",
     "0203578f-c7f6-481c-90ed-052dfaf2b65a"
    ],
    "4601dcf0-142b-4f14-a28e-482b26ef56f2": [],
    "46f74887-3b7d-4fbb-80f6-8dffbdf1171b": [
     "c61d631f-c885-4c57-9c08-88a3419ca6ea",
     "bd1c03c9-4358-476c-b8f5-159b1766ac9f"
    ],
    "486daf31-1c8f-4e81-acd2-78ee74349fda": [],
    "4875f0b0-e100-4c08-acd8-70250f7cc52c": [],
    "487f3e9c-25eb-4d15-a127-8f44b4a7cd38": [],
    "4894b986-e9b3-4281-90e9-2e477787a484": [
     "15c7da6c-cdeb-4fa8-b455-a6ac416d91dd"
    ],
    "4a4a92c7-312b-468e-95ab-18429d2cc2c3": [],
    "4b42c7ff-d45a-4816-98d5-6893bb21419b": [],
    "4bb695c6-178a-4634-82d8-4e389c5e0ea4": [
     "7415d5a1-e66e-495f-b042-1ce970306dd7",
     "0203578f-c7f6-481c-90ed-052dfaf2b65a",
     "9ba6b03c-99a5-4685-ad0d-f0cee7ca66bb"
    ],
    "4dda92e3-1bce-453a-adc1-aa79c53f0073": [],
    "4dddca93-f26b-4f14-a0b2-5e96ea6ba48f": [],
    "4f613575-3306-4187-9022-a89b084db2a1": [
     "fb3ed6a0-9c4f-4113-bd53-8b3abee89877",
     "6f7d5c45-7b1d-4eac-b71a-99a4ed81197b"
    ],
    "50bb7bf1-2d33-42cb-9c2f-f626020fdfc3": [],
    "50c63fcc-e7de-43b3-bce2-989ea7a54890": [
     "86ccaa40-10e1-4919-9d92-13094a5fb07e"
    ],
    "517386af-0e8f-4a3e-90aa-eccc8ede7fa2": [
     "fc03b715-ae78-4fa5-8056-67112d8e67bb"
    ],
    "51a8ae67-4b3e-4989-8d16-13adf4748d42": [],
    "540cfe2d-ba93-4831-8092-d80cb0f2f668": [],
    "57c007c4-c957-46be-baed-ebb61c235ae6": [],
    "5a1a2955-17aa-4d96-b525-30da1b50223b": [
     "13558116-44dc-46e2-82ee-44dd2de94290"
    ],
    "5b5922e0-94b9-46fa-a344-18fe9ed2af34": [],
    "5f943676-0b42-4889-9d7d-6bb244ac37f4": [],
    "6094aeb9-81b2-488d-894a-945121cebd11": [],
    "65818706-c83a-4e19-8a7f-a8798424008d": [
     "9177dcce-a98f-486d-9b68-4649d318b689"
    ],
    "65a41dbf-f99d-463c-a594-73f7cf945eea": [
     "95e6dcfb-5a42-4253-ba71-3e7ef5876340"
    ],
    "6611c916-8223-470a-9d2c-461b13beacbe": [],
    "66e3b9da-9fce-44f2-ae72-1da39329d6aa": [
     "357e4655-1c8e-43d0-931f-4c7738807dc8"
    ],
    "66fe753a-781d-4e36-8c6a-0122fc6dc23a": [],
    "67fa1658-dc28-4c59-aac9-fd2efec95a40": [],
    "6a17cdce-51b9-431b-a7bd-6c5cc915c9da": [
     "fd72573d-09a0-4a9e-ac4a-06f194a94db7"
    ],
    "6b04f07b-5cd5-4b38-a2e2-b573b1496c55": [],
    "6c16edbb-8fe8-4322-aeb9-23677b87743b": [
     "8f2af279-e2da-4bc4-a205-924bb201d596",
     "0203578f-c7f6-481c-90ed-052dfaf2b65a",
     "45fc5ee4-1133-40d8-ac1a-60705bf9070e"
    ],
    "6c5a6c30-d116-4f09-a031-222a1d14ab4e": [],
    "6c63aed3-1387-4f9a-ad30-389fb3b90a33": [],
    "6d7f7578-9c5f-4317-b463-d3a22ddee9da": [],
    "6f7d5c45-7b1d-4eac-b71a-99a4ed81197b": [
     "9177dcce-a98f-486d-9b68-4649d318b689"
    ],
    "70bd5569-cbdb-401c-88d1-857751e00622": [
     "b3237e2b-5832-4d47-ad01-3ad17fc2d8dd"
    ],
    "72277a0f-64d7-4636-a0cd-5e8397ad7887": [
     "ca837d72-5070-4402-9e7a-98474698c79d",
     "20c4a1f8-0692-44f6-9698-d8bcb624dd76",
     "7304619b-72f5-48d5-baea-700eb92f63f8"
    ],
    "72704c09-804d-4696-ad4f-32130614d0cb": [],
    "72f54824-3163-469b-95fd-886a1875f9fb": [],
    "7304619b-72f5-48d5-baea-700eb92f63f8": [
     "f09a0a02-fa92-4095-82c2-b0df7fb081fe",
     "4b42c7ff-d45a-4816-98d5-6893bb21419b",
     "ca837d72-5070-4402-9e7a-98474698c79d",
     "00aafba1-2686-4128-8f30-abf2449c550c"
    ],
    "73aee6e2-8b4d-488e-9e8f-ad8047e6e62a": [
     "9536ea5c-2746-4f7a-8c99-39cf36df9dc2",
     "aa342103-f04e-444d-b9b3-2c9b08078573"
    ],
    "7415d5a1-e66e-495f-b042-1ce970306dd7": [
     "9800a7ee-d0eb-47af-834e-461fb1da4437"
    ],
    "759592e1-fc01-4c0a-8f3a-fdf820ac11a0": [],
    "759ff63c-faa3-46cf-b2bc-1ed09279b47b": [],
    "76810fe4-3013-4846-9cf4-6d85e9230f78": [],
    "771e5080-da0e-4f7c-b764-b4c3d57b17f3": [],
    "779deef0-dc0b-4e6c-b127-92efc9a28df1": [],
    "7a643321-b48d-49c7-a617-a93bd78e094d": [
     "bd86c164-2fd8-4ade-b2d3-cde26918d38a"
    ],
    "7bf0618d-c508-49b4-9c69-4802b93f8068": [],
    "7d106861-b395-4de3-9d85-2b4263e2f181": [],
    "806617a4-71b2-4b6f-9a92-3fed554856a0": [],
    "8292f06d-7ba0-4986-9a2d-b7dec7578e83": [],
    "84492562-ec76-4726-88ad-e3b741d341be": [
     "9800a7ee-d0eb-47af-834e-461fb1da4437"
    ],
    "8503b4fe-e06a-4b50-9a04-0f333e3cc406": [
     "357e4655-1c8e-43d0-931f-4c7738807dc8",
     "46f74887-3b7d-4fbb-80f6-8dffbdf1171b",
     "20c4a1f8-0692-44f6-9698-d8bcb624dd76"
    ],
    "859f2efd-9bd9-4c1d-a607-85493ffa9499": [],
    "86ccaa40-10e1-4919-9d92-13094a5fb07e": [
     "66e3b9da-9fce-44f2-ae72-1da39329d6aa",
     "ca837d72-5070-4402-9e7a-98474698c79d",
     "11b036bb-ba7d-4bdc-bec8-918daefe37e9"
    ],
    "8715e1cd-42d8-47f2-86a0-942c644802fc": [],
    "8864e182-21f0-4fd5-8a23-a3cb99220527": [],
    "8941bedb-7448-48e0-a682-ffbaa5b70372": [],
    "89c504b3-be20-46f2-9539-f337c68c18c0": [],
    "8a605d37-15a7-4268-b534-29ab8afc612f": [],
    "8baec89c-6399-42fc-be46-1777887b00bb": [],
    "8e0c463c-43a2-4bc3-b6a1-5ac5856a09a7": [],
    "8e609086-faf2-40d9-9462-effb645a4b5b": [],
    "8f19b7fc-6a06-46c8-8a44-16c34e0edb11": [],
    "8f2af279-e2da-4bc4-a205-924bb201d596": [
     "771e5080-da0e-4f7c-b764-b4c3d57b17f3",
     "fb3ed6a0-9c4f-4113-bd53-8b3abee89877",
     "a47e8743-00c2-44ae-b9f2-71a015d74b90",
     "0203578f-c7f6-481c-90ed-052dfaf2b65a"
    ],
    "8f7be8bb-6acd-47cb-948a-16090b36c9b2": [],
    "914b5d3a-7f24-4e40-ab0c-4ee1ec4f15af": [
     "9536ea5c-2746-4f7a-8c99-39cf36df9dc2",
     "aa342103-f04e-444d-b9b3-2c9b08078573"
    ],
    "9177dcce-a98f-486d-9b68-4649d318b689": [
     "fb3ed6a0-9c4f-4113-bd53-8b3abee89877",
     "fa4121db-3621-4e16-aceb-24e548d8bcd4",
     "45fc5ee4-1133-40d8-ac1a-60705bf9070e"
    ],
    "932b3c56-578e-441e-a02a-5eeabc44d4fd": [
     "20c4a1f8-0692-44f6-9698-d8bcb624dd76"
    ],
    "9446fd0a-601b-4480-9f88-85c3fbad701a": [
     "914b5d3a-7f24-4e40-ab0c-4ee1ec4f15af"
    ],
    "946e3fcc-2cd3-493b-bbfc-a0c8785e3e78": [],
    "9536ea5c-2746-4f7a-8c99-39cf36df9dc2": [
     "ff9bbbc7-e38d-49e1-be12-66b00ed9f9eb",
     "aa342103-f04e-444d-b9b3-2c9b08078573",
     "ca837d72-5070-4402-9e7a-98474698c79d",
     "00aafba1-2686-4128-8f30-abf2449c550c"
    ],
    "95e6dcfb-5a42-4253-ba71-3e7ef5876340": [
     "eeb52d8b-0cf4-402a-be2a-914c50d63e85"
    ],
    "9800a7ee-d0eb-47af-834e-461fb1da4437": [
     "f77d3b02-d233-47a5-9c72-3cf96e2b68e6",
     "0203578f-c7f6-481c-90ed-052dfaf2b65a"
    ],
    "984ab761-9d5c-402b-9959-01b551d0d885": [],
    "9ba6b03c-99a5-4685-ad0d-f0cee7ca66bb": [
     "b3237e2b-5832-4d47-ad01-3ad17fc2d8dd",
     "afc8d270-7cee-4f76-84a8-1fded1230aa5",
     "0203578f-c7f6-481c-90ed-052dfaf2b65a",
     "9800a7ee-d0eb-47af-834e-461fb1da4437"
    ],
    "9dd2f7db-46f3-4f21-a258-886dca1cd109": [],
    "9e5424f7-4aa2-40a0-be42-535e71ce2ca2": [
     "01428bcd-e000-4ef6-9f4b-e10d0f9ca5f4"
    ],
    "9f12279c-7155-4315-be17-dd2b20168694": [],
    "9f45cde5-5047-4199-9fb3-97fae22d05af": [],
    "a191f7e4-ca75-488d-8edf-fb12cde51e26": [],
    "a47e8743-00c2-44ae-b9f2-71a015d74b90": [],
    "a5437861-b4bb-4b44-a9e2-e150dc3b6839": [],
    "a62443ed-fac2-4198-8150-9931bc4ffda5": [],
    "a68fc091-dc0b-4ea8-a461-c43d7566c811": [],
    "a8bb656b-9faf-4411-84a5-6f792e5d4968": [
     "1b53d9e4-9eac-47d2-9c07-bc563c141fe1"
    ],
    "a973f646-b79c-4a5f-ae84-115433a6974d": [],
    "a9760427-23b7-45ae-b593-a8b0f096c34b": [
     "ec730dfb-7eb3-4770-84a2-135ae02d7475"
    ],
    "a9e83772-ef6f-4b06-ab23-2b21f2c9b7fb": [],
    "aa342103-f04e-444d-b9b3-2c9b08078573": [],
    "acd43803-4793-48ec-8a8c-8456b21c1a6b": [],
    "ae32fb41-4a91-4dce-975a-eee5492edec0": [],
    "aee260b5-a6cc-47ab-8348-f84b1d8b393a": [
     "afc8d270-7cee-4f76-84a8-1fded1230aa5"
    ],
    "af2ad3fa-cbc5-4034-b961-39875e798b10": [],
    "afc8d270-7cee-4f76-84a8-1fded1230aa5": [
     "9800a7ee-d0eb-47af-834e-461fb1da4437"
    ],
    "b18cf389-130e-4fca-b299-f9884f8faecd": [],
    "b3237e2b-5832-4d47-ad01-3ad17fc2d8dd": [
     "aee260b5-a6cc-47ab-8348-f84b1d8b393a"
    ],
    "b60b2c8c-1f76-4503-a0ef-a0d275fb43ac": [],
    "ba45f990-2daa-432a-a852-5c3a250bfa63": [
     "fb3ed6a0-9c4f-4113-bd53-8b3abee89877",
     "9177dcce-a98f-486d-9b68-4649d318b689"
    ],
    "bab2995d-e4e8-4ea6-af75-2a49fa4fffe1": [
     "eeb52d8b-0cf4-402a-be2a-914c50d63e85"
    ],
    "bacaba9d-6ba7-4339-8e78-005aef7b5f19": [],
    "bd1c03c9-4358-476c-b8f5-159b1766ac9f": [
     "13558116-44dc-46e2-82ee-44dd2de94290"
    ],
    "bd5b1013-a6f9-4abe-ad2d-ccbb6c794e76": [],
    "bd86c164-2fd8-4ade-b2d3-cde26918d38a": [
     "4f613575-3306-4187-9022-a89b084db2a1",
     "fb3ed6a0-9c4f-4113-bd53-8b3abee89877",
     "af2ad3fa-cbc5-4034-b961-39875e798b10",
     "0203578f-c7f6-481c-90ed-052dfaf2b65a"
    ],
    "c1ad10f8-a7eb-4e52-8a46-41125fe4ef70": [],
    "c3ba0f7a-f5b7-4180-981a-02129ddf1956": [],
    "c602acc0-5d28-4c60-911d-8aaad720053a": [],
    "c61d631f-c885-4c57-9c08-88a3419ca6ea": [
     "86ccaa40-10e1-4919-9d92-13094a5fb07e",
     "50c63fcc-e7de-43b3-bce2-989ea7a54890"
    ],
    "ca837d72-5070-4402-9e7a-98474698c79d": [],
    "cbb84eb9-184d-4320-90a0-351cf8edaad3": [],
    "cc788ba2-4f05-4b78-a679-705ebeb93ac2": [
     "4bb695c6-178a-4634-82d8-4e389c5e0ea4"
    ],
    "cd75fb58-c1d9-47d6-9341-510a3d3b081f": [],
    "cf45e258-523f-4f84-b9e8-ab98c56dc85e": [],
    "cf9ea23e-f1fd-47a6-8df4-d03b494392e3": [],
    "d4ecbae7-c733-4262-be39-d67e2e4c9005": [],
    "d54dbd50-6879-4723-aa63-8b39a669560a": [],
    "d6155875-a163-439c-b402-0452706bbe57": [],
    "d63764be-d3ab-48d7-bcb8-bcea78c7934c": [],
    "d6b99fa3-de46-490c-9d0d-92725f4a6b0b": [],
    "d7148266-c2ef-4122-8fff-6ae6b82fe10f": [],
    "d72bd870-44f8-4653-a25c-d88f5d500ff6": [],
    "d72ff50e-c382-4d26-955c-e851555903c0": [
     "2d286b4c-7fb3-4a01-a775-0faea0f90ecf",
     "f82e6789-42da-4776-9eb9-9f72a9b95fd3"
    ],
    "d7a8d1e6-459d-450b-b3c2-8281771fc36c": [],
    "d821756c-70d6-4029-9871-8acf65c7f64d": [],
    "d9cd6f19-dd64-49a3-add1-ebe08820ae08": [
     "9536ea5c-2746-4f7a-8c99-39cf36df9dc2"
    ],
    "da702249-9ef8-4464-b023-fb03f30d31f5": [
     "15c7da6c-cdeb-4fa8-b455-a6ac416d91dd",
     "2ae56e64-b8cc-4335-8aad-9ff21ad755e9",
     "487f3e9c-25eb-4d15-a127-8f44b4a7cd38"
    ],
    "db21c94d-30fc-4dec-83e9-8d948494bfa8": [],
    "dcbd7086-f94b-4302-8f2d-d7e1f79df62d": [],
    "ddaaa901-9dff-4d50-b1c9-c9bc8a7b230b": [
     "8f2af279-e2da-4bc4-a205-924bb201d596",
     "a47e8743-00c2-44ae-b9f2-71a015d74b90",
     "fa4121db-3621-4e16-aceb-24e548d8bcd4"
    ],
    "e01d080a-d425-4ed3-bd8b-9b4697d853f8": [
     "45fc5ee4-1133-40d8-ac1a-60705bf9070e"
    ],
    "e0413b5b-e0f4-4d3d-ba49-b26ab2dc5ef7": [],
    "e458960d-e911-4159-b0cb-d526c0499979": [
     "8f2af279-e2da-4bc4-a205-924bb201d596",
     "a47e8743-00c2-44ae-b9f2-71a015d74b90",
     "fa4121db-3621-4e16-aceb-24e548d8bcd4"
    ],
    "e5d5dd01-c43f-4100-8829-45c04a472554": [],
    "e6bf4a35-baaa-434c-aef3-31629a30f037": [],
    "eadf391b-677a-4b30-be06-3110e3ccbef8": [],
    "eb469b5b-6611-493a-ab7b-ab573d12534e": [],
    "ec4a9650-4490-42a0-9886-bf3ffb6a2def": [
     "13558116-44dc-46e2-82ee-44dd2de94290"
    ],
    "ec730dfb-7eb3-4770-84a2-135ae02d7475": [
     "a8bb656b-9faf-4411-84a5-6f792e5d4968"
    ],
    "eeb52d8b-0cf4-402a-be2a-914c50d63e85": [
     "fd72573d-09a0-4a9e-ac4a-06f194a94db7"
    ],
    "efcbcb21-263c-4c8c-b5e7-b58de61e7aff": [],
    "f09a0a02-fa92-4095-82c2-b0df7fb081fe": [
     "00aafba1-2686-4128-8f30-abf2449c550c",
     "ec4a9650-4490-42a0-9886-bf3ffb6a2def"
    ],
    "f17e32b9-dd88-40a3-9b45-a35913f0989b": [
     "fc03b715-ae78-4fa5-8056-67112d8e67bb",
     "0203578f-c7f6-481c-90ed-052dfaf2b65a",
     "bd86c164-2fd8-4ade-b2d3-cde26918d38a"
    ],
    "f3423576-c27a-498a-ac44-41338909985e": [],
    "f36ee1b3-0e81-4017-9322-b8c6929d3aa1": [],
    "f57729e5-bdb6-4b88-9958-42a09ac3a2f2": [
     "7304619b-72f5-48d5-baea-700eb92f63f8"
    ],
    "f77d3b02-d233-47a5-9c72-3cf96e2b68e6": [],
    "f82e6789-42da-4776-9eb9-9f72a9b95fd3": [
     "4bb695c6-178a-4634-82d8-4e389c5e0ea4",
     "f90f322e-8b2d-487d-bf9a-264088293c86"
    ],
    "f8f82f5a-b28a-408a-8865-7f5342e6d3c9": [],
    "f90f322e-8b2d-487d-bf9a-264088293c86": [
     "4bb695c6-178a-4634-82d8-4e389c5e0ea4"
    ],
    "fa4121db-3621-4e16-aceb-24e548d8bcd4": [],
    "fa6735d4-ba4b-462c-b571-8c1bda131223": [],
    "faf64ff3-c215-4ae8-80ba-3d93309e8104": [
     "357e4655-1c8e-43d0-931f-4c7738807dc8"
    ],
    "fb3ed6a0-9c4f-4113-bd53-8b3abee89877": [
     "170c0e95-c50e-4908-ab15-72978cdfd05f"
    ],
    "fc018ad3-f60b-48fe-9715-1e5333a7aa47": [],
    "fc03b715-ae78-4fa5-8056-67112d8e67bb": [
     "4f613575-3306-4187-9022-a89b084db2a1",
     "0203578f-c7f6-481c-90ed-052dfaf2b65a",
     "9f45cde5-5047-4199-9fb3-97fae22d05af",
     "fb3ed6a0-9c4f-4113-bd53-8b3abee89877"
    ],
    "fd72573d-09a0-4a9e-ac4a-06f194a94db7": [
     "357e4655-1c8e-43d0-931f-4c7738807dc8"
    ],
    "fdcb6f3a-9d9b-4c26-b288-c3fa55cccaa4": [],
    "ff9bbbc7-e38d-49e1-be12-66b00ed9f9eb": []
   }
  },
  "kernelspec": {
   "display_name": "Python 3 (ipykernel)",
   "language": "python",
   "name": "python3"
  },
  "language_info": {
   "codemirror_mode": {
    "name": "ipython",
    "version": 3
   },
   "file_extension": ".py",
   "mimetype": "text/x-python",
   "name": "python",
   "nbconvert_exporter": "python",
   "pygments_lexer": "ipython3",
   "version": "3.8.10"
  }
 },
 "nbformat": 4,
 "nbformat_minor": 4
}
