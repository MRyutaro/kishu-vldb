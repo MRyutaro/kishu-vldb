{
 "cells": [
  {
   "cell_type": "markdown",
   "metadata": {},
   "source": [
    "<h2>Twitter Sentiment Analysis With Scikit-Learn</h2>\n",
    "<p>In this lesson we will use the scikit-learn Python library to perform some natural language processing tasks on our Twitter #climatechange dataset to evaluate user sentiment within the  280 character chunk of tweet text. For a supervised learning task, one must specify training and test datasets. For this example, we will use Textblob's built-in sentiment analysis to generate the core of our training and test datasets. </p>\n",
    "<p>This process consists of running the Textblob polarity sentiment analysis on the tweet text from our #climatechange dataset and extract a subset of the most positive or negative tweet text and create two datasets large enough to give us reasonable results but small enough to process quickly. </p>\n",
    "<p>We needed a reasonably large sample size so we chose weets for the positive dataset which had polarity sentiment values greater than 0.6 and tweets in the negative dataset which had polarity sentiment less than 0.4. This resulted in ???? positive tweets and ???? negative tweets. </p>\n",
    "<p>We then filtered the data to remove end-of-line characters, special characters, multiple sequential spaces, single character words, etc. \n"
   ]
  },
  {
   "cell_type": "markdown",
   "metadata": {},
   "source": [
    "<h2>Import Packages</h2>"
   ]
  },
  {
   "cell_type": "code",
   "execution_count": 1,
   "metadata": {},
   "outputs": [],
   "source": [
    "import re\n",
    "#import datetime\n",
    "#import os\n",
    "#import sys\n",
    "#import math\n",
    "import matplotlib.pyplot as plt\n",
    "import pandas as pd\n",
    "import numpy as np\n",
    "from textblob import TextBlob\n",
    "#import sklearn\n",
    "   "
   ]
  },
  {
   "cell_type": "markdown",
   "metadata": {},
   "source": [
    "## Import #climatechange Dataset"
   ]
  },
  {
   "cell_type": "code",
   "execution_count": 2,
   "metadata": {},
   "outputs": [],
   "source": [
    "data_dir = '/data/elastic-notebook/data/cvw/twitter/'"
   ]
  },
  {
   "cell_type": "code",
   "execution_count": 3,
   "metadata": {},
   "outputs": [],
   "source": [
    "df = pd.read_csv(data_dir + 'climatechange_tweets_all.csv')"
   ]
  },
  {
   "cell_type": "code",
   "execution_count": 4,
   "metadata": {},
   "outputs": [
    {
     "name": "stdout",
     "output_type": "stream",
     "text": [
      "<class 'pandas.core.frame.DataFrame'>\n",
      "RangeIndex: 457294 entries, 0 to 457293\n",
      "Data columns (total 15 columns):\n",
      " #   Column                    Non-Null Count   Dtype  \n",
      "---  ------                    --------------   -----  \n",
      " 0   tweet_id                  457294 non-null  int64  \n",
      " 1   tweet_created_at          457294 non-null  object \n",
      " 2   language                  457294 non-null  object \n",
      " 3   user_screen_name          457294 non-null  object \n",
      " 4   user_created_at           457294 non-null  object \n",
      " 5   user_id                   457294 non-null  int64  \n",
      " 6   followers_count           457294 non-null  int64  \n",
      " 7   friends_count             457294 non-null  int64  \n",
      " 8   time_zone                 0 non-null       float64\n",
      " 9   utc_offset                0 non-null       float64\n",
      " 10  retweeted_status          457294 non-null  int64  \n",
      " 11  retweet_id                319103 non-null  float64\n",
      " 12  retweet_user_screen_name  319103 non-null  object \n",
      " 13  retweet_user_id           319103 non-null  float64\n",
      " 14  text                      457294 non-null  object \n",
      "dtypes: float64(4), int64(5), object(6)\n",
      "memory usage: 52.3+ MB\n"
     ]
    }
   ],
   "source": [
    "df.info()"
   ]
  },
  {
   "cell_type": "markdown",
   "metadata": {},
   "source": [
    "## Create a Filtered Training/Test Dataset of Polarity Sentiment Measure Using Textblob\n",
    "\n",
    "In order to carry out classification, one needs to have labeled data examples: a set of inputs, along with associated labels, so that a classification algorithm can learn how to disciminate among the different labels based on the input.  Creating such a dataset (sometimes referred to as a \"gold standard\" dataset) can be very time consuming.\n",
    "\n",
    "In this exercise here, we have a set of tweets, and we'd like to \n",
    "\n",
    "<p>Creating a training/test dataset can require a significant amount of time. Often crowd-sourcing is used for this purpose. Since this is just a tutorial based on 'low-stakes' examples, we will use a simpler and quicker method to create our training/test dataset with Textblob. Textblob provides a feature designed to perform sentiment analysis for two different measures of sentiment, polarity and subjectivity. In this example we will use polarity, i.e. the negative or positive nature of a text sample, to classify our #climatechange dataset into mostly positive and mostly negative datasets. </p>\n",
    "\n",
    "<p>In the next code cell, we filter the data in several ways before processing with TextBlob. </p>"
   ]
  },
  {
   "cell_type": "code",
   "execution_count": 5,
   "metadata": {},
   "outputs": [
    {
     "name": "stderr",
     "output_type": "stream",
     "text": [
      "/tmp/ipykernel_2786136/1775286392.py:21: SettingWithCopyWarning: \n",
      "A value is trying to be set on a copy of a slice from a DataFrame.\n",
      "Try using .loc[row_indexer,col_indexer] = value instead\n",
      "\n",
      "See the caveats in the documentation: https://pandas.pydata.org/pandas-docs/stable/user_guide/indexing.html#returning-a-view-versus-a-copy\n",
      "  dff.loc[idx, 'tweet_text'] = tweet_text\n",
      "/tmp/ipykernel_2786136/1775286392.py:22: SettingWithCopyWarning: \n",
      "A value is trying to be set on a copy of a slice from a DataFrame.\n",
      "Try using .loc[row_indexer,col_indexer] = value instead\n",
      "\n",
      "See the caveats in the documentation: https://pandas.pydata.org/pandas-docs/stable/user_guide/indexing.html#returning-a-view-versus-a-copy\n",
      "  dff.loc[idx, 'polarity'] = tweet_text_sentiment.sentiment.polarity\n",
      "/tmp/ipykernel_2786136/1775286392.py:23: SettingWithCopyWarning: \n",
      "A value is trying to be set on a copy of a slice from a DataFrame.\n",
      "Try using .loc[row_indexer,col_indexer] = value instead\n",
      "\n",
      "See the caveats in the documentation: https://pandas.pydata.org/pandas-docs/stable/user_guide/indexing.html#returning-a-view-versus-a-copy\n",
      "  dff.loc[idx, 'subjectivity'] = tweet_text_sentiment.sentiment.subjectivity\n"
     ]
    },
    {
     "name": "stdout",
     "output_type": "stream",
     "text": [
      "10000\n",
      "20000\n",
      "30000\n",
      "40000\n"
     ]
    },
    {
     "name": "stderr",
     "output_type": "stream",
     "text": [
      "/tmp/ipykernel_2786136/1775286392.py:29: SettingWithCopyWarning: \n",
      "A value is trying to be set on a copy of a slice from a DataFrame\n",
      "\n",
      "See the caveats in the documentation: https://pandas.pydata.org/pandas-docs/stable/user_guide/indexing.html#returning-a-view-versus-a-copy\n",
      "  dff.drop('text', axis=1, inplace=True)\n"
     ]
    }
   ],
   "source": [
    "dff = df.drop_duplicates(subset='retweet_id')[['retweet_id', 'text']]\n",
    "count = 0\n",
    "for idx, row in dff.iterrows():\n",
    "    # Remove end-of-line characters\n",
    "    tweet_text = re.sub('\\n','',row['text'])\n",
    "    # Remove special characters\n",
    "    tweet_text = re.sub(r'\\W', ' ', tweet_text)\n",
    "    # remove all single characters\n",
    "    tweet_text = re.sub(r'\\s+[a-zA-Z]\\s+', ' ', tweet_text)\n",
    "    # Remove single characters from the start\n",
    "    tweet_text = re.sub(r'\\^[a-zA-Z]\\s+', ' ', tweet_text) \n",
    "    # Substituting multiple spaces with single space\n",
    "    tweet_text = re.sub(r'\\s+', ' ', tweet_text, flags=re.I)\n",
    "    # Removing prefixed 'b'\n",
    "    tweet_text = re.sub(r'^b\\s+', '', tweet_text)\n",
    "    # Converting to Lowercase\n",
    "    tweet_text = tweet_text.lower()\n",
    "    # Calculate the Sentiment with TextBlob\n",
    "    tweet_text_sentiment = TextBlob(tweet_text)\n",
    "    #\n",
    "    dff.loc[idx, 'tweet_text'] = tweet_text\n",
    "    dff.loc[idx, 'polarity'] = tweet_text_sentiment.sentiment.polarity\n",
    "    dff.loc[idx, 'subjectivity'] = tweet_text_sentiment.sentiment.subjectivity\n",
    "    #\n",
    "    count += 1\n",
    "    if count%10000 == 0:\n",
    "        print(count)\n",
    "\n",
    "dff.drop('text', axis=1, inplace=True)"
   ]
  },
  {
   "cell_type": "code",
   "execution_count": 6,
   "metadata": {},
   "outputs": [
    {
     "name": "stdout",
     "output_type": "stream",
     "text": [
      "<class 'pandas.core.frame.DataFrame'>\n",
      "Index: 44127 entries, 0 to 457223\n",
      "Data columns (total 4 columns):\n",
      " #   Column        Non-Null Count  Dtype  \n",
      "---  ------        --------------  -----  \n",
      " 0   retweet_id    44126 non-null  float64\n",
      " 1   tweet_text    44127 non-null  object \n",
      " 2   polarity      44127 non-null  float64\n",
      " 3   subjectivity  44127 non-null  float64\n",
      "dtypes: float64(3), object(1)\n",
      "memory usage: 2.7+ MB\n",
      "None\n"
     ]
    },
    {
     "data": {
      "text/html": [
       "<div>\n",
       "<style scoped>\n",
       "    .dataframe tbody tr th:only-of-type {\n",
       "        vertical-align: middle;\n",
       "    }\n",
       "\n",
       "    .dataframe tbody tr th {\n",
       "        vertical-align: top;\n",
       "    }\n",
       "\n",
       "    .dataframe thead th {\n",
       "        text-align: right;\n",
       "    }\n",
       "</style>\n",
       "<table border=\"1\" class=\"dataframe\">\n",
       "  <thead>\n",
       "    <tr style=\"text-align: right;\">\n",
       "      <th></th>\n",
       "      <th>retweet_id</th>\n",
       "      <th>tweet_text</th>\n",
       "      <th>polarity</th>\n",
       "      <th>subjectivity</th>\n",
       "    </tr>\n",
       "  </thead>\n",
       "  <tbody>\n",
       "    <tr>\n",
       "      <th>0</th>\n",
       "      <td>1.068067e+18</td>\n",
       "      <td>rt unfccc delegates from around the world are ...</td>\n",
       "      <td>0.000000</td>\n",
       "      <td>0.000000</td>\n",
       "    </tr>\n",
       "    <tr>\n",
       "      <th>1</th>\n",
       "      <td>1.068211e+18</td>\n",
       "      <td>rt saskboy think we most often hear the word d...</td>\n",
       "      <td>-0.066667</td>\n",
       "      <td>0.466667</td>\n",
       "    </tr>\n",
       "    <tr>\n",
       "      <th>2</th>\n",
       "      <td>1.068223e+18</td>\n",
       "      <td>rt ecosensenow it mat not be obvious but einst...</td>\n",
       "      <td>0.000000</td>\n",
       "      <td>0.500000</td>\n",
       "    </tr>\n",
       "    <tr>\n",
       "      <th>3</th>\n",
       "      <td>1.068182e+18</td>\n",
       "      <td>rt climatecomms most americans now see climate...</td>\n",
       "      <td>-0.277778</td>\n",
       "      <td>0.722222</td>\n",
       "    </tr>\n",
       "    <tr>\n",
       "      <th>4</th>\n",
       "      <td>1.068187e+18</td>\n",
       "      <td>rt portlandbem last week federal climate chang...</td>\n",
       "      <td>0.000000</td>\n",
       "      <td>0.322222</td>\n",
       "    </tr>\n",
       "  </tbody>\n",
       "</table>\n",
       "</div>"
      ],
      "text/plain": [
       "     retweet_id                                         tweet_text  polarity  \\\n",
       "0  1.068067e+18  rt unfccc delegates from around the world are ...  0.000000   \n",
       "1  1.068211e+18  rt saskboy think we most often hear the word d... -0.066667   \n",
       "2  1.068223e+18  rt ecosensenow it mat not be obvious but einst...  0.000000   \n",
       "3  1.068182e+18  rt climatecomms most americans now see climate... -0.277778   \n",
       "4  1.068187e+18  rt portlandbem last week federal climate chang...  0.000000   \n",
       "\n",
       "   subjectivity  \n",
       "0      0.000000  \n",
       "1      0.466667  \n",
       "2      0.500000  \n",
       "3      0.722222  \n",
       "4      0.322222  "
      ]
     },
     "execution_count": 6,
     "metadata": {},
     "output_type": "execute_result"
    }
   ],
   "source": [
    "print(dff.info())\n",
    "dff.head()"
   ]
  },
  {
   "cell_type": "code",
   "execution_count": 7,
   "metadata": {},
   "outputs": [
    {
     "data": {
      "text/plain": [
       "<Axes: ylabel='Frequency'>"
      ]
     },
     "execution_count": 7,
     "metadata": {},
     "output_type": "execute_result"
    },
    {
     "data": {
      "image/png": "[encoded data removed]",
      "text/plain": [
       "<Figure size 640x480 with 1 Axes>"
      ]
     },
     "metadata": {},
     "output_type": "display_data"
    }
   ],
   "source": [
    "dff['polarity'].plot.hist()"
   ]
  },
  {
   "cell_type": "code",
   "execution_count": 8,
   "metadata": {},
   "outputs": [
    {
     "name": "stderr",
     "output_type": "stream",
     "text": [
      "/tmp/ipykernel_2786136/471913863.py:1: SettingWithCopyWarning: \n",
      "A value is trying to be set on a copy of a slice from a DataFrame.\n",
      "Try using .loc[row_indexer,col_indexer] = value instead\n",
      "\n",
      "See the caveats in the documentation: https://pandas.pydata.org/pandas-docs/stable/user_guide/indexing.html#returning-a-view-versus-a-copy\n",
      "  dff['polarity_label'] = dff['polarity'].apply(\n"
     ]
    }
   ],
   "source": [
    "dff['polarity_label'] = dff['polarity'].apply(\n",
    "    lambda x: 'positive' if x > 0.5 else ('negative' if x < -0.3 else 'neutral'))"
   ]
  },
  {
   "cell_type": "code",
   "execution_count": 9,
   "metadata": {},
   "outputs": [
    {
     "data": {
      "text/plain": [
       "<Axes: ylabel='Frequency'>"
      ]
     },
     "execution_count": 9,
     "metadata": {},
     "output_type": "execute_result"
    },
    {
     "data": {
      "image/png": "[encoded data removed]",
      "text/plain": [
       "<Figure size 640x480 with 1 Axes>"
      ]
     },
     "metadata": {},
     "output_type": "display_data"
    }
   ],
   "source": [
    "dff['subjectivity'].plot.hist(bins=20)"
   ]
  },
  {
   "cell_type": "code",
   "execution_count": 10,
   "metadata": {},
   "outputs": [
    {
     "name": "stderr",
     "output_type": "stream",
     "text": [
      "/tmp/ipykernel_2786136/1521864064.py:1: SettingWithCopyWarning: \n",
      "A value is trying to be set on a copy of a slice from a DataFrame.\n",
      "Try using .loc[row_indexer,col_indexer] = value instead\n",
      "\n",
      "See the caveats in the documentation: https://pandas.pydata.org/pandas-docs/stable/user_guide/indexing.html#returning-a-view-versus-a-copy\n",
      "  dff['subjectivity_label'] = dff['subjectivity'].apply(\n"
     ]
    }
   ],
   "source": [
    "dff['subjectivity_label'] = dff['subjectivity'].apply(\n",
    "    lambda x: 'subjective' if x > 0.9 else ('objective' if x < 0.02 else 'neither'))"
   ]
  },
  {
   "cell_type": "code",
   "execution_count": 11,
   "metadata": {},
   "outputs": [
    {
     "data": {
      "text/html": [
       "<div>\n",
       "<style scoped>\n",
       "    .dataframe tbody tr th:only-of-type {\n",
       "        vertical-align: middle;\n",
       "    }\n",
       "\n",
       "    .dataframe tbody tr th {\n",
       "        vertical-align: top;\n",
       "    }\n",
       "\n",
       "    .dataframe thead th {\n",
       "        text-align: right;\n",
       "    }\n",
       "</style>\n",
       "<table border=\"1\" class=\"dataframe\">\n",
       "  <thead>\n",
       "    <tr style=\"text-align: right;\">\n",
       "      <th></th>\n",
       "      <th>retweet_id</th>\n",
       "      <th>tweet_text</th>\n",
       "      <th>polarity</th>\n",
       "      <th>subjectivity</th>\n",
       "      <th>polarity_label</th>\n",
       "      <th>subjectivity_label</th>\n",
       "    </tr>\n",
       "  </thead>\n",
       "  <tbody>\n",
       "    <tr>\n",
       "      <th>0</th>\n",
       "      <td>1.068067e+18</td>\n",
       "      <td>rt unfccc delegates from around the world are ...</td>\n",
       "      <td>0.000000</td>\n",
       "      <td>0.000000</td>\n",
       "      <td>neutral</td>\n",
       "      <td>objective</td>\n",
       "    </tr>\n",
       "    <tr>\n",
       "      <th>1</th>\n",
       "      <td>1.068211e+18</td>\n",
       "      <td>rt saskboy think we most often hear the word d...</td>\n",
       "      <td>-0.066667</td>\n",
       "      <td>0.466667</td>\n",
       "      <td>neutral</td>\n",
       "      <td>neither</td>\n",
       "    </tr>\n",
       "    <tr>\n",
       "      <th>2</th>\n",
       "      <td>1.068223e+18</td>\n",
       "      <td>rt ecosensenow it mat not be obvious but einst...</td>\n",
       "      <td>0.000000</td>\n",
       "      <td>0.500000</td>\n",
       "      <td>neutral</td>\n",
       "      <td>neither</td>\n",
       "    </tr>\n",
       "    <tr>\n",
       "      <th>3</th>\n",
       "      <td>1.068182e+18</td>\n",
       "      <td>rt climatecomms most americans now see climate...</td>\n",
       "      <td>-0.277778</td>\n",
       "      <td>0.722222</td>\n",
       "      <td>neutral</td>\n",
       "      <td>neither</td>\n",
       "    </tr>\n",
       "    <tr>\n",
       "      <th>4</th>\n",
       "      <td>1.068187e+18</td>\n",
       "      <td>rt portlandbem last week federal climate chang...</td>\n",
       "      <td>0.000000</td>\n",
       "      <td>0.322222</td>\n",
       "      <td>neutral</td>\n",
       "      <td>neither</td>\n",
       "    </tr>\n",
       "  </tbody>\n",
       "</table>\n",
       "</div>"
      ],
      "text/plain": [
       "     retweet_id                                         tweet_text  polarity  \\\n",
       "0  1.068067e+18  rt unfccc delegates from around the world are ...  0.000000   \n",
       "1  1.068211e+18  rt saskboy think we most often hear the word d... -0.066667   \n",
       "2  1.068223e+18  rt ecosensenow it mat not be obvious but einst...  0.000000   \n",
       "3  1.068182e+18  rt climatecomms most americans now see climate... -0.277778   \n",
       "4  1.068187e+18  rt portlandbem last week federal climate chang...  0.000000   \n",
       "\n",
       "   subjectivity polarity_label subjectivity_label  \n",
       "0      0.000000        neutral          objective  \n",
       "1      0.466667        neutral            neither  \n",
       "2      0.500000        neutral            neither  \n",
       "3      0.722222        neutral            neither  \n",
       "4      0.322222        neutral            neither  "
      ]
     },
     "execution_count": 11,
     "metadata": {},
     "output_type": "execute_result"
    }
   ],
   "source": [
    "dff.head()"
   ]
  },
  {
   "cell_type": "markdown",
   "metadata": {},
   "source": [
    "## Building a Classifier\n",
    "\n",
    "Now that we have created our datasets we can proceed to create a classifier, the aim of which is to take as input a given tweet text and to assign a label as to its likely sentiment (positive, negative, or neutral).\n",
    "\n",
    "In order \n",
    "\n",
    "<p>Next, we need to initialize a vectorizer. This converts the tweet text into a word 'vector' in which each word becomes a 'component' of the vector and has a specific magnitude. We have not performed any preprocessing on the data or removed any stop words. We will set lowercase to False.</p>\n",
    "\n",
    "which should be able to identify with reasonable accuracy whether a tweet has a positive or negative sentiment. First, we will import our data. Note the print statement in the cell which processes the negative dataset. It is there just to give us a peek into what Textblob determined were negative tweet text."
   ]
  },
  {
   "cell_type": "code",
   "execution_count": 12,
   "metadata": {},
   "outputs": [],
   "source": [
    "from sklearn.feature_extraction.text import CountVectorizer     \n",
    "\n",
    "vectorizer = CountVectorizer(\n",
    "    analyzer = 'word',\n",
    "    lowercase = False,\n",
    "    max_features = 85\n",
    ")"
   ]
  },
  {
   "cell_type": "code",
   "execution_count": 13,
   "metadata": {},
   "outputs": [
    {
     "data": {
      "text/plain": [
       "(44127, 85)"
      ]
     },
     "execution_count": 13,
     "metadata": {},
     "output_type": "execute_result"
    }
   ],
   "source": [
    "features = vectorizer.fit_transform(dff.tweet_text).toarray()\n",
    "features.shape"
   ]
  },
  {
   "cell_type": "markdown",
   "metadata": {},
   "source": [
    "As a final step, we'll split the training data to get an evaluation set through scikit-learn's built-in cross validation method. All we need to do is provide the data and assign a training percentage (in this case, 80%)."
   ]
  },
  {
   "cell_type": "code",
   "execution_count": 14,
   "metadata": {},
   "outputs": [
    {
     "name": "stdout",
     "output_type": "stream",
     "text": [
      "(35301, 85)\n",
      "(8826, 85)\n",
      "(35301,)\n",
      "(8826,)\n"
     ]
    }
   ],
   "source": [
    "from sklearn.model_selection import train_test_split\n",
    "\n",
    "X = features\n",
    "y = dff.polarity_label\n",
    "\n",
    "X_train, X_test, y_train, y_test = train_test_split(\n",
    "    X, y, train_size=0.8, random_state=1234)\n",
    "\n",
    "print(X_train.shape)\n",
    "print(X_test.shape)\n",
    "print(y_train.shape)\n",
    "print(y_test.shape)"
   ]
  },
  {
   "cell_type": "markdown",
   "metadata": {},
   "source": [
    "### Build a Linear Classifier\n",
    "\n",
    "Finally, having preprocessed the data, we can build a classifier for this corpus! As mentioned before, we'll be using the Logistic Regression from scikit-learn, so we'll start there: "
   ]
  },
  {
   "cell_type": "code",
   "execution_count": 15,
   "metadata": {},
   "outputs": [],
   "source": [
    "from sklearn.linear_model import LogisticRegression\n",
    "log_model = LogisticRegression(solver='liblinear')"
   ]
  },
  {
   "cell_type": "markdown",
   "metadata": {},
   "source": [
    "Once the model is initialized, we have to fit it to our specific dataset, so we use scikit-learn's `fit()` method to do so:"
   ]
  },
  {
   "cell_type": "code",
   "execution_count": 16,
   "metadata": {},
   "outputs": [],
   "source": [
    "log_model = log_model.fit(X=X_train, y=y_train)"
   ]
  },
  {
   "cell_type": "markdown",
   "metadata": {},
   "source": [
    "And finally, we use this classifier to label the evaluation set we created earlier:"
   ]
  },
  {
   "cell_type": "code",
   "execution_count": 17,
   "metadata": {},
   "outputs": [],
   "source": [
    "y_pred = log_model.predict(X_test)"
   ]
  },
  {
   "cell_type": "markdown",
   "metadata": {},
   "source": [
    "### Evaluate the Model's Accuracy"
   ]
  },
  {
   "cell_type": "markdown",
   "metadata": {},
   "source": [
    "In scikit-learn, there is a function called sklearn.metrics.accuracy_score which calculates the accuracy percentage. Using this, we see that this model has an accuracy of about 70%. "
   ]
  },
  {
   "cell_type": "code",
   "execution_count": 18,
   "metadata": {},
   "outputs": [
    {
     "name": "stdout",
     "output_type": "stream",
     "text": [
      "0.91241785633356\n"
     ]
    }
   ],
   "source": [
    "from sklearn.metrics import accuracy_score\n",
    "print(accuracy_score(y_test, y_pred))"
   ]
  },
  {
   "cell_type": "markdown",
   "metadata": {},
   "source": [
    "When we ran this on our raw unfiltered data we get ~70%. That's not bad, but 76% is much better, and we could probably do even better if we manually reviewed the datasets for any misclassifications by TextBlob. "
   ]
  },
  {
   "cell_type": "code",
   "execution_count": 19,
   "metadata": {},
   "outputs": [
    {
     "data": {
      "text/plain": [
       "{'fit_time': array([0.34939098, 0.37254357, 0.37401557, 0.34609389, 0.34756732]),\n",
       " 'score_time': array([0.00776029, 0.00783372, 0.0157249 , 0.0118463 , 0.0076139 ]),\n",
       " 'test_score': array([0.91457059, 0.91411738, 0.91478754, 0.91433428, 0.91580737])}"
      ]
     },
     "execution_count": 19,
     "metadata": {},
     "output_type": "execute_result"
    }
   ],
   "source": [
    "from sklearn.model_selection import cross_validate\n",
    "cross_validate(log_model, X, y, cv=5)"
   ]
  },
  {
   "cell_type": "markdown",
   "metadata": {},
   "source": [
    "Let's try some other classifiers, such as Naive Bayes. Scikit-learn offers a few variations on the Naive-Bayes classifier, Gaussian, Multinomial, and Complement. We will create and test each model and compare our results with the Logistic Regression model. "
   ]
  },
  {
   "cell_type": "markdown",
   "metadata": {},
   "source": [
    "<h2>Gaussian NB Classifier</h2>\n",
    "<p>This classifier does not really make sense because it assumes the distribution of our data is gaussian, which is not likely for tweet text. But let's run it anyhow and confirm our suspicions.</p>"
   ]
  },
  {
   "cell_type": "code",
   "execution_count": 20,
   "metadata": {},
   "outputs": [
    {
     "data": {
      "text/plain": [
       "{'fit_time': array([0.06747341, 0.07468653, 0.06851482, 0.06683755, 0.06494331]),\n",
       " 'score_time': array([0.01221299, 0.01188231, 0.01215482, 0.01213884, 0.01199317]),\n",
       " 'test_score': array([0.27362339, 0.30364831, 0.23320113, 0.29291785, 0.34413598])}"
      ]
     },
     "execution_count": 20,
     "metadata": {},
     "output_type": "execute_result"
    }
   ],
   "source": [
    "from sklearn.naive_bayes import GaussianNB\n",
    "gnb_model = GaussianNB()\n",
    "cross_validate(gnb_model, X, y, cv=5)\n",
    "#gnb_model = gnb.fit(X=X_train, y=y_train)\n",
    "#y_pred = gnb_model.predict(X_test)"
   ]
  },
  {
   "cell_type": "code",
   "execution_count": 21,
   "metadata": {},
   "outputs": [],
   "source": [
    "#from sklearn.metrics import accuracy_score\n",
    "#print(accuracy_score(y_test, y_pred))"
   ]
  },
  {
   "cell_type": "code",
   "execution_count": 22,
   "metadata": {},
   "outputs": [],
   "source": [
    "#len(y_train[y_train == 'negative'])"
   ]
  },
  {
   "cell_type": "markdown",
   "metadata": {},
   "source": [
    "<h2>Multinomial NB Classifier</h2>"
   ]
  },
  {
   "cell_type": "code",
   "execution_count": 23,
   "metadata": {},
   "outputs": [
    {
     "data": {
      "text/plain": [
       "{'fit_time': array([0.11358404, 0.11723685, 0.12442899, 0.11724639, 0.11981821]),\n",
       " 'score_time': array([0.00702095, 0.00818539, 0.00796533, 0.00785685, 0.00828171]),\n",
       " 'test_score': array([0.91275776, 0.91321097, 0.91286119, 0.91240793, 0.91388102])}"
      ]
     },
     "execution_count": 23,
     "metadata": {},
     "output_type": "execute_result"
    }
   ],
   "source": [
    "from sklearn.naive_bayes import MultinomialNB\n",
    "mnb_model = MultinomialNB()\n",
    "cross_validate(mnb_model, X, y, cv=5)\n",
    "#mnb_model = mnb.fit(X=X_train, y=y_train)\n",
    "#y_pred = mnb_model.predict(X_test)"
   ]
  },
  {
   "cell_type": "code",
   "execution_count": 24,
   "metadata": {},
   "outputs": [
    {
     "name": "stdout",
     "output_type": "stream",
     "text": [
      "0.91241785633356\n"
     ]
    }
   ],
   "source": [
    "from sklearn.metrics import accuracy_score\n",
    "print(accuracy_score(y_test, y_pred))"
   ]
  },
  {
   "cell_type": "markdown",
   "metadata": {},
   "source": [
    "<h2>Complement NB Classifier</h2>"
   ]
  },
  {
   "cell_type": "code",
   "execution_count": 25,
   "metadata": {},
   "outputs": [
    {
     "data": {
      "text/plain": [
       "{'fit_time': array([0.11720037, 0.12565422, 0.1536293 , 0.13297343, 0.12052369]),\n",
       " 'score_time': array([0.00820613, 0.01046276, 0.01037526, 0.00804353, 0.00814152]),\n",
       " 'test_score': array([0.59539995, 0.60605031, 0.6       , 0.59977337, 0.62968839])}"
      ]
     },
     "execution_count": 25,
     "metadata": {},
     "output_type": "execute_result"
    }
   ],
   "source": [
    "from sklearn.naive_bayes import ComplementNB\n",
    "cnb_model = ComplementNB()\n",
    "cross_validate(cnb_model, X, y, cv=5)\n",
    "#cnb_model = cnb.fit(X=X_train, y=y_train)\n",
    "#y_pred = cnb_model.predict(X_test)"
   ]
  },
  {
   "cell_type": "markdown",
   "metadata": {},
   "source": [
    "It appears none of the Naive Bayes classifiers performs better than Logistic Regression. "
   ]
  },
  {
   "cell_type": "code",
   "execution_count": 26,
   "metadata": {},
   "outputs": [
    {
     "name": "stdout",
     "output_type": "stream",
     "text": [
      "10000\n",
      "20000\n",
      "30000\n",
      "40000\n",
      "50000\n",
      "60000\n",
      "70000\n",
      "80000\n",
      "90000\n",
      "100000\n",
      "110000\n",
      "120000\n",
      "130000\n",
      "140000\n",
      "150000\n",
      "160000\n",
      "170000\n",
      "180000\n"
     ]
    }
   ],
   "source": [
    "# Not me!\n",
    "retweet_ids = set()\n",
    "retweet_id_list = []\n",
    "positive_tweets = []\n",
    "negative_tweets = []\n",
    "polarity = []\n",
    "subjectivity = []\n",
    "tweet_text_list = []\n",
    "val_inc = 0\n",
    "\n",
    "for index, row in df.iterrows():\n",
    "    # Check if retweet id is in set and process if not\n",
    "    if row['retweet_id'] not in retweet_ids:\n",
    "        retweet_ids.add(row['retweet_id'])\n",
    "        retweet_id_list.append(row['retweet_id'])\n",
    "        # Remove end-of-line characters\n",
    "        tweet_text = re.sub('\\n','',row['text'])\n",
    "        # Remove special characters\n",
    "        tweet_text = re.sub(r'\\W', ' ', tweet_text)\n",
    "        # remove all single characters\n",
    "        tweet_text = re.sub(r'\\s+[a-zA-Z]\\s+', ' ', tweet_text)\n",
    "        # Remove single characters from the start\n",
    "        tweet_text = re.sub(r'\\^[a-zA-Z]\\s+', ' ', tweet_text) \n",
    "        # Substituting multiple spaces with single space\n",
    "        tweet_text = re.sub(r'\\s+', ' ', tweet_text, flags=re.I)\n",
    "        # Removing prefixed 'b'\n",
    "        tweet_text = re.sub(r'^b\\s+', '', tweet_text)\n",
    "        # Converting to Lowercase\n",
    "        tweet_text = tweet_text.lower()\n",
    "        # Calculate the Sentiment with TextBlob\n",
    "        tweet_text_sentiment = TextBlob(tweet_text)\n",
    "        polarity.append(tweet_text_sentiment.sentiment.polarity)\n",
    "        subjectivity.append(tweet_text_sentiment.sentiment.subjectivity)\n",
    "        tweet_text_list.append(tweet_text)\n",
    "        val_inc += 1\n",
    "        if val_inc%10000 == 0:\n",
    "            print(str(val_inc))\n",
    "\n",
    "# retweet_id_list = np.array(retweet_id_list)\n",
    "# positive_tweets = np.array(positive_tweets)\n",
    "# negative_tweets = np.array(negative_tweets)\n",
    "# polarity = np.array(polarity)\n",
    "# subjectivity = np.array(subjectivity)\n",
    "# tweet_text_list = np.array(tweet_text_list)\n",
    "del retweet_ids"
   ]
  },
  {
   "cell_type": "code",
   "execution_count": 27,
   "metadata": {},
   "outputs": [],
   "source": [
    "polarity_df = pd.DataFrame(retweet_id_list, columns=['retweet_id'])"
   ]
  },
  {
   "cell_type": "code",
   "execution_count": 28,
   "metadata": {},
   "outputs": [
    {
     "name": "stdout",
     "output_type": "stream",
     "text": [
      "<class 'pandas.core.frame.DataFrame'>\n",
      "RangeIndex: 182317 entries, 0 to 182316\n",
      "Data columns (total 1 columns):\n",
      " #   Column      Non-Null Count  Dtype  \n",
      "---  ------      --------------  -----  \n",
      " 0   retweet_id  44126 non-null  float64\n",
      "dtypes: float64(1)\n",
      "memory usage: 1.4 MB\n"
     ]
    }
   ],
   "source": [
    "polarity_df.info()"
   ]
  },
  {
   "cell_type": "markdown",
   "metadata": {},
   "source": [
    "We need to add the tweet text and polarity to our dataframe as an additional column. Since these are lists, we can trust that they retain a specific immutable sequence and thus will 'line-up' corresponding values correctly. "
   ]
  },
  {
   "cell_type": "code",
   "execution_count": 29,
   "metadata": {},
   "outputs": [],
   "source": [
    "polarity_df['tweet_text'] = tweet_text_list"
   ]
  },
  {
   "cell_type": "code",
   "execution_count": 30,
   "metadata": {},
   "outputs": [],
   "source": [
    "polarity_df['polarity'] = polarity"
   ]
  },
  {
   "cell_type": "code",
   "execution_count": 31,
   "metadata": {},
   "outputs": [
    {
     "data": {
      "text/html": [
       "<div>\n",
       "<style scoped>\n",
       "    .dataframe tbody tr th:only-of-type {\n",
       "        vertical-align: middle;\n",
       "    }\n",
       "\n",
       "    .dataframe tbody tr th {\n",
       "        vertical-align: top;\n",
       "    }\n",
       "\n",
       "    .dataframe thead th {\n",
       "        text-align: right;\n",
       "    }\n",
       "</style>\n",
       "<table border=\"1\" class=\"dataframe\">\n",
       "  <thead>\n",
       "    <tr style=\"text-align: right;\">\n",
       "      <th></th>\n",
       "      <th>retweet_id</th>\n",
       "      <th>tweet_text</th>\n",
       "      <th>polarity</th>\n",
       "    </tr>\n",
       "  </thead>\n",
       "  <tbody>\n",
       "    <tr>\n",
       "      <th>0</th>\n",
       "      <td>1.068067e+18</td>\n",
       "      <td>rt unfccc delegates from around the world are ...</td>\n",
       "      <td>0.000000</td>\n",
       "    </tr>\n",
       "    <tr>\n",
       "      <th>1</th>\n",
       "      <td>1.068211e+18</td>\n",
       "      <td>rt saskboy think we most often hear the word d...</td>\n",
       "      <td>-0.066667</td>\n",
       "    </tr>\n",
       "    <tr>\n",
       "      <th>2</th>\n",
       "      <td>1.068223e+18</td>\n",
       "      <td>rt ecosensenow it mat not be obvious but einst...</td>\n",
       "      <td>0.000000</td>\n",
       "    </tr>\n",
       "    <tr>\n",
       "      <th>3</th>\n",
       "      <td>1.068182e+18</td>\n",
       "      <td>rt climatecomms most americans now see climate...</td>\n",
       "      <td>-0.277778</td>\n",
       "    </tr>\n",
       "    <tr>\n",
       "      <th>4</th>\n",
       "      <td>1.068187e+18</td>\n",
       "      <td>rt portlandbem last week federal climate chang...</td>\n",
       "      <td>0.000000</td>\n",
       "    </tr>\n",
       "  </tbody>\n",
       "</table>\n",
       "</div>"
      ],
      "text/plain": [
       "     retweet_id                                         tweet_text  polarity\n",
       "0  1.068067e+18  rt unfccc delegates from around the world are ...  0.000000\n",
       "1  1.068211e+18  rt saskboy think we most often hear the word d... -0.066667\n",
       "2  1.068223e+18  rt ecosensenow it mat not be obvious but einst...  0.000000\n",
       "3  1.068182e+18  rt climatecomms most americans now see climate... -0.277778\n",
       "4  1.068187e+18  rt portlandbem last week federal climate chang...  0.000000"
      ]
     },
     "execution_count": 31,
     "metadata": {},
     "output_type": "execute_result"
    }
   ],
   "source": [
    "polarity_df.head()"
   ]
  },
  {
   "cell_type": "markdown",
   "metadata": {},
   "source": [
    "# Optional Exercise: Subjectivity Data"
   ]
  },
  {
   "cell_type": "markdown",
   "metadata": {},
   "source": [
    "<h2>Save Filtered Polarity Data</h2>"
   ]
  },
  {
   "cell_type": "markdown",
   "metadata": {},
   "source": [
    "Let's save our results in case we need this data for future examples. "
   ]
  },
  {
   "cell_type": "code",
   "execution_count": 32,
   "metadata": {},
   "outputs": [],
   "source": [
    "#REMOVE\n",
    "\n",
    "polarity_df.to_csv(data_dir + 'polarity_df_clean.csv')"
   ]
  },
  {
   "cell_type": "markdown",
   "metadata": {},
   "source": [
    "<h2>[Optional as an Exercise] Save Filtered Subjectivity Data</h2>"
   ]
  },
  {
   "cell_type": "code",
   "execution_count": 33,
   "metadata": {},
   "outputs": [],
   "source": [
    "#REMOVE\n",
    "\n",
    "subjectivity_df = pd.DataFrame(retweet_id_list, columns=['retweet_id'])\n",
    "subjectivity_df['tweet_text'] = tweet_text_list\n",
    "subjectivity_df['subjectivity'] = subjectivity\n",
    "subjectivity_df.to_csv(data_dir + 'subjectivity_df_clean.csv')"
   ]
  },
  {
   "cell_type": "code",
   "execution_count": 34,
   "metadata": {
    "scrolled": true
   },
   "outputs": [
    {
     "data": {
      "text/html": [
       "<div>\n",
       "<style scoped>\n",
       "    .dataframe tbody tr th:only-of-type {\n",
       "        vertical-align: middle;\n",
       "    }\n",
       "\n",
       "    .dataframe tbody tr th {\n",
       "        vertical-align: top;\n",
       "    }\n",
       "\n",
       "    .dataframe thead th {\n",
       "        text-align: right;\n",
       "    }\n",
       "</style>\n",
       "<table border=\"1\" class=\"dataframe\">\n",
       "  <thead>\n",
       "    <tr style=\"text-align: right;\">\n",
       "      <th></th>\n",
       "      <th>retweet_id</th>\n",
       "      <th>tweet_text</th>\n",
       "      <th>subjectivity</th>\n",
       "    </tr>\n",
       "  </thead>\n",
       "  <tbody>\n",
       "    <tr>\n",
       "      <th>0</th>\n",
       "      <td>1.068067e+18</td>\n",
       "      <td>rt unfccc delegates from around the world are ...</td>\n",
       "      <td>0.000000</td>\n",
       "    </tr>\n",
       "    <tr>\n",
       "      <th>1</th>\n",
       "      <td>1.068211e+18</td>\n",
       "      <td>rt saskboy think we most often hear the word d...</td>\n",
       "      <td>0.466667</td>\n",
       "    </tr>\n",
       "    <tr>\n",
       "      <th>2</th>\n",
       "      <td>1.068223e+18</td>\n",
       "      <td>rt ecosensenow it mat not be obvious but einst...</td>\n",
       "      <td>0.500000</td>\n",
       "    </tr>\n",
       "    <tr>\n",
       "      <th>3</th>\n",
       "      <td>1.068182e+18</td>\n",
       "      <td>rt climatecomms most americans now see climate...</td>\n",
       "      <td>0.722222</td>\n",
       "    </tr>\n",
       "    <tr>\n",
       "      <th>4</th>\n",
       "      <td>1.068187e+18</td>\n",
       "      <td>rt portlandbem last week federal climate chang...</td>\n",
       "      <td>0.322222</td>\n",
       "    </tr>\n",
       "  </tbody>\n",
       "</table>\n",
       "</div>"
      ],
      "text/plain": [
       "     retweet_id                                         tweet_text  \\\n",
       "0  1.068067e+18  rt unfccc delegates from around the world are ...   \n",
       "1  1.068211e+18  rt saskboy think we most often hear the word d...   \n",
       "2  1.068223e+18  rt ecosensenow it mat not be obvious but einst...   \n",
       "3  1.068182e+18  rt climatecomms most americans now see climate...   \n",
       "4  1.068187e+18  rt portlandbem last week federal climate chang...   \n",
       "\n",
       "   subjectivity  \n",
       "0      0.000000  \n",
       "1      0.466667  \n",
       "2      0.500000  \n",
       "3      0.722222  \n",
       "4      0.322222  "
      ]
     },
     "execution_count": 34,
     "metadata": {},
     "output_type": "execute_result"
    }
   ],
   "source": [
    "subjectivity_df.head()"
   ]
  },
  {
   "cell_type": "markdown",
   "metadata": {},
   "source": [
    "<h2>Extract Positive and Negative Text</h2>"
   ]
  },
  {
   "cell_type": "code",
   "execution_count": 35,
   "metadata": {},
   "outputs": [],
   "source": [
    "# REMOVE\n",
    "\n",
    "positive_tweets_df = polarity_df[polarity_df.polarity > 0.5]\n",
    "negative_tweets_df = polarity_df[polarity_df.polarity < -0.3]\n",
    "positive_text = positive_tweets_df.tweet_text\n",
    "negative_text = negative_tweets_df.tweet_text"
   ]
  },
  {
   "cell_type": "markdown",
   "metadata": {},
   "source": [
    "<h2>[Optional as an Exercise] Extract Subjective and Objective Text</h2>"
   ]
  },
  {
   "cell_type": "code",
   "execution_count": 36,
   "metadata": {},
   "outputs": [],
   "source": [
    "subjective_tweets_df = polarity_df[subjectivity_df.subjectivity > 0.9]\n",
    "objective_tweets_df = polarity_df[subjectivity_df.subjectivity < 0.02]\n",
    "subjective_text = subjective_tweets_df.tweet_text\n",
    "objective_text = objective_tweets_df.tweet_text"
   ]
  },
  {
   "cell_type": "markdown",
   "metadata": {},
   "source": [
    "<h2>Save Filtered Polarity Data</h2>"
   ]
  },
  {
   "cell_type": "markdown",
   "metadata": {},
   "source": [
    "Let's save our results in case we need this data for future examples. "
   ]
  },
  {
   "cell_type": "code",
   "execution_count": 37,
   "metadata": {},
   "outputs": [],
   "source": [
    "positive_text.to_csv(data_dir + 'positive_text_clean.csv', index=False, header=False)\n",
    "negative_text.to_csv(data_dir + 'negative_text_clean.csv', index=False, header=False)"
   ]
  },
  {
   "cell_type": "markdown",
   "metadata": {},
   "source": [
    "<h2>[Optional as an Exercise] Save Filtered Subjectivity Data</h2>"
   ]
  },
  {
   "cell_type": "code",
   "execution_count": 38,
   "metadata": {},
   "outputs": [],
   "source": [
    "subjective_text.to_csv(data_dir + 'subjective_text_clean.csv', index=False, header=False)\n",
    "objective_text.to_csv(data_dir + 'objective_text_clean.csv', index=False, header=False)"
   ]
  },
  {
   "cell_type": "code",
   "execution_count": 39,
   "metadata": {},
   "outputs": [],
   "source": [
    "#REMOVE\n",
    "\n",
    "text_pos = []\n",
    "labels_pos = []\n",
    "with open(data_dir + 'positive_text_clean.csv', encoding='utf-8') as f:\n",
    "    for i in f: \n",
    "        text_pos.append(i) \n",
    "        labels_pos.append('pos')\n"
   ]
  },
  {
   "cell_type": "code",
   "execution_count": 40,
   "metadata": {},
   "outputs": [],
   "source": [
    "#REMOVE\n",
    "\n",
    "\n",
    "text_neg = []\n",
    "labels_neg = []\n",
    "with open(data_dir + 'negative_text_clean.csv', encoding='utf-8') as f:\n",
    "    for i in f: \n",
    "        #print(i)\n",
    "        text_neg.append(i)\n",
    "        labels_neg.append('neg')"
   ]
  },
  {
   "cell_type": "markdown",
   "metadata": {},
   "source": [
    "Next, we split each dataset into a training and a test dataset. "
   ]
  },
  {
   "cell_type": "code",
   "execution_count": 41,
   "metadata": {},
   "outputs": [],
   "source": [
    "training_text = text_pos[:int((.8)*len(text_pos))] + text_neg[:int((.8)*len(text_neg))]\n",
    "training_labels = labels_pos[:int((.8)*len(labels_pos))] + labels_neg[:int((.8)*len(labels_neg))]\n",
    "\n",
    "test_text = text_pos[int((.8)*len(text_pos)):] + text_neg[int((.8)*len(text_neg)):]\n",
    "test_labels = labels_pos[int((.8)*len(labels_pos)):] + labels_neg[int((.8)*len(labels_neg)):]"
   ]
  },
  {
   "cell_type": "code",
   "execution_count": 42,
   "metadata": {},
   "outputs": [],
   "source": [
    "test_frac = 0.8\n",
    "breakpoint = int(test_frac * len(dff))\n",
    "training = dff.iloc[:breakpoint]\n",
    "testing = dff.iloc[breakpoint:]"
   ]
  },
  {
   "cell_type": "markdown",
   "metadata": {},
   "source": [
    "<p>Next, we need to initialize a vectorizer. This converts the tweet text into a word 'vector' in which each word becomes a 'component' of the vector and has a specific magnitude. We have not performed any preprocessing on the data or removed any stop words. We will set lowercase to False.</p>"
   ]
  },
  {
   "cell_type": "code",
   "execution_count": 43,
   "metadata": {},
   "outputs": [],
   "source": [
    "features = vectorizer.fit_transform(\n",
    "    training_text + test_text)\n",
    "\n",
    "features_nd = features.toarray() # for easy use"
   ]
  },
  {
   "cell_type": "code",
   "execution_count": 44,
   "metadata": {},
   "outputs": [],
   "source": [
    "#REMOVE\n",
    "\n",
    "from sklearn.model_selection import train_test_split\n",
    "\n",
    "X_train, X_test, y_train, y_test  = train_test_split(\n",
    "        features_nd[0:len(training_text)], \n",
    "        training_labels, \n",
    "        random_state=124)"
   ]
  },
  {
   "cell_type": "markdown",
   "metadata": {},
   "source": [
    "<p>In this next step we concatenate our text into a single array for feature extraction.</p>"
   ]
  }
 ],
 "metadata": {
  "dfnotebook": false,
  "ipyflow": {
   "cell_children": {
    "00239ccb-3934-49cd-b154-04f1baa01d14": [],
    "0026901d-7a7e-4dee-a980-8fe040ff3fda": [],
    "014a6393-674d-420f-87a3-7e8249213183": [],
    "0163a292-7f66-490b-b428-ba61ea813134": [],
    "01649a17-e939-4e56-86c7-8e32d454f9e9": [],
    "034794fc-6f23-443c-ae1e-b97e1d692961": [],
    "03f1a66e-deba-4e6e-8142-758e32843a8c": [],
    "06387740-764d-489f-b271-d19a25a977cc": [],
    "064a1884-cf54-4801-ae90-980635a1d8c8": [],
    "064cfcd5-33f5-49ec-ade1-83ea7c7e636f": [],
    "065adbcb-559e-4db3-ab35-b9b81c7b4f89": [],
    "066294f0-32b5-4bac-a8d5-82969ea5b510": [],
    "066a3b3c-7e52-499a-b3dc-345fbf8d9d1f": [
     "dc542929-0101-443c-b6d3-376c809920e8",
     "78c72f4a-805b-43ba-93e9-679741deaf53"
    ],
    "06ac9334-0d7d-4fcd-8287-19df5c3153b1": [],
    "076ec3c0-8d34-4ea7-9932-78aa5ae095fd": [],
    "07f3e560-bce0-43ab-bdbc-e2dd32c1a60a": [],
    "08478bd1-9635-4faa-b0d0-576a9be3da7b": [],
    "08d96328-805c-4283-b4d6-c003cc08da83": [],
    "099f6539-5ca6-4625-a7a8-6db4836f99d3": [],
    "09a96006-1fe1-49ae-aa5b-3934b7b2ef8a": [
     "b2010560-66aa-4617-bf04-bfd1f8c9b4f0",
     "c4e29c1e-bd63-4906-8a51-2f7d628c2903"
    ],
    "0abd668a-a3e4-4080-a3ee-29755323fff3": [
     "066a3b3c-7e52-499a-b3dc-345fbf8d9d1f",
     "88433834-1a7d-4333-9d00-58a8dd1e249a",
     "faf85628-4846-4e85-a05e-3b939e36df12",
     "224f996d-ee28-4994-8f13-198127d3ab09"
    ],
    "0aedf403-7052-4d81-bdf7-07db24e07778": [],
    "0b096959-6b48-40c8-911e-551b58f87b32": [],
    "0b175293-b4bf-4805-8c4c-f2c1f115c021": [],
    "0b3fb585-d38d-4921-86db-22a016deb7c7": [],
    "0b7bee26-5656-4d9b-8d81-77f9ba5fc3ce": [],
    "0b8409ed-abfb-4508-aeaa-31fb00d36f9e": [],
    "0bd447eb-9857-4149-a6b7-c942e65e7f59": [],
    "0c6bdc7e-86c0-48d7-ac43-9b8702b281b5": [],
    "0cc73c2d-5171-42f2-9af6-700d4e668248": [
     "1dea9741-0922-47b6-9ab9-ee5d5a351381"
    ],
    "0cc98be9-fa29-4e4c-bffc-e5df3c617c79": [],
    "0d06e8ca-8892-4610-97bd-902f17653c1a": [],
    "0d4d98a0-d399-4296-a338-039891c2f6b2": [],
    "0e4a9b4d-90cb-435f-8cdf-4e6a4d57eca2": [],
    "0e5dcc29-4107-4010-8b7f-86e72c9d4ab1": [],
    "0e68cfc3-eac4-4a4d-9eae-dead2601cb8c": [],
    "0f288e77-7261-474a-b8f7-c3f803370e05": [],
    "11118295-bbbe-417a-b3e1-967d05bd4895": [],
    "11498ecb-e05d-4826-b47f-268f6d715867": [],
    "11a634b6-a1f3-4def-89bb-dedf01d5b4b7": [],
    "12e2276f-508b-409b-add7-2a35435ba9b8": [],
    "130d6c40-cdab-4c27-94d1-d805afddde43": [],
    "13c863c5-6e69-46cd-b624-e08c10173965": [],
    "13d6e52d-bf9e-457e-82a0-24e8f8c8ef94": [],
    "142e676a-831a-4345-abad-d9a7c9d33480": [],
    "143f913e-9d90-48ba-b3d4-365b88f8e53a": [],
    "144ba13c-7266-4136-bf3e-3c14d05265e2": [],
    "14d26f12-383c-4919-b8f0-f0947b133e47": [],
    "1513efa6-063d-4582-ad2f-e0d4def3fbab": [],
    "15d71781-6c2b-4a0e-974c-275d8eba8fa7": [],
    "15eca4d6-2afb-401a-a53e-e4b970b4bc91": [],
    "162504c0-977d-49a9-bdbb-d285a14a872c": [],
    "167fd93e-8920-4554-8bd5-6a6554172401": [],
    "173476dc-6821-4717-a46f-17b19285347e": [],
    "178bbb6f-8850-4f61-8dd7-d192c5ac6b1e": [],
    "186120da-0c74-46df-bd86-7217bba95d4c": [],
    "18628d86-b884-4666-833c-ffc6bcabdbd8": [],
    "18b4622f-da8d-4a8b-9b21-61f0b52f5792": [],
    "19778c69-6dd1-4a19-8c4a-77e21e585f0d": [],
    "1a699173-9b31-452f-bc80-97f590213f51": [],
    "1aa80711-8ee9-4f89-8dcf-7d07c30f115c": [],
    "1b35511a-d023-4675-aa26-6028d40ce201": [],
    "1c342bcb-d970-44c8-b45e-a4b517981946": [],
    "1c810d8d-8d7c-4f1a-9309-5933a61db463": [],
    "1cb18294-25c8-4a17-8016-62fa390d57dc": [],
    "1d1fbfcd-6303-4b58-b0d0-339f43e38a0d": [],
    "1d279e13-33c0-42bb-86d3-1a23d9cbb589": [],
    "1d52d0a0-7d0f-4661-9b42-758fd78222da": [],
    "1db44b51-e31d-4bb4-92b8-ee82576fd8ce": [],
    "1dea9741-0922-47b6-9ab9-ee5d5a351381": [
     "cda8fdef-2f85-4d76-a530-f92756456020",
     "e76e607a-c8f9-4c42-8dca-5d393f486952"
    ],
    "1e887858-7568-4c27-809b-e8d05dcb4b64": [],
    "1f5eab0e-4075-40c3-bd56-d894f375feea": [],
    "1fbeee27-562e-4bcd-9d01-3acfe2c4bf96": [],
    "1fe6822b-1097-4f9e-a17e-4a3c5f158ad5": [],
    "20e1e735-bd15-4d0f-b87f-d995fd8e49cd": [],
    "211c587b-96e5-4dcd-bbcb-1c2dff8641d3": [],
    "2184f080-051f-4c5a-a990-6117d41c333f": [],
    "22075b79-810e-4c45-a0d3-88366f5aa1e1": [],
    "224f996d-ee28-4994-8f13-198127d3ab09": [
     "066a3b3c-7e52-499a-b3dc-345fbf8d9d1f"
    ],
    "22fc7196-819a-47c5-b9c2-cd2f19d455bb": [],
    "230f5d95-a384-4473-8e85-96c1919321be": [],
    "236d0ca6-a67c-4d4d-8be9-135712acc6d9": [],
    "24a26fa3-06c0-47af-b504-3b11475647f6": [],
    "24e6eb63-b3ca-4f68-969e-d50f7eb76a75": [],
    "252fcb8b-2a89-48fc-bc3e-225cecdb8326": [],
    "256f97d2-6241-40d3-944c-84487ff564f9": [],
    "25ce2a56-0205-4dee-b92c-f2e2e5a0940f": [],
    "25f9d599-3c55-496e-8385-41596c4e4428": [],
    "26609a30-d3a9-4489-b965-62c4ffad2be5": [],
    "2666be6f-a6de-4b6b-bdab-d6dcedb0efc1": [],
    "26a9985b-3451-4a8d-88e0-8c1576e97e1e": [],
    "2760ad49-0123-49a3-93ef-d6ad400d08b5": [],
    "27890ac1-d431-4356-a65f-b1da223a6ed3": [],
    "27fa7db6-10b3-4428-b93f-0bd0fbc7864b": [],
    "28b659b2-42fc-4450-9efa-dd9fa23a97e0": [],
    "29e4aa9d-130c-4334-889b-56fc7f277dbe": [],
    "2a2cd7d8-9c88-4dee-b442-549ddff5e3a6": [],
    "2a94b471-3036-41d7-8f6b-3b9de4ba1cf2": [],
    "2baa4ec0-b8f8-4dba-abcb-bc8ed3956cd8": [],
    "2beee1fc-5fcf-4d5b-92c4-44878990e22a": [],
    "2c050504-b531-4de2-86a8-83253f989256": [],
    "2c0a75e2-900e-42e6-95c5-ed9e21d69030": [],
    "2c19e3a8-6e60-45bc-ac72-de85c3a8c9c8": [],
    "2c395631-3a5e-4224-a3ef-b5f332497c55": [],
    "2d33ad20-dbd7-487c-b869-078b33aed208": [],
    "2d3d2d80-7597-4404-91f0-1be96d872104": [],
    "2d7638fd-bfeb-4371-8ee6-1d050c64a234": [],
    "2dbfd125-8f47-4bf5-8823-66082ae8c94d": [],
    "2dcdcd4b-7d10-4b85-9679-2c74295018c5": [],
    "2df86586-a623-41e8-a9ee-02ac9835ffd0": [],
    "2e162f70-9a46-4af1-b003-d9906299a28c": [],
    "2f06da44-fb10-4a3f-8379-76bed5fcaaa4": [],
    "2f77b1e5-7384-4c84-9840-a34a545256f7": [],
    "304c9d31-abe5-48c7-ac81-d8144d726b6f": [],
    "30a92eb3-d27e-4484-9300-7c3c92fd8d4e": [],
    "3184c93e-ccd0-418a-82c7-b766fb3a354e": [],
    "3248f2e2-3591-4899-af01-575049bb075b": [],
    "32b42f9f-892f-4e01-aff6-aa1dff5b3139": [],
    "32f3fbe6-f477-4485-9605-4a823569d5f2": [],
    "3365e2b1-5c86-4300-8e5f-7828732125c8": [],
    "33addcf3-8f9b-4113-bdfb-413764cdfd06": [],
    "34094c1d-cce9-4ffa-a48f-56fd24a54da5": [],
    "34f1a273-6e8c-4d51-a699-79c828b6dca8": [],
    "357c47c5-a707-4912-93e1-2a6e3b82c5b4": [],
    "35c80a75-2225-4a6d-babe-599ce4b7c23c": [],
    "36126874-ff02-4f1e-aa3a-34fdcf0fd326": [],
    "36546530-3b52-4c49-a3c4-4a177b458c4c": [],
    "367e8bdf-fcd7-42af-8387-7cced5667f30": [],
    "37363010-c44c-4b77-869d-f2972b69e130": [],
    "37a90dc1-2392-4a1c-b3b6-cbf8a0b5015b": [],
    "37f3991a-9d34-4f0f-8331-2701c3d39746": [],
    "38b76c91-89eb-4449-9b94-10a28bd336db": [],
    "38cff5ee-1824-41e8-935f-a8f4326cf4d6": [],
    "390d6a05-3abb-480e-ab11-890d363b88d4": [],
    "392c2f8d-3183-4979-bb4f-a6615d58dc07": [],
    "398f54df-1539-431f-b5d9-7314074feb00": [],
    "399782fd-89e5-4072-a691-7e3986b6f56f": [],
    "3a01aa6d-c153-4457-bc27-569683b06dea": [],
    "3a79e200-942e-4f75-a0d2-cf2ce1668324": [],
    "3a950914-a445-41af-96fe-f80b2191cd8a": [],
    "3b23f402-5f3d-40d4-82c4-197b0720a146": [],
    "3b43f85c-3de1-4c56-a650-740246f9753a": [],
    "3b509bab-b194-42d4-8188-b2a7630cec86": [],
    "3bcfeffd-87b3-4dfe-9387-e0696e1b1c6f": [],
    "3bf617e5-01a9-42cd-b633-3d706215c6b1": [],
    "3c070e9b-875e-4fc1-a92f-2cbe9cabb6a4": [],
    "3c34a9a2-e942-488d-8020-036263523fd1": [],
    "3c5c6a6f-41b8-4a5c-8f78-20bbc3fa0dac": [],
    "3c863954-9d20-462e-9cfa-9f27a1b3d651": [],
    "3cbad466-ebe3-46d3-b886-b6fef618b92d": [],
    "3cead0e8-72df-4797-b708-b9fb057b484c": [],
    "3cf1f4c1-d1fc-418e-aeb0-1d1ce9f34e83": [],
    "3d16bbcf-d785-4211-91af-f82cef44d250": [],
    "3d8559be-17d3-4396-bf29-ec99979011dd": [],
    "3da3101a-c395-4bb1-9e6f-c09eecf2fa85": [],
    "3de05c95-cdcf-4865-85d7-a0b94e0a698b": [],
    "3e939494-18b2-4bf5-b138-c6b28b26f087": [],
    "3f4829b3-519a-4129-b020-f671e98e5e5e": [],
    "3fffd685-7364-4dd4-a263-206e9561ee0f": [],
    "403c7d8a-9c3e-43bb-8e19-c4c823e5c7ae": [],
    "41156deb-dc24-49e6-a161-568e419f0ae2": [],
    "41452c0d-51a3-4c55-912c-7bfd2a6851a0": [],
    "42b8601d-8090-450c-9f30-c8a07c3f7bd0": [],
    "42d00316-84a0-4876-a2e5-65f9890107a6": [],
    "43297c06-430d-44a1-b729-054a4582d328": [],
    "4329d8e6-056e-4b38-b74a-539c9fd79fbe": [],
    "437d2c9a-dfbd-44bc-8741-65576f607593": [],
    "43a27802-2650-4777-8c26-552337f9b855": [],
    "43ab3af5-21b2-49ea-86c5-f00748d9e94a": [],
    "451aad22-ca4b-403f-ac36-8f758cc7814f": [],
    "4534a47c-f5f6-480a-bb44-73f5e53840c1": [],
    "45468849-5050-4e83-a4cb-1713e6eb4c8e": [],
    "45bca485-59e7-4c57-9538-30a651db2779": [],
    "462158d8-85d1-427d-ab9a-79a2aafd0976": [],
    "46ffb85c-a540-413d-ab9f-4c8c2516ebcd": [],
    "4713325a-be01-42da-96f2-cb237fd23bf0": [],
    "473c83f0-1bfb-4791-adc7-a67213491475": [
     "ad147c2e-16fc-447c-81d3-ce4c36a7881c",
     "38cff5ee-1824-41e8-935f-a8f4326cf4d6",
     "c4e29c1e-bd63-4906-8a51-2f7d628c2903",
     "e3fba3c9-e9f2-4e9d-9c25-9b3b4f15ff38"
    ],
    "4758fe78-9fbe-464d-9dc8-612fa21218aa": [],
    "47c06355-123c-4e75-a36b-1984bb402a3b": [],
    "47e63926-42fa-4606-a4bb-724797725358": [],
    "4860e6a7-fa3a-4de9-a2bc-2738b789a758": [],
    "48f7ce9a-6936-4c0e-819d-1c6b24796009": [],
    "4919d2c9-30d6-4118-8f42-b048a600dc1d": [],
    "4945d5d4-51b8-4574-9dcc-54adecf3bba5": [],
    "4992f5e5-6039-4297-ac7a-88670ab6313a": [],
    "49e30963-e6a4-4102-992a-95d099284cad": [],
    "4a2fa287-733b-45f9-8fa0-a60d750da3fa": [],
    "4a5b6a99-3fcb-4c8c-8837-0a983fb19e3e": [],
    "4ac9ade3-cd31-46f8-ab16-3d7a8a4cf5df": [],
    "4d6a316c-db17-4366-8e0b-dda17bc7f973": [],
    "4d6e89e4-866c-4575-8b68-73866cadfedb": [],
    "4e0805c6-a717-4f66-a01b-a1f0b56d4a43": [],
    "4eb6808a-37c8-4efb-b551-ab7436bc4f15": [],
    "51e40b00-90c6-446a-8fc5-366af6924c51": [],
    "5291caef-d05f-44ad-9f7d-410e78554372": [
     "224f996d-ee28-4994-8f13-198127d3ab09"
    ],
    "52a33be2-ab66-4d2c-b81b-61e57f9c69d2": [],
    "532aa4e6-ca5a-4ac9-93cf-6bf6b9d90bdb": [],
    "5404f9d6-5cc2-4484-83a2-088ef294d2bc": [],
    "5598c3e1-368b-443f-b5d2-5527d76f3a15": [],
    "560b3786-b31e-4e28-92b9-409d53029dd9": [],
    "560d2484-21c2-4e24-a87d-c9fa4694821e": [],
    "56506138-28a2-4fe4-a879-0ba2aa665cc8": [],
    "574ce66a-f0f3-4ab4-95af-c5379619b9f2": [],
    "582c5039-b3cf-453f-aa25-d309f2df781c": [],
    "59126131-2dde-4228-ab89-291d6371ad62": [],
    "59e1b185-1417-4c74-a570-f70152d6e83f": [],
    "5a1e596c-0a99-4ea6-9836-49a760bc29a0": [],
    "5a48bcfe-9819-41ea-a19d-0a1b970f73e3": [],
    "5a9d354a-03b8-4e5b-9fbe-c7c240330d5a": [],
    "5b901fb7-7a0f-4e18-ab8f-32bfa2cf211c": [],
    "5c0addf3-9edb-41e6-875f-5f9025e6c8be": [],
    "5cf17d95-ae16-49e5-9b5c-8cea77e602f0": [
     "ac47037f-bdfe-4413-a9ad-9db43680646e",
     "b2010560-66aa-4617-bf04-bfd1f8c9b4f0"
    ],
    "5d307737-6a97-458b-9acd-7a13d903cd12": [],
    "5d57633d-1dd9-4c46-8157-1125eebfe918": [],
    "5e12f203-68d1-4c72-8528-90977f0441ca": [],
    "5f83bd4d-4bfe-4802-b732-b69e6e2d9d8d": [],
    "5f83d434-7448-4bbd-bce6-3eb7862c0091": [],
    "60e226cb-14ca-445d-aa7b-fb43a265d8f4": [],
    "61da1bc7-6a21-438e-a546-9d16220d3ae2": [],
    "62004c52-0a1a-43e5-abe0-9e816abad8ba": [],
    "62958989-a5d5-4c74-9c13-df6158884d11": [],
    "6381bf31-5477-4fe6-a464-a803cae0b427": [],
    "63a55ca6-e925-4721-9629-83fdefd0ff4d": [],
    "63c869f4-4fad-45df-b245-a10695b58caa": [],
    "63efb0ff-bb2d-4665-828b-90ffef5f14e1": [],
    "64113280-8ad5-4240-b56e-410e00f42200": [],
    "64b38428-ef10-42ce-beb6-961b293da015": [],
    "6523b2f4-4b48-496e-973c-57db47b2dffe": [],
    "65d1ee09-4cca-4925-8391-e3607251a385": [],
    "65facc1d-6ab2-4a94-ace4-63b03b123ecb": [],
    "674adef2-5614-4aa7-a0a4-4251fcfc4f4b": [],
    "679b4b0e-0b97-4922-9b2b-21322234bb69": [],
    "68e24c3e-4467-4ca9-b0a7-165ad826cc49": [],
    "68e30e04-dcdf-4771-93a7-6c0f6a47ae72": [],
    "698f6dd1-2ee0-403a-8fb5-5d2c4bf030ed": [],
    "69bf27a3-aef5-4ac2-b2fc-e60723184318": [],
    "69cee609-0d15-4a95-9b6b-6dd3c878e0b8": [
     "2c0a75e2-900e-42e6-95c5-ed9e21d69030"
    ],
    "69d9ddfb-ba34-4f36-ae82-e6d1a53c56c1": [],
    "6a8f8fdd-c520-4da8-84dc-486dd0389197": [],
    "6b5c0998-7c4c-4cc8-9277-4138b1144660": [],
    "6b987947-75cb-40a1-a5ef-c33984a90c4b": [],
    "6be2eaa8-3cc4-49f7-a2eb-2688c38e9518": [
     "c8b3f96f-9bef-46e0-967a-9d08e7b90130"
    ],
    "6bf0f3af-ab4a-4687-9389-f29a58093d9f": [],
    "6c2eec4d-45b9-4d4e-a1c7-93e87b39265a": [],
    "6c553606-f13b-4a7d-a70e-99d5029b74f5": [],
    "6c7ad7bd-cf94-43c2-b6ee-299b4c1c2b24": [],
    "6cbcab64-92b0-4480-bab4-d3713d15d3e3": [],
    "6ce7d007-ff55-4fde-9cef-de37aac1b156": [],
    "6d893875-8835-4042-a8c7-31a0903a17fe": [],
    "6e3006a2-352c-44e7-acf8-b00875b8c854": [],
    "6fee60c8-4ebf-4d2e-9669-70ec1b569828": [],
    "700b0e72-1efe-451a-9cd5-034b971bd5c0": [],
    "703d25fd-28b1-4d8b-8bbe-5a4cf75226e5": [],
    "7083ad5a-00b9-45ee-8f20-e21966f2a61f": [],
    "70a7abc8-5949-4f09-9dd7-2892d8e68f8e": [],
    "70c72f7b-c645-4465-82ef-d8ab63f5122b": [],
    "718079f3-9319-4da8-a4a4-a1df876f25f7": [],
    "7190e46a-276a-44ed-b2e6-12d7dee5d925": [],
    "71955e4f-f764-4e4d-adc5-08c30351a4ba": [],
    "724d9e44-7d13-4a44-90d4-e908e1b4434f": [],
    "728349e7-5b7c-4ac5-9f55-85adad3d1fee": [],
    "72ef45f6-7caa-4225-aa63-0b2a2473a155": [],
    "732b73f5-31c7-4283-b322-9043bbb718fd": [],
    "73faea2c-92c1-4fd9-aea8-11a7c585418d": [],
    "74f9e340-21b1-4991-b8d0-caf6cfb16604": [],
    "7558320d-fd89-4057-9e06-4b14948a5d80": [],
    "76372d20-4c0d-431e-b488-e583d12ad441": [],
    "76b033ad-92f7-4fbf-94f8-71cbb24b1b72": [],
    "775f33ec-881e-4668-b6ea-f78e39de8add": [],
    "7779ca9e-4b16-43f9-a0a1-ace30d2f6d73": [],
    "779c0772-8e7a-4a3b-aa21-fc9aefde232f": [],
    "788c443c-0cee-4846-9baa-0e858f1786f9": [],
    "78c72f4a-805b-43ba-93e9-679741deaf53": [
     "6be2eaa8-3cc4-49f7-a2eb-2688c38e9518",
     "69cee609-0d15-4a95-9b6b-6dd3c878e0b8"
    ],
    "795805ee-5a4b-45f8-85ac-2052a982adb3": [],
    "799c3cb2-d837-413b-aa5a-726134467532": [],
    "79a05495-ef3c-4a53-a191-2409a09b00ca": [],
    "79eddc3a-7834-41cd-bb18-465865d5cbc3": [],
    "7b2579c3-b18c-47db-a892-f179b258745c": [],
    "7b3aea44-4c21-47b3-9aa5-a29deb2d1297": [],
    "7b3b5032-c32b-4720-9489-2dcb3532b67a": [],
    "7b5cf16f-2a22-44a6-8ccf-f3e028d2572b": [],
    "7c41dfef-8e4a-426f-85ba-309706aafd87": [],
    "7c9ecd6a-6689-4ec0-849f-5804f8c5fb1d": [],
    "7d51de0a-8344-4249-9ceb-bdcc734229e5": [],
    "7e855676-849b-482b-87fe-bd490b9191fe": [],
    "7e99db0c-049e-44c2-a749-7c4ed59f188a": [],
    "7ebe2e2d-35a0-4935-8f9f-1fa567dc3c2d": [],
    "7f2d659d-005b-4309-b3b0-21c4974a6707": [],
    "7f3c8956-cb39-4de0-be43-0bce56fca7e2": [],
    "7f630b84-9a96-4ec0-8fe5-0ab0c30c76d5": [],
    "7f6972f9-a5a7-40e1-be0d-f209763441f8": [],
    "7f7ae09e-81c1-4146-8bd3-752589380ddb": [],
    "804efa00-a45c-43c5-b987-3f7307a72b69": [],
    "8076fb43-62a7-4a82-babf-efc26c5c0276": [],
    "8155cdfb-1975-4bd9-bf17-41d9c64e5641": [],
    "8263748b-c666-415c-9e15-4c9e4e9a4ea6": [],
    "82c18b37-1af5-4bc2-acf2-1ab521502f73": [],
    "82c3935c-dd21-46a5-a136-a1c2f602bc7f": [],
    "82e7b6fe-e620-4385-85ba-421b437906d8": [],
    "833315b4-eefe-4233-a693-ccf3c681ebd7": [],
    "836e47de-d71e-4a52-9c2f-1ebe233c1a2a": [],
    "83abd54a-f4c7-41f7-ab5c-69df66c39245": [],
    "84702b42-3ea1-4601-a07a-15158b8d0f1f": [],
    "84f85944-2dc8-4957-944d-c7f8cc5c2107": [],
    "8691a9be-1667-449b-8646-aeeed70e9978": [],
    "8776be77-7379-486d-a457-181c9207394b": [],
    "880c917a-1003-40f8-b0ca-2bcbbdf92e0a": [],
    "88433834-1a7d-4333-9d00-58a8dd1e249a": [
     "bb3580e1-97be-4c1a-be28-a86a69c358f5",
     "69cee609-0d15-4a95-9b6b-6dd3c878e0b8"
    ],
    "884e40f2-f3bb-4a03-8064-108b4c1d67c3": [],
    "885939eb-ad85-48bd-a54f-310ecbc06018": [],
    "88856d83-f1ab-4ae6-b4a3-d90276bcb18d": [],
    "890bd6af-b1af-4bc2-9175-7857f57cbb18": [],
    "89eb11be-ae1a-46c8-9747-9c84c949c51f": [],
    "89fb6ef0-adef-4b69-93ef-44bdc915c494": [],
    "8a421786-6bd9-4ee5-ad92-3c90fa25b87f": [],
    "8a50abc7-1b82-476f-9767-aa0145069532": [
     "b188c124-3869-4f4b-8346-02f74ddeeddb",
     "e3fba3c9-e9f2-4e9d-9c25-9b3b4f15ff38",
     "09a96006-1fe1-49ae-aa5b-3934b7b2ef8a",
     "473c83f0-1bfb-4791-adc7-a67213491475",
     "4e0805c6-a717-4f66-a01b-a1f0b56d4a43",
     "ad147c2e-16fc-447c-81d3-ce4c36a7881c",
     "38cff5ee-1824-41e8-935f-a8f4326cf4d6"
    ],
    "8b2a00a6-7ba8-49ac-886f-13bada4b8121": [],
    "8b7a8e1d-5b6e-48e3-b261-d9299994f43d": [],
    "8cf4dcc6-bff6-45ac-96f2-494f7ac097e5": [
     "5cf17d95-ae16-49e5-9b5c-8cea77e602f0"
    ],
    "8d6e7e99-2e56-46e3-9be8-4e1ec1c727cb": [],
    "8e91025e-e987-411f-b090-4d7e507cf99b": [],
    "8f34a16e-a614-400e-a81c-dfe14558dee7": [],
    "8fa66cae-c72b-4ab6-9867-b5edc692d539": [],
    "9052d4e1-1bf5-4f7d-9cd1-99709edc4f32": [],
    "90ae163c-538b-41ed-b15a-39a0df85e744": [],
    "92005a20-dea9-4937-8316-bd67c9105e53": [],
    "920ebc04-d8d2-418e-aa52-3ea487ded127": [],
    "929dbf73-cf40-4b6f-a17f-bf73d914c7d9": [],
    "92b5d8b4-b932-4ee8-a4a7-8b32688bfe02": [],
    "92e5881c-94eb-4abb-94a6-28be81d4deb3": [],
    "9364dd3a-fed8-4a4f-88a3-67dbbf478678": [],
    "93920c2e-789b-48ad-9321-1715748496e1": [],
    "939ff8af-8a9d-4ef5-b6aa-91109402e485": [],
    "93fab21a-970e-4cc9-ac1b-5fe14af8983b": [],
    "9410dd53-70cc-4b2a-873f-65424be6cffb": [],
    "944cecab-02b3-4726-aa7b-28d28fd3ff8c": [],
    "9471ca63-23e7-4eb9-8838-bfe85868cbba": [],
    "9474132e-a02c-4129-aa7a-4be7ddbd1b12": [
     "8a50abc7-1b82-476f-9767-aa0145069532"
    ],
    "956087fd-a502-45c9-9fb5-67b7b42df871": [],
    "959c3a6b-559e-4f7f-a2e3-d3db819e088b": [],
    "95a1fa3d-1f10-49d8-b5ba-f8db51865b9e": [],
    "95e50d49-53fd-4dbe-94f4-be376259b4fd": [],
    "963762ce-5269-424f-aa7e-3f141b972eb0": [],
    "96930043-97f5-46d4-95ac-d5cd72c544f0": [],
    "976af854-8133-4876-8324-fa561d85dde8": [],
    "97ceaa88-6c28-4923-9a88-b590b9eef9dc": [],
    "97d6d198-0c71-46b0-90fd-76f16df1d568": [],
    "97f034af-5e1a-46f9-bb6b-ef66aeea8e74": [],
    "97fad422-c404-4a48-b512-c79de8873a52": [],
    "98527e78-61e7-41b4-9599-247174ec452c": [],
    "987e5407-9f9a-47a5-8e62-a3c961b1cabb": [],
    "989dda47-6b32-471e-b3fd-ae9dd7fdb2e0": [],
    "993a0dd6-93b9-4279-8531-9021aafde1bf": [],
    "99c7c833-72bb-44b5-b911-5e0b49df34dc": [],
    "9a0404b4-e71c-413c-9cfb-fa5e14670092": [],
    "9aa904f5-647f-4fe3-82df-a3d082009c0e": [],
    "9ab0c78b-075c-4525-96dd-7680beba3421": [],
    "9b6297e0-acb3-41d0-92fb-c5878d603938": [],
    "9b75555a-d77e-4001-9806-0e7d8890ba6f": [],
    "9b880062-0af4-4251-83a4-5ad4b4e4b963": [],
    "9d86235e-7179-49c0-9151-019c0eeb6599": [],
    "9daf4a4f-f6cf-40e0-b27f-24094b7f01a6": [],
    "9ed6cf73-e08f-49ec-ab53-8ccaf4b8bdc4": [],
    "9f7bcf9e-ff78-4a77-8ae1-823412796fef": [],
    "9fbccf4c-0cc1-48b4-a06a-1d816c4a0c47": [],
    "9fd6f6cc-1d1b-4f22-a5dd-a4bf5e34fc90": [],
    "9ffef4c3-0ef4-477e-b3fd-971a65f7b62b": [],
    "a08815f2-1229-49d1-b0cd-8a70a94afb52": [],
    "a0ce1a73-eb33-47f8-8fb1-f392ab95d3e2": [],
    "a0d02024-8828-40cd-9c67-8374eb5be216": [],
    "a119c6ac-23f5-4f99-abd4-18d83431032e": [],
    "a11b1bbc-d34e-488a-9332-5319a7fd8402": [],
    "a2bb03c4-6c5b-43f6-ab24-e7bba98d7a4c": [],
    "a35e5c9e-5506-43c7-898e-ad9c8986e5fb": [],
    "a36b67fd-6c6e-4395-ab0a-afa208107e14": [],
    "a3cf1874-dfa2-4d85-832b-817180437d99": [],
    "a4dece2d-c4a2-47ff-a2a7-c814378da75d": [],
    "a4e363b4-448c-4cc1-8685-ac4b0fe63497": [],
    "a50c980f-49b3-44b0-bee8-04df834c8291": [],
    "a54c28d8-8803-43c8-8531-6ca7a8658ac1": [],
    "a5f8d0fa-68ff-4303-a216-0a85466bf46f": [],
    "a63827d2-1dc3-4a79-916b-f553a8f10ae8": [],
    "a68155d8-a085-4cee-a340-62d5b554263f": [],
    "a7281ac9-519e-4630-85e5-8fa784030d32": [],
    "a7fdbfce-48ed-4539-a3b1-45f33b59d541": [],
    "a98a2f3f-6f33-4efd-b420-a8cb32499b08": [],
    "a9cdb64f-c3e2-4dff-ab1c-b1f29293467e": [],
    "aa6d8808-53b2-4e28-930c-71ce123ab8ea": [],
    "aa727210-73c3-462d-97e4-779ac58b5dfb": [],
    "aa8fd32c-d845-4d8e-87d3-21da81624192": [],
    "aa999714-9e8a-4f5d-a316-5c2717cbb39d": [],
    "aae082ba-6486-427e-8bcc-682a4f3d96eb": [],
    "ab18cbe0-b4c0-4889-ab6e-19ee05b71646": [],
    "ac47037f-bdfe-4413-a9ad-9db43680646e": [],
    "ac60029b-1ec8-4f67-b306-d00acc46d580": [],
    "ac7b6d3b-3787-42b8-be24-798d33688386": [],
    "ad147c2e-16fc-447c-81d3-ce4c36a7881c": [
     "38cff5ee-1824-41e8-935f-a8f4326cf4d6",
     "e3fba3c9-e9f2-4e9d-9c25-9b3b4f15ff38"
    ],
    "ad50013d-8c5d-4246-ae10-51d25222a296": [],
    "ad51436e-be80-4617-81cc-119780e99546": [],
    "ad7ea168-e8a8-4fcf-a50b-c5932e945672": [],
    "adac6141-fb5d-4450-9957-a5b18b2e34c5": [],
    "aea40acf-3ed4-4c47-b99b-a8e880e245f4": [],
    "aeb65abb-8f5e-468b-ab7a-3351c9f22507": [],
    "af51b129-f1de-4c9e-a1d5-4a7fefe05c48": [],
    "afdc5a72-c597-416f-8466-2c373ad10a17": [],
    "b00683ba-db9d-4983-be30-4429a1103448": [],
    "b09acfc2-d423-468f-9893-837a728c3435": [],
    "b0d82571-44e1-4a32-8243-499d3544df83": [],
    "b15e72c0-79c7-456d-a8e4-654e94ebcb88": [],
    "b188c124-3869-4f4b-8346-02f74ddeeddb": [],
    "b2010560-66aa-4617-bf04-bfd1f8c9b4f0": [
     "ac47037f-bdfe-4413-a9ad-9db43680646e"
    ],
    "b2b45195-c755-4c93-99df-21c47e36eb76": [],
    "b2c1b795-2791-4f1a-96b9-f1e04f4e5707": [],
    "b3564915-11fc-4a28-8199-ac2edb4207b7": [],
    "b3a4ef70-7a14-4100-a28e-ef6d0746415e": [],
    "b44055f6-7924-42f2-a638-43f522089e25": [],
    "b451375d-0dc1-4aec-8d94-43fc1e5847ee": [],
    "b5051fad-e9ff-4d6b-8aef-04ea5e2d19a1": [],
    "b51f531e-e371-4d83-b959-06bb54a5a91d": [],
    "b52b4467-185b-408a-a7aa-a3bdee642a7a": [],
    "b68fdc38-73a5-419a-be59-900b6883891a": [],
    "b6bb05ba-2e89-4268-a78a-1eb47d700a29": [],
    "b70aed5b-7657-45cd-8e73-143b74a43903": [],
    "b765936b-695e-4d2a-987f-c43f830b0b47": [],
    "b8083f6c-d79b-4f60-b185-2796d3a2fd43": [],
    "b8c102c2-99a3-46f0-a850-acd3df4765c1": [],
    "b9c3734b-9470-49c0-ba58-0fa79da1c7f8": [],
    "b9d00e31-06dd-4197-877a-4a7f5060f318": [],
    "bac95bf3-b271-487f-bedc-e2d2b88efacb": [],
    "bb3580e1-97be-4c1a-be28-a86a69c358f5": [],
    "bba45640-a7ee-4457-a59c-8ebc9ddfdc6f": [],
    "bbb74a09-77af-43a4-b9e0-180ddde7302a": [],
    "bc092c38-8fdd-41e7-a3b7-d82e887c977a": [],
    "bc16ac36-812f-457c-bb5b-d800cdfe2730": [],
    "bc2be607-17cc-4a92-8edf-4e20a37705de": [],
    "bc5062ea-9bbb-485f-bd82-231b63494cf2": [],
    "bec4e85e-91e4-4e61-a3c7-a5ba8cc3ae59": [],
    "bf15854a-a178-44c9-a1f6-8e2bcae9cdb1": [
     "8cf4dcc6-bff6-45ac-96f2-494f7ac097e5",
     "c8b3f96f-9bef-46e0-967a-9d08e7b90130",
     "78c72f4a-805b-43ba-93e9-679741deaf53",
     "cc2f9707-5716-43ab-96c8-5b3a214a2f97",
     "88433834-1a7d-4333-9d00-58a8dd1e249a",
     "d76813ca-ad01-4c13-aa10-e2b1a5ee1e45",
     "2c0a75e2-900e-42e6-95c5-ed9e21d69030"
    ],
    "bf8a7bf4-0a22-4220-94ac-ae39ea9abc7a": [],
    "c066dcc4-e58a-4552-a7d5-6484e52b20ac": [],
    "c0b72a1f-725f-422c-8f88-b4a1ada2a9d5": [],
    "c0c3aaf8-5baa-46f6-9548-b76c4c9bceb5": [],
    "c108b63a-b72b-4fca-99bb-99df68f33b28": [],
    "c15c45b8-fae1-4073-a503-3a34b45816de": [],
    "c20c90c2-6176-404e-89ca-0bf3d398fdf8": [],
    "c226a711-261b-4094-8563-05bdabd975a2": [],
    "c263c588-8803-4040-b66e-e7fdc0564e12": [],
    "c28d27df-8efc-4fa5-a8fe-0fe2ebd59fdf": [],
    "c2f8c5a0-176f-426b-9e88-82898a96e639": [],
    "c34b2bd2-72d4-4399-bd98-bfbdcc6a7aef": [],
    "c35e6bad-66d3-47fc-9f8b-3e86f0076eee": [
     "9474132e-a02c-4129-aa7a-4be7ddbd1b12",
     "0abd668a-a3e4-4080-a3ee-29755323fff3"
    ],
    "c35f0234-0fd1-4eae-99f4-21cd002beec4": [],
    "c408293b-9830-4a43-98f2-f80442a7930d": [],
    "c41af84e-e946-4dc4-bc3e-195de99ba289": [],
    "c486c93b-8d61-4b96-bf25-21156ed7712e": [],
    "c48f93dd-2f09-4ec9-b6ee-3cf4f377778c": [],
    "c4e29c1e-bd63-4906-8a51-2f7d628c2903": [
     "d467d7c8-18be-4c69-b582-177670ab0d42",
     "e813b99c-6974-4513-878e-4591a59c76c8",
     "cda8fdef-2f85-4d76-a530-f92756456020",
     "d84cc31a-e646-4f36-aee8-41e2c65972ec",
     "252fcb8b-2a89-48fc-bc3e-225cecdb8326",
     "bec4e85e-91e4-4e61-a3c7-a5ba8cc3ae59",
     "1dea9741-0922-47b6-9ab9-ee5d5a351381",
     "e76e607a-c8f9-4c42-8dca-5d393f486952"
    ],
    "c55d9cf3-f661-47ba-98e3-9bc540103572": [],
    "c55eb881-1709-4fa3-9699-f76dac45dec5": [],
    "c6acbf3c-5a75-4c09-ab24-c071f0b9fcf3": [],
    "c75f0301-1bdd-4296-9d42-df749cb4a5d3": [],
    "c7eb889a-eb56-4104-925b-014a9dc932c3": [],
    "c7fc434d-41b1-4d11-81e9-422c13269cde": [],
    "c8983445-5767-464f-8212-caa4c43b0850": [],
    "c8b3f96f-9bef-46e0-967a-9d08e7b90130": [],
    "c8b82282-b0bb-46db-b61d-a64d18038fdd": [],
    "c8ca99df-1074-40a2-8cec-9047b94da9e3": [],
    "c994a752-9170-4833-980d-1468debfcfa9": [],
    "c99d629d-9122-4aaa-9272-0fd3df36ecfd": [],
    "ca1f9863-b192-438c-970a-b7e47ab3aa9d": [],
    "cb1eac5b-e3d3-4461-b847-82ea6775cb30": [],
    "cbd66af0-0988-4cb6-a92b-3a9f29684838": [],
    "cbdf6407-6579-43ff-be91-f09abee17304": [],
    "cbfe0b6e-f8c6-4797-946c-7ae6897187fb": [],
    "cc2f9707-5716-43ab-96c8-5b3a214a2f97": [
     "c35e6bad-66d3-47fc-9f8b-3e86f0076eee"
    ],
    "ccd8d4e3-05b4-4b02-9113-080258227eec": [],
    "ccf5e151-24c0-4b64-b008-44f62033103d": [],
    "cda8fdef-2f85-4d76-a530-f92756456020": [
     "d84cc31a-e646-4f36-aee8-41e2c65972ec",
     "d467d7c8-18be-4c69-b582-177670ab0d42",
     "252fcb8b-2a89-48fc-bc3e-225cecdb8326"
    ],
    "ceffdf6c-2fac-4928-85c5-ebaaabdf39f3": [],
    "cf6030bd-e6d5-4bf9-aa6e-06f6f1855183": [],
    "d0600448-960b-4426-a469-edee866b4f4b": [],
    "d0f9392c-c3e6-4499-b819-82f998cbbfa6": [],
    "d1711eca-119d-4ecf-b244-5626d2983e53": [],
    "d1bf80d3-97e7-4e35-bce0-574ddaacca3b": [],
    "d1e255ff-0513-448b-a50c-c7ef71b723f6": [],
    "d2928b4f-97fd-47d2-b301-ac0810a145c3": [],
    "d3142d41-837c-439c-a468-51a285d2baf8": [],
    "d3238f85-6e1e-4fd8-b919-9eae7ec492bd": [],
    "d3a9bf15-d7e8-4158-8f67-3d194f9ac274": [],
    "d41554b9-4b6e-4a66-a8e8-1164d5593ae6": [],
    "d437bc53-28fd-4331-b1ac-0316a4b845d9": [],
    "d44c06dd-40c1-4375-9a39-8aa448342530": [],
    "d467d7c8-18be-4c69-b582-177670ab0d42": [],
    "d63b3bb3-6426-46f5-89d5-4f7b07995606": [],
    "d63dc61a-572c-42fc-bf82-59a20c787ae8": [],
    "d65a21fd-464f-49e7-8150-4e310fcdcb7f": [],
    "d7428d70-f95c-4ef0-875a-7345b6b3fa11": [],
    "d76813ca-ad01-4c13-aa10-e2b1a5ee1e45": [
     "5cf17d95-ae16-49e5-9b5c-8cea77e602f0"
    ],
    "d7a04e33-fb83-4d1c-9b35-bf1f3da8d57c": [],
    "d7cc4d56-7537-40e8-a7a1-ef43dabeba26": [],
    "d7d2ff34-6456-4972-a87f-65b0cc74327b": [],
    "d839388c-d1f6-4c22-b3a0-2be31d00a77b": [],
    "d84cc31a-e646-4f36-aee8-41e2c65972ec": [],
    "d90930a2-5432-49ed-abe9-abf6ab388845": [],
    "d9cec2c3-e455-4aff-b287-07ddd8aeeabe": [],
    "da84ae6b-0469-417f-8ab8-0a7142037c72": [],
    "dad45be6-3225-4b66-b5e7-8ece2209ca57": [],
    "dafbce7d-28a3-425c-b425-5a4d84654d3c": [],
    "db4099aa-1793-41eb-9872-3adfb6d05872": [],
    "db652a72-578c-4cf2-8f0b-4f7fc911e24f": [],
    "dc363b91-053e-40a8-97ac-9c9e2c144dbf": [],
    "dc4ae54f-a50a-4ea0-bd5d-3307ff536541": [],
    "dc542929-0101-443c-b6d3-376c809920e8": [],
    "dc78b8ab-a0d0-44d3-9449-204791128dfa": [],
    "dcbcd42d-d5e0-4661-a2cd-db9809634ea5": [],
    "dcbdcff8-a9ef-4dbf-9f67-125fdeb88971": [],
    "dd5f354e-853b-46d0-ba0b-41149a9797bd": [],
    "ddc81e14-02a5-44f4-bd1b-9de511c7066f": [],
    "ddce0b53-f8da-451a-b1ca-0ac05101fd36": [],
    "dfb87548-6221-472d-bd0c-d76a68c75275": [],
    "e20a7f66-cefc-4413-bda1-210ee5ff6c21": [],
    "e224fdd8-1f6e-4fc0-9b7f-e758abb66bf0": [],
    "e2634e04-5a04-495b-a571-ac46c4fb0534": [],
    "e27d4cc8-a35d-4293-be52-5d3af0cd2687": [],
    "e2938a1a-7dd4-4d19-a915-458702338c93": [],
    "e309237b-74a0-46f3-8d15-69d629388d55": [],
    "e33650ab-0268-4985-aa4a-3274660228b2": [],
    "e37bee13-0d33-4c0c-841d-17c6f946ebd4": [],
    "e3b9a0f8-7b75-4c99-8be0-8ed3fda99245": [],
    "e3d3916f-0241-4814-add0-6ab46bc39256": [],
    "e3fba3c9-e9f2-4e9d-9c25-9b3b4f15ff38": [],
    "e55757c9-ab5f-4dbf-93f5-474456a23525": [],
    "e579f4f2-ac4a-49d6-a9f1-430736cf38d3": [],
    "e5b7b287-031b-49dc-ba09-40957f8ace9d": [],
    "e5df5883-ddcb-44f6-8cbd-0538a60333ba": [
     "faf85628-4846-4e85-a05e-3b939e36df12",
     "0abd668a-a3e4-4080-a3ee-29755323fff3",
     "cc2f9707-5716-43ab-96c8-5b3a214a2f97",
     "88433834-1a7d-4333-9d00-58a8dd1e249a",
     "9474132e-a02c-4129-aa7a-4be7ddbd1b12"
    ],
    "e76e607a-c8f9-4c42-8dca-5d393f486952": [
     "bec4e85e-91e4-4e61-a3c7-a5ba8cc3ae59",
     "e813b99c-6974-4513-878e-4591a59c76c8"
    ],
    "e7863523-4911-4c67-a5e9-eb5aa05bdd0b": [],
    "e7fd027f-2bd3-4a71-a24a-b4109a203486": [],
    "e813b99c-6974-4513-878e-4591a59c76c8": [],
    "e83c3ffc-45ef-4ed9-913f-1b8b8e4bd20e": [],
    "e84ecb8a-a55f-400d-8cb9-84fd6810abca": [],
    "e85c85e5-882a-4af7-a63d-008f61e8c42e": [],
    "e8719ca7-b9cf-4f73-a439-cb78c4b1dd25": [],
    "e8d49765-7d09-41ed-9f86-0453d1a3f03f": [],
    "e96f62f9-37fa-4b00-8bbc-efd197916228": [],
    "e98419cd-d725-452c-a7a9-74dd78876a45": [],
    "e986a965-5c12-4d7e-b6cb-0b4319c1adfd": [],
    "e9b1963a-cae9-4fbe-a791-7b0dda88e39f": [
     "09a96006-1fe1-49ae-aa5b-3934b7b2ef8a",
     "b2010560-66aa-4617-bf04-bfd1f8c9b4f0"
    ],
    "e9f227fa-1cfc-4417-a053-87bd59da805f": [],
    "ea44f87b-70cf-4f1a-ae50-79d93b8bd3fe": [],
    "ea7dec27-0097-40ba-9eaa-70b57f559807": [],
    "eada83e4-645d-474a-9ad7-eb2d7b5deb28": [],
    "eb877d0d-d096-4a69-9571-12350a3d7b7e": [],
    "ebdc0409-f453-46b6-9848-f68679880fd7": [],
    "ec202a39-33e2-4556-8568-ff8b07dfa3d2": [],
    "ec6a8578-fce8-40d0-bc51-6a87a94ffffe": [],
    "ecac37d7-8c39-4c0d-9094-7652acfbafcf": [],
    "ecf4bdfd-910d-4e2b-88a9-ecdb09e50774": [],
    "ecf9be83-54e8-4f2a-a698-f9bad2ac7fec": [],
    "ed11b599-0769-44df-973d-7cf427ef5d0b": [],
    "ed7936e0-c2af-47e4-ba0a-4aeafd04853f": [],
    "ed802fc5-98c5-418e-b6aa-6e40f729c61a": [],
    "edbdd622-3264-4f86-a7dc-ee893aecdfec": [],
    "ee4c3dff-0ea0-4d6c-89e3-dc9ef8589b3c": [],
    "eef81c10-1c19-451d-aeab-1358ef22ca60": [],
    "ef179f3a-4c05-4672-9e3c-488418352065": [],
    "ef679654-ab3d-4826-bb01-69cbf40f55d9": [],
    "ef6fff1e-8429-4305-93c6-be70457830c6": [],
    "ef94c891-e418-488d-b7fe-9929e9d1fb5d": [],
    "efa2ec02-5724-4b3a-bb29-57148ad2a64f": [],
    "efd88d34-22f0-44c7-9de4-ca4ea9f229dc": [],
    "efe0ef40-3f2f-4dae-8696-85bf060ea5f0": [],
    "efe1ae34-b914-43c3-9a1e-4c6ad06a1d5d": [],
    "eff9d3ce-c9df-4c42-921a-f9693002be9d": [],
    "f07c6ace-496b-4d9e-aaeb-6159c9ff6f07": [],
    "f0db2b78-c1a4-4cd0-8d16-b4385101d602": [],
    "f0eecc88-37fe-49e1-b1e3-e02f72a18b56": [],
    "f105f4b8-436d-43a0-a7d3-58a623de151d": [],
    "f124d1a4-5c2b-4c0b-b122-146956d58061": [],
    "f16d15da-c183-4254-9d10-3ff9d3d6cfb9": [],
    "f19bf0cf-3813-4c95-85a1-c2753db13287": [],
    "f1e8ce59-dd10-4b93-8522-3a2668888382": [],
    "f1fe05aa-91f1-4b8d-b669-5e8466a82970": [],
    "f229a8ce-1c49-4bba-90d0-f2a6726e7e06": [],
    "f347e062-b301-4de4-af73-e856f704fc97": [],
    "f37770ef-23b3-4c05-bfee-2d7893782f2b": [],
    "f443d59a-7aad-41ff-bbe4-e22b9139b888": [],
    "f484f22c-2393-4115-b052-f08020a6cf9d": [],
    "f4abcda7-37dd-4886-bfdc-6006cd9a51d6": [],
    "f5041017-cdde-450d-8c9e-baf77ed13d1e": [],
    "f544f7fd-0bba-4182-abd4-eeeefe564fee": [],
    "f7a21558-466b-45db-9a3c-f91b661f1855": [],
    "f7f5d25b-2e6a-4879-9761-b97a740c9826": [],
    "f80ee48f-c048-433b-bdad-dae0c3d20f28": [],
    "f88cff5b-c0ee-41b6-83eb-015ba35d2a8d": [],
    "f8ed8b9e-6a98-48c6-87a9-b7b11ca48582": [],
    "f9ad1efc-8e3d-475f-b4c7-8c0176a8c01e": [],
    "f9f351c5-5aec-4688-b6b3-cac4ec394cc5": [],
    "fa2b2987-3313-4af0-9bfe-383143ada65c": [],
    "faf85628-4846-4e85-a05e-3b939e36df12": [
     "5291caef-d05f-44ad-9f7d-410e78554372"
    ],
    "fb3789c1-9efa-4dfb-a3c0-77b3d59808c9": [],
    "fc13c8f6-539e-4b8b-b974-2049aad7daed": [],
    "fc3fff5c-413a-4370-9e8b-52806da0835d": [],
    "fc7648ff-8cad-4364-a6fb-f87528b07a39": [],
    "fc981260-13ce-48d1-af45-919aec0a8ca4": [],
    "fd25a2c9-323d-4c2c-8370-dcdce366905f": [],
    "fd728295-7d11-47d3-ac83-8278540ccf59": [],
    "fde2b13c-876e-427c-9364-b1b3e982a348": [],
    "fe0b3e72-13ce-4a4c-9e0d-ba188a0a0979": [],
    "fe145b79-a5df-4791-b02a-9f2956179ba9": [],
    "fe70a391-2126-47f0-8e65-b2adc1fd2b30": [],
    "fed3be0b-bc3a-4279-a4d7-31b6ba43a219": [],
    "fed405c3-8d2d-4b68-908d-5aa0f506ba38": [],
    "fedde81f-a790-439f-b1ef-42691c1bc7b6": [],
    "ff074467-48a4-489b-9c10-63e1a6943e3e": [],
    "ff592aaf-b609-4264-bfe3-8e427ae2bbdd": []
   },
   "cell_parents": {
    "00239ccb-3934-49cd-b154-04f1baa01d14": [],
    "0026901d-7a7e-4dee-a980-8fe040ff3fda": [],
    "014a6393-674d-420f-87a3-7e8249213183": [],
    "0163a292-7f66-490b-b428-ba61ea813134": [],
    "01649a17-e939-4e56-86c7-8e32d454f9e9": [],
    "034794fc-6f23-443c-ae1e-b97e1d692961": [],
    "03f1a66e-deba-4e6e-8142-758e32843a8c": [],
    "06387740-764d-489f-b271-d19a25a977cc": [],
    "064a1884-cf54-4801-ae90-980635a1d8c8": [],
    "064cfcd5-33f5-49ec-ade1-83ea7c7e636f": [],
    "065adbcb-559e-4db3-ab35-b9b81c7b4f89": [],
    "066294f0-32b5-4bac-a8d5-82969ea5b510": [],
    "066a3b3c-7e52-499a-b3dc-345fbf8d9d1f": [
     "0abd668a-a3e4-4080-a3ee-29755323fff3",
     "224f996d-ee28-4994-8f13-198127d3ab09"
    ],
    "06ac9334-0d7d-4fcd-8287-19df5c3153b1": [],
    "076ec3c0-8d34-4ea7-9932-78aa5ae095fd": [],
    "07f3e560-bce0-43ab-bdbc-e2dd32c1a60a": [],
    "08478bd1-9635-4faa-b0d0-576a9be3da7b": [],
    "08d96328-805c-4283-b4d6-c003cc08da83": [],
    "099f6539-5ca6-4625-a7a8-6db4836f99d3": [],
    "09a96006-1fe1-49ae-aa5b-3934b7b2ef8a": [
     "e9b1963a-cae9-4fbe-a791-7b0dda88e39f",
     "8a50abc7-1b82-476f-9767-aa0145069532"
    ],
    "0abd668a-a3e4-4080-a3ee-29755323fff3": [
     "c35e6bad-66d3-47fc-9f8b-3e86f0076eee",
     "e5df5883-ddcb-44f6-8cbd-0538a60333ba"
    ],
    "0aedf403-7052-4d81-bdf7-07db24e07778": [],
    "0b096959-6b48-40c8-911e-551b58f87b32": [],
    "0b175293-b4bf-4805-8c4c-f2c1f115c021": [],
    "0b3fb585-d38d-4921-86db-22a016deb7c7": [],
    "0b7bee26-5656-4d9b-8d81-77f9ba5fc3ce": [],
    "0b8409ed-abfb-4508-aeaa-31fb00d36f9e": [],
    "0bd447eb-9857-4149-a6b7-c942e65e7f59": [],
    "0c6bdc7e-86c0-48d7-ac43-9b8702b281b5": [],
    "0cc73c2d-5171-42f2-9af6-700d4e668248": [],
    "0cc98be9-fa29-4e4c-bffc-e5df3c617c79": [],
    "0d06e8ca-8892-4610-97bd-902f17653c1a": [],
    "0d4d98a0-d399-4296-a338-039891c2f6b2": [],
    "0e4a9b4d-90cb-435f-8cdf-4e6a4d57eca2": [],
    "0e5dcc29-4107-4010-8b7f-86e72c9d4ab1": [],
    "0e68cfc3-eac4-4a4d-9eae-dead2601cb8c": [],
    "0f288e77-7261-474a-b8f7-c3f803370e05": [],
    "11118295-bbbe-417a-b3e1-967d05bd4895": [],
    "11498ecb-e05d-4826-b47f-268f6d715867": [],
    "11a634b6-a1f3-4def-89bb-dedf01d5b4b7": [],
    "12e2276f-508b-409b-add7-2a35435ba9b8": [],
    "130d6c40-cdab-4c27-94d1-d805afddde43": [],
    "13c863c5-6e69-46cd-b624-e08c10173965": [],
    "13d6e52d-bf9e-457e-82a0-24e8f8c8ef94": [],
    "142e676a-831a-4345-abad-d9a7c9d33480": [],
    "143f913e-9d90-48ba-b3d4-365b88f8e53a": [],
    "144ba13c-7266-4136-bf3e-3c14d05265e2": [],
    "14d26f12-383c-4919-b8f0-f0947b133e47": [],
    "1513efa6-063d-4582-ad2f-e0d4def3fbab": [],
    "15d71781-6c2b-4a0e-974c-275d8eba8fa7": [],
    "15eca4d6-2afb-401a-a53e-e4b970b4bc91": [],
    "162504c0-977d-49a9-bdbb-d285a14a872c": [],
    "167fd93e-8920-4554-8bd5-6a6554172401": [],
    "173476dc-6821-4717-a46f-17b19285347e": [],
    "178bbb6f-8850-4f61-8dd7-d192c5ac6b1e": [],
    "186120da-0c74-46df-bd86-7217bba95d4c": [],
    "18628d86-b884-4666-833c-ffc6bcabdbd8": [],
    "18b4622f-da8d-4a8b-9b21-61f0b52f5792": [],
    "19778c69-6dd1-4a19-8c4a-77e21e585f0d": [],
    "1a699173-9b31-452f-bc80-97f590213f51": [],
    "1aa80711-8ee9-4f89-8dcf-7d07c30f115c": [],
    "1b35511a-d023-4675-aa26-6028d40ce201": [],
    "1c342bcb-d970-44c8-b45e-a4b517981946": [],
    "1c810d8d-8d7c-4f1a-9309-5933a61db463": [],
    "1cb18294-25c8-4a17-8016-62fa390d57dc": [],
    "1d1fbfcd-6303-4b58-b0d0-339f43e38a0d": [],
    "1d279e13-33c0-42bb-86d3-1a23d9cbb589": [],
    "1d52d0a0-7d0f-4661-9b42-758fd78222da": [],
    "1db44b51-e31d-4bb4-92b8-ee82576fd8ce": [],
    "1dea9741-0922-47b6-9ab9-ee5d5a351381": [
     "c4e29c1e-bd63-4906-8a51-2f7d628c2903",
     "0cc73c2d-5171-42f2-9af6-700d4e668248"
    ],
    "1e887858-7568-4c27-809b-e8d05dcb4b64": [],
    "1f5eab0e-4075-40c3-bd56-d894f375feea": [],
    "1fbeee27-562e-4bcd-9d01-3acfe2c4bf96": [],
    "1fe6822b-1097-4f9e-a17e-4a3c5f158ad5": [],
    "20e1e735-bd15-4d0f-b87f-d995fd8e49cd": [],
    "211c587b-96e5-4dcd-bbcb-1c2dff8641d3": [],
    "2184f080-051f-4c5a-a990-6117d41c333f": [],
    "22075b79-810e-4c45-a0d3-88366f5aa1e1": [],
    "224f996d-ee28-4994-8f13-198127d3ab09": [
     "5291caef-d05f-44ad-9f7d-410e78554372",
     "0abd668a-a3e4-4080-a3ee-29755323fff3"
    ],
    "22fc7196-819a-47c5-b9c2-cd2f19d455bb": [],
    "230f5d95-a384-4473-8e85-96c1919321be": [],
    "236d0ca6-a67c-4d4d-8be9-135712acc6d9": [],
    "24a26fa3-06c0-47af-b504-3b11475647f6": [],
    "24e6eb63-b3ca-4f68-969e-d50f7eb76a75": [],
    "252fcb8b-2a89-48fc-bc3e-225cecdb8326": [
     "cda8fdef-2f85-4d76-a530-f92756456020",
     "c4e29c1e-bd63-4906-8a51-2f7d628c2903"
    ],
    "256f97d2-6241-40d3-944c-84487ff564f9": [],
    "25ce2a56-0205-4dee-b92c-f2e2e5a0940f": [],
    "25f9d599-3c55-496e-8385-41596c4e4428": [],
    "26609a30-d3a9-4489-b965-62c4ffad2be5": [],
    "2666be6f-a6de-4b6b-bdab-d6dcedb0efc1": [],
    "26a9985b-3451-4a8d-88e0-8c1576e97e1e": [],
    "2760ad49-0123-49a3-93ef-d6ad400d08b5": [],
    "27890ac1-d431-4356-a65f-b1da223a6ed3": [],
    "27fa7db6-10b3-4428-b93f-0bd0fbc7864b": [],
    "28b659b2-42fc-4450-9efa-dd9fa23a97e0": [],
    "29e4aa9d-130c-4334-889b-56fc7f277dbe": [],
    "2a2cd7d8-9c88-4dee-b442-549ddff5e3a6": [],
    "2a94b471-3036-41d7-8f6b-3b9de4ba1cf2": [],
    "2baa4ec0-b8f8-4dba-abcb-bc8ed3956cd8": [],
    "2beee1fc-5fcf-4d5b-92c4-44878990e22a": [],
    "2c050504-b531-4de2-86a8-83253f989256": [],
    "2c0a75e2-900e-42e6-95c5-ed9e21d69030": [
     "bf15854a-a178-44c9-a1f6-8e2bcae9cdb1",
     "69cee609-0d15-4a95-9b6b-6dd3c878e0b8"
    ],
    "2c19e3a8-6e60-45bc-ac72-de85c3a8c9c8": [],
    "2c395631-3a5e-4224-a3ef-b5f332497c55": [],
    "2d33ad20-dbd7-487c-b869-078b33aed208": [],
    "2d3d2d80-7597-4404-91f0-1be96d872104": [],
    "2d7638fd-bfeb-4371-8ee6-1d050c64a234": [],
    "2dbfd125-8f47-4bf5-8823-66082ae8c94d": [],
    "2dcdcd4b-7d10-4b85-9679-2c74295018c5": [],
    "2df86586-a623-41e8-a9ee-02ac9835ffd0": [],
    "2e162f70-9a46-4af1-b003-d9906299a28c": [],
    "2f06da44-fb10-4a3f-8379-76bed5fcaaa4": [],
    "2f77b1e5-7384-4c84-9840-a34a545256f7": [],
    "304c9d31-abe5-48c7-ac81-d8144d726b6f": [],
    "30a92eb3-d27e-4484-9300-7c3c92fd8d4e": [],
    "3184c93e-ccd0-418a-82c7-b766fb3a354e": [],
    "3248f2e2-3591-4899-af01-575049bb075b": [],
    "32b42f9f-892f-4e01-aff6-aa1dff5b3139": [],
    "32f3fbe6-f477-4485-9605-4a823569d5f2": [],
    "3365e2b1-5c86-4300-8e5f-7828732125c8": [],
    "33addcf3-8f9b-4113-bdfb-413764cdfd06": [],
    "34094c1d-cce9-4ffa-a48f-56fd24a54da5": [],
    "34f1a273-6e8c-4d51-a699-79c828b6dca8": [],
    "357c47c5-a707-4912-93e1-2a6e3b82c5b4": [],
    "35c80a75-2225-4a6d-babe-599ce4b7c23c": [],
    "36126874-ff02-4f1e-aa3a-34fdcf0fd326": [],
    "36546530-3b52-4c49-a3c4-4a177b458c4c": [],
    "367e8bdf-fcd7-42af-8387-7cced5667f30": [],
    "37363010-c44c-4b77-869d-f2972b69e130": [],
    "37a90dc1-2392-4a1c-b3b6-cbf8a0b5015b": [],
    "37f3991a-9d34-4f0f-8331-2701c3d39746": [],
    "38b76c91-89eb-4449-9b94-10a28bd336db": [],
    "38cff5ee-1824-41e8-935f-a8f4326cf4d6": [
     "ad147c2e-16fc-447c-81d3-ce4c36a7881c",
     "473c83f0-1bfb-4791-adc7-a67213491475",
     "8a50abc7-1b82-476f-9767-aa0145069532"
    ],
    "390d6a05-3abb-480e-ab11-890d363b88d4": [],
    "392c2f8d-3183-4979-bb4f-a6615d58dc07": [],
    "398f54df-1539-431f-b5d9-7314074feb00": [],
    "399782fd-89e5-4072-a691-7e3986b6f56f": [],
    "3a01aa6d-c153-4457-bc27-569683b06dea": [],
    "3a79e200-942e-4f75-a0d2-cf2ce1668324": [],
    "3a950914-a445-41af-96fe-f80b2191cd8a": [],
    "3b23f402-5f3d-40d4-82c4-197b0720a146": [],
    "3b43f85c-3de1-4c56-a650-740246f9753a": [],
    "3b509bab-b194-42d4-8188-b2a7630cec86": [],
    "3bcfeffd-87b3-4dfe-9387-e0696e1b1c6f": [],
    "3bf617e5-01a9-42cd-b633-3d706215c6b1": [],
    "3c070e9b-875e-4fc1-a92f-2cbe9cabb6a4": [],
    "3c34a9a2-e942-488d-8020-036263523fd1": [],
    "3c5c6a6f-41b8-4a5c-8f78-20bbc3fa0dac": [],
    "3c863954-9d20-462e-9cfa-9f27a1b3d651": [],
    "3cbad466-ebe3-46d3-b886-b6fef618b92d": [],
    "3cead0e8-72df-4797-b708-b9fb057b484c": [],
    "3cf1f4c1-d1fc-418e-aeb0-1d1ce9f34e83": [],
    "3d16bbcf-d785-4211-91af-f82cef44d250": [],
    "3d8559be-17d3-4396-bf29-ec99979011dd": [],
    "3da3101a-c395-4bb1-9e6f-c09eecf2fa85": [],
    "3de05c95-cdcf-4865-85d7-a0b94e0a698b": [],
    "3e939494-18b2-4bf5-b138-c6b28b26f087": [],
    "3f4829b3-519a-4129-b020-f671e98e5e5e": [],
    "3fffd685-7364-4dd4-a263-206e9561ee0f": [],
    "403c7d8a-9c3e-43bb-8e19-c4c823e5c7ae": [],
    "41156deb-dc24-49e6-a161-568e419f0ae2": [],
    "41452c0d-51a3-4c55-912c-7bfd2a6851a0": [],
    "42b8601d-8090-450c-9f30-c8a07c3f7bd0": [],
    "42d00316-84a0-4876-a2e5-65f9890107a6": [],
    "43297c06-430d-44a1-b729-054a4582d328": [],
    "4329d8e6-056e-4b38-b74a-539c9fd79fbe": [],
    "437d2c9a-dfbd-44bc-8741-65576f607593": [],
    "43a27802-2650-4777-8c26-552337f9b855": [],
    "43ab3af5-21b2-49ea-86c5-f00748d9e94a": [],
    "451aad22-ca4b-403f-ac36-8f758cc7814f": [],
    "4534a47c-f5f6-480a-bb44-73f5e53840c1": [],
    "45468849-5050-4e83-a4cb-1713e6eb4c8e": [],
    "45bca485-59e7-4c57-9538-30a651db2779": [],
    "462158d8-85d1-427d-ab9a-79a2aafd0976": [],
    "46ffb85c-a540-413d-ab9f-4c8c2516ebcd": [],
    "4713325a-be01-42da-96f2-cb237fd23bf0": [],
    "473c83f0-1bfb-4791-adc7-a67213491475": [
     "8a50abc7-1b82-476f-9767-aa0145069532"
    ],
    "4758fe78-9fbe-464d-9dc8-612fa21218aa": [],
    "47c06355-123c-4e75-a36b-1984bb402a3b": [],
    "47e63926-42fa-4606-a4bb-724797725358": [],
    "4860e6a7-fa3a-4de9-a2bc-2738b789a758": [],
    "48f7ce9a-6936-4c0e-819d-1c6b24796009": [],
    "4919d2c9-30d6-4118-8f42-b048a600dc1d": [],
    "4945d5d4-51b8-4574-9dcc-54adecf3bba5": [],
    "4992f5e5-6039-4297-ac7a-88670ab6313a": [],
    "49e30963-e6a4-4102-992a-95d099284cad": [],
    "4a2fa287-733b-45f9-8fa0-a60d750da3fa": [],
    "4a5b6a99-3fcb-4c8c-8837-0a983fb19e3e": [],
    "4ac9ade3-cd31-46f8-ab16-3d7a8a4cf5df": [],
    "4d6a316c-db17-4366-8e0b-dda17bc7f973": [],
    "4d6e89e4-866c-4575-8b68-73866cadfedb": [],
    "4e0805c6-a717-4f66-a01b-a1f0b56d4a43": [
     "8a50abc7-1b82-476f-9767-aa0145069532"
    ],
    "4eb6808a-37c8-4efb-b551-ab7436bc4f15": [],
    "51e40b00-90c6-446a-8fc5-366af6924c51": [],
    "5291caef-d05f-44ad-9f7d-410e78554372": [
     "faf85628-4846-4e85-a05e-3b939e36df12"
    ],
    "52a33be2-ab66-4d2c-b81b-61e57f9c69d2": [],
    "532aa4e6-ca5a-4ac9-93cf-6bf6b9d90bdb": [],
    "5404f9d6-5cc2-4484-83a2-088ef294d2bc": [],
    "5598c3e1-368b-443f-b5d2-5527d76f3a15": [],
    "560b3786-b31e-4e28-92b9-409d53029dd9": [],
    "560d2484-21c2-4e24-a87d-c9fa4694821e": [],
    "56506138-28a2-4fe4-a879-0ba2aa665cc8": [],
    "574ce66a-f0f3-4ab4-95af-c5379619b9f2": [],
    "582c5039-b3cf-453f-aa25-d309f2df781c": [],
    "59126131-2dde-4228-ab89-291d6371ad62": [],
    "59e1b185-1417-4c74-a570-f70152d6e83f": [],
    "5a1e596c-0a99-4ea6-9836-49a760bc29a0": [],
    "5a48bcfe-9819-41ea-a19d-0a1b970f73e3": [],
    "5a9d354a-03b8-4e5b-9fbe-c7c240330d5a": [],
    "5b901fb7-7a0f-4e18-ab8f-32bfa2cf211c": [],
    "5c0addf3-9edb-41e6-875f-5f9025e6c8be": [],
    "5cf17d95-ae16-49e5-9b5c-8cea77e602f0": [
     "d76813ca-ad01-4c13-aa10-e2b1a5ee1e45",
     "8cf4dcc6-bff6-45ac-96f2-494f7ac097e5"
    ],
    "5d307737-6a97-458b-9acd-7a13d903cd12": [],
    "5d57633d-1dd9-4c46-8157-1125eebfe918": [],
    "5e12f203-68d1-4c72-8528-90977f0441ca": [],
    "5f83bd4d-4bfe-4802-b732-b69e6e2d9d8d": [],
    "5f83d434-7448-4bbd-bce6-3eb7862c0091": [],
    "60e226cb-14ca-445d-aa7b-fb43a265d8f4": [],
    "61da1bc7-6a21-438e-a546-9d16220d3ae2": [],
    "62004c52-0a1a-43e5-abe0-9e816abad8ba": [],
    "62958989-a5d5-4c74-9c13-df6158884d11": [],
    "6381bf31-5477-4fe6-a464-a803cae0b427": [],
    "63a55ca6-e925-4721-9629-83fdefd0ff4d": [],
    "63c869f4-4fad-45df-b245-a10695b58caa": [],
    "63efb0ff-bb2d-4665-828b-90ffef5f14e1": [],
    "64113280-8ad5-4240-b56e-410e00f42200": [],
    "64b38428-ef10-42ce-beb6-961b293da015": [],
    "6523b2f4-4b48-496e-973c-57db47b2dffe": [],
    "65d1ee09-4cca-4925-8391-e3607251a385": [],
    "65facc1d-6ab2-4a94-ace4-63b03b123ecb": [],
    "674adef2-5614-4aa7-a0a4-4251fcfc4f4b": [],
    "679b4b0e-0b97-4922-9b2b-21322234bb69": [],
    "68e24c3e-4467-4ca9-b0a7-165ad826cc49": [],
    "68e30e04-dcdf-4771-93a7-6c0f6a47ae72": [],
    "698f6dd1-2ee0-403a-8fb5-5d2c4bf030ed": [],
    "69bf27a3-aef5-4ac2-b2fc-e60723184318": [],
    "69cee609-0d15-4a95-9b6b-6dd3c878e0b8": [
     "88433834-1a7d-4333-9d00-58a8dd1e249a",
     "78c72f4a-805b-43ba-93e9-679741deaf53"
    ],
    "69d9ddfb-ba34-4f36-ae82-e6d1a53c56c1": [],
    "6a8f8fdd-c520-4da8-84dc-486dd0389197": [],
    "6b5c0998-7c4c-4cc8-9277-4138b1144660": [],
    "6b987947-75cb-40a1-a5ef-c33984a90c4b": [],
    "6be2eaa8-3cc4-49f7-a2eb-2688c38e9518": [
     "78c72f4a-805b-43ba-93e9-679741deaf53"
    ],
    "6bf0f3af-ab4a-4687-9389-f29a58093d9f": [],
    "6c2eec4d-45b9-4d4e-a1c7-93e87b39265a": [],
    "6c553606-f13b-4a7d-a70e-99d5029b74f5": [],
    "6c7ad7bd-cf94-43c2-b6ee-299b4c1c2b24": [],
    "6cbcab64-92b0-4480-bab4-d3713d15d3e3": [],
    "6ce7d007-ff55-4fde-9cef-de37aac1b156": [],
    "6d893875-8835-4042-a8c7-31a0903a17fe": [],
    "6e3006a2-352c-44e7-acf8-b00875b8c854": [],
    "6fee60c8-4ebf-4d2e-9669-70ec1b569828": [],
    "700b0e72-1efe-451a-9cd5-034b971bd5c0": [],
    "703d25fd-28b1-4d8b-8bbe-5a4cf75226e5": [],
    "7083ad5a-00b9-45ee-8f20-e21966f2a61f": [],
    "70a7abc8-5949-4f09-9dd7-2892d8e68f8e": [],
    "70c72f7b-c645-4465-82ef-d8ab63f5122b": [],
    "718079f3-9319-4da8-a4a4-a1df876f25f7": [],
    "7190e46a-276a-44ed-b2e6-12d7dee5d925": [],
    "71955e4f-f764-4e4d-adc5-08c30351a4ba": [],
    "724d9e44-7d13-4a44-90d4-e908e1b4434f": [],
    "728349e7-5b7c-4ac5-9f55-85adad3d1fee": [],
    "72ef45f6-7caa-4225-aa63-0b2a2473a155": [],
    "732b73f5-31c7-4283-b322-9043bbb718fd": [],
    "73faea2c-92c1-4fd9-aea8-11a7c585418d": [],
    "74f9e340-21b1-4991-b8d0-caf6cfb16604": [],
    "7558320d-fd89-4057-9e06-4b14948a5d80": [],
    "76372d20-4c0d-431e-b488-e583d12ad441": [],
    "76b033ad-92f7-4fbf-94f8-71cbb24b1b72": [],
    "775f33ec-881e-4668-b6ea-f78e39de8add": [],
    "7779ca9e-4b16-43f9-a0a1-ace30d2f6d73": [],
    "779c0772-8e7a-4a3b-aa21-fc9aefde232f": [],
    "788c443c-0cee-4846-9baa-0e858f1786f9": [],
    "78c72f4a-805b-43ba-93e9-679741deaf53": [
     "bf15854a-a178-44c9-a1f6-8e2bcae9cdb1",
     "066a3b3c-7e52-499a-b3dc-345fbf8d9d1f"
    ],
    "795805ee-5a4b-45f8-85ac-2052a982adb3": [],
    "799c3cb2-d837-413b-aa5a-726134467532": [],
    "79a05495-ef3c-4a53-a191-2409a09b00ca": [],
    "79eddc3a-7834-41cd-bb18-465865d5cbc3": [],
    "7b2579c3-b18c-47db-a892-f179b258745c": [],
    "7b3aea44-4c21-47b3-9aa5-a29deb2d1297": [],
    "7b3b5032-c32b-4720-9489-2dcb3532b67a": [],
    "7b5cf16f-2a22-44a6-8ccf-f3e028d2572b": [],
    "7c41dfef-8e4a-426f-85ba-309706aafd87": [],
    "7c9ecd6a-6689-4ec0-849f-5804f8c5fb1d": [],
    "7d51de0a-8344-4249-9ceb-bdcc734229e5": [],
    "7e855676-849b-482b-87fe-bd490b9191fe": [],
    "7e99db0c-049e-44c2-a749-7c4ed59f188a": [],
    "7ebe2e2d-35a0-4935-8f9f-1fa567dc3c2d": [],
    "7f2d659d-005b-4309-b3b0-21c4974a6707": [],
    "7f3c8956-cb39-4de0-be43-0bce56fca7e2": [],
    "7f630b84-9a96-4ec0-8fe5-0ab0c30c76d5": [],
    "7f6972f9-a5a7-40e1-be0d-f209763441f8": [],
    "7f7ae09e-81c1-4146-8bd3-752589380ddb": [],
    "804efa00-a45c-43c5-b987-3f7307a72b69": [],
    "8076fb43-62a7-4a82-babf-efc26c5c0276": [],
    "8155cdfb-1975-4bd9-bf17-41d9c64e5641": [],
    "8263748b-c666-415c-9e15-4c9e4e9a4ea6": [],
    "82c18b37-1af5-4bc2-acf2-1ab521502f73": [],
    "82c3935c-dd21-46a5-a136-a1c2f602bc7f": [],
    "82e7b6fe-e620-4385-85ba-421b437906d8": [],
    "833315b4-eefe-4233-a693-ccf3c681ebd7": [],
    "836e47de-d71e-4a52-9c2f-1ebe233c1a2a": [],
    "83abd54a-f4c7-41f7-ab5c-69df66c39245": [],
    "84702b42-3ea1-4601-a07a-15158b8d0f1f": [],
    "84f85944-2dc8-4957-944d-c7f8cc5c2107": [],
    "8691a9be-1667-449b-8646-aeeed70e9978": [],
    "8776be77-7379-486d-a457-181c9207394b": [],
    "880c917a-1003-40f8-b0ca-2bcbbdf92e0a": [],
    "88433834-1a7d-4333-9d00-58a8dd1e249a": [
     "bf15854a-a178-44c9-a1f6-8e2bcae9cdb1",
     "0abd668a-a3e4-4080-a3ee-29755323fff3",
     "e5df5883-ddcb-44f6-8cbd-0538a60333ba"
    ],
    "884e40f2-f3bb-4a03-8064-108b4c1d67c3": [],
    "885939eb-ad85-48bd-a54f-310ecbc06018": [],
    "88856d83-f1ab-4ae6-b4a3-d90276bcb18d": [],
    "890bd6af-b1af-4bc2-9175-7857f57cbb18": [],
    "89eb11be-ae1a-46c8-9747-9c84c949c51f": [],
    "89fb6ef0-adef-4b69-93ef-44bdc915c494": [],
    "8a421786-6bd9-4ee5-ad92-3c90fa25b87f": [],
    "8a50abc7-1b82-476f-9767-aa0145069532": [
     "9474132e-a02c-4129-aa7a-4be7ddbd1b12"
    ],
    "8b2a00a6-7ba8-49ac-886f-13bada4b8121": [],
    "8b7a8e1d-5b6e-48e3-b261-d9299994f43d": [],
    "8cf4dcc6-bff6-45ac-96f2-494f7ac097e5": [
     "bf15854a-a178-44c9-a1f6-8e2bcae9cdb1"
    ],
    "8d6e7e99-2e56-46e3-9be8-4e1ec1c727cb": [],
    "8e91025e-e987-411f-b090-4d7e507cf99b": [],
    "8f34a16e-a614-400e-a81c-dfe14558dee7": [],
    "8fa66cae-c72b-4ab6-9867-b5edc692d539": [],
    "9052d4e1-1bf5-4f7d-9cd1-99709edc4f32": [],
    "90ae163c-538b-41ed-b15a-39a0df85e744": [],
    "92005a20-dea9-4937-8316-bd67c9105e53": [],
    "920ebc04-d8d2-418e-aa52-3ea487ded127": [],
    "929dbf73-cf40-4b6f-a17f-bf73d914c7d9": [],
    "92b5d8b4-b932-4ee8-a4a7-8b32688bfe02": [],
    "92e5881c-94eb-4abb-94a6-28be81d4deb3": [],
    "9364dd3a-fed8-4a4f-88a3-67dbbf478678": [],
    "93920c2e-789b-48ad-9321-1715748496e1": [],
    "939ff8af-8a9d-4ef5-b6aa-91109402e485": [],
    "93fab21a-970e-4cc9-ac1b-5fe14af8983b": [],
    "9410dd53-70cc-4b2a-873f-65424be6cffb": [],
    "944cecab-02b3-4726-aa7b-28d28fd3ff8c": [],
    "9471ca63-23e7-4eb9-8838-bfe85868cbba": [],
    "9474132e-a02c-4129-aa7a-4be7ddbd1b12": [
     "c35e6bad-66d3-47fc-9f8b-3e86f0076eee",
     "e5df5883-ddcb-44f6-8cbd-0538a60333ba"
    ],
    "956087fd-a502-45c9-9fb5-67b7b42df871": [],
    "959c3a6b-559e-4f7f-a2e3-d3db819e088b": [],
    "95a1fa3d-1f10-49d8-b5ba-f8db51865b9e": [],
    "95e50d49-53fd-4dbe-94f4-be376259b4fd": [],
    "963762ce-5269-424f-aa7e-3f141b972eb0": [],
    "96930043-97f5-46d4-95ac-d5cd72c544f0": [],
    "976af854-8133-4876-8324-fa561d85dde8": [],
    "97ceaa88-6c28-4923-9a88-b590b9eef9dc": [],
    "97d6d198-0c71-46b0-90fd-76f16df1d568": [],
    "97f034af-5e1a-46f9-bb6b-ef66aeea8e74": [],
    "97fad422-c404-4a48-b512-c79de8873a52": [],
    "98527e78-61e7-41b4-9599-247174ec452c": [],
    "987e5407-9f9a-47a5-8e62-a3c961b1cabb": [],
    "989dda47-6b32-471e-b3fd-ae9dd7fdb2e0": [],
    "993a0dd6-93b9-4279-8531-9021aafde1bf": [],
    "99c7c833-72bb-44b5-b911-5e0b49df34dc": [],
    "9a0404b4-e71c-413c-9cfb-fa5e14670092": [],
    "9aa904f5-647f-4fe3-82df-a3d082009c0e": [],
    "9ab0c78b-075c-4525-96dd-7680beba3421": [],
    "9b6297e0-acb3-41d0-92fb-c5878d603938": [],
    "9b75555a-d77e-4001-9806-0e7d8890ba6f": [],
    "9b880062-0af4-4251-83a4-5ad4b4e4b963": [],
    "9d86235e-7179-49c0-9151-019c0eeb6599": [],
    "9daf4a4f-f6cf-40e0-b27f-24094b7f01a6": [],
    "9ed6cf73-e08f-49ec-ab53-8ccaf4b8bdc4": [],
    "9f7bcf9e-ff78-4a77-8ae1-823412796fef": [],
    "9fbccf4c-0cc1-48b4-a06a-1d816c4a0c47": [],
    "9fd6f6cc-1d1b-4f22-a5dd-a4bf5e34fc90": [],
    "9ffef4c3-0ef4-477e-b3fd-971a65f7b62b": [],
    "a08815f2-1229-49d1-b0cd-8a70a94afb52": [],
    "a0ce1a73-eb33-47f8-8fb1-f392ab95d3e2": [],
    "a0d02024-8828-40cd-9c67-8374eb5be216": [],
    "a119c6ac-23f5-4f99-abd4-18d83431032e": [],
    "a11b1bbc-d34e-488a-9332-5319a7fd8402": [],
    "a2bb03c4-6c5b-43f6-ab24-e7bba98d7a4c": [],
    "a35e5c9e-5506-43c7-898e-ad9c8986e5fb": [],
    "a36b67fd-6c6e-4395-ab0a-afa208107e14": [],
    "a3cf1874-dfa2-4d85-832b-817180437d99": [],
    "a4dece2d-c4a2-47ff-a2a7-c814378da75d": [],
    "a4e363b4-448c-4cc1-8685-ac4b0fe63497": [],
    "a50c980f-49b3-44b0-bee8-04df834c8291": [],
    "a54c28d8-8803-43c8-8531-6ca7a8658ac1": [],
    "a5f8d0fa-68ff-4303-a216-0a85466bf46f": [],
    "a63827d2-1dc3-4a79-916b-f553a8f10ae8": [],
    "a68155d8-a085-4cee-a340-62d5b554263f": [],
    "a7281ac9-519e-4630-85e5-8fa784030d32": [],
    "a7fdbfce-48ed-4539-a3b1-45f33b59d541": [],
    "a98a2f3f-6f33-4efd-b420-a8cb32499b08": [],
    "a9cdb64f-c3e2-4dff-ab1c-b1f29293467e": [],
    "aa6d8808-53b2-4e28-930c-71ce123ab8ea": [],
    "aa727210-73c3-462d-97e4-779ac58b5dfb": [],
    "aa8fd32c-d845-4d8e-87d3-21da81624192": [],
    "aa999714-9e8a-4f5d-a316-5c2717cbb39d": [],
    "aae082ba-6486-427e-8bcc-682a4f3d96eb": [],
    "ab18cbe0-b4c0-4889-ab6e-19ee05b71646": [],
    "ac47037f-bdfe-4413-a9ad-9db43680646e": [
     "5cf17d95-ae16-49e5-9b5c-8cea77e602f0",
     "b2010560-66aa-4617-bf04-bfd1f8c9b4f0"
    ],
    "ac60029b-1ec8-4f67-b306-d00acc46d580": [],
    "ac7b6d3b-3787-42b8-be24-798d33688386": [],
    "ad147c2e-16fc-447c-81d3-ce4c36a7881c": [
     "473c83f0-1bfb-4791-adc7-a67213491475",
     "8a50abc7-1b82-476f-9767-aa0145069532"
    ],
    "ad50013d-8c5d-4246-ae10-51d25222a296": [],
    "ad51436e-be80-4617-81cc-119780e99546": [],
    "ad7ea168-e8a8-4fcf-a50b-c5932e945672": [],
    "adac6141-fb5d-4450-9957-a5b18b2e34c5": [],
    "aea40acf-3ed4-4c47-b99b-a8e880e245f4": [],
    "aeb65abb-8f5e-468b-ab7a-3351c9f22507": [],
    "af51b129-f1de-4c9e-a1d5-4a7fefe05c48": [],
    "afdc5a72-c597-416f-8466-2c373ad10a17": [],
    "b00683ba-db9d-4983-be30-4429a1103448": [],
    "b09acfc2-d423-468f-9893-837a728c3435": [],
    "b0d82571-44e1-4a32-8243-499d3544df83": [],
    "b15e72c0-79c7-456d-a8e4-654e94ebcb88": [],
    "b188c124-3869-4f4b-8346-02f74ddeeddb": [
     "8a50abc7-1b82-476f-9767-aa0145069532"
    ],
    "b2010560-66aa-4617-bf04-bfd1f8c9b4f0": [
     "09a96006-1fe1-49ae-aa5b-3934b7b2ef8a",
     "e9b1963a-cae9-4fbe-a791-7b0dda88e39f",
     "5cf17d95-ae16-49e5-9b5c-8cea77e602f0"
    ],
    "b2b45195-c755-4c93-99df-21c47e36eb76": [],
    "b2c1b795-2791-4f1a-96b9-f1e04f4e5707": [],
    "b3564915-11fc-4a28-8199-ac2edb4207b7": [],
    "b3a4ef70-7a14-4100-a28e-ef6d0746415e": [],
    "b44055f6-7924-42f2-a638-43f522089e25": [],
    "b451375d-0dc1-4aec-8d94-43fc1e5847ee": [],
    "b5051fad-e9ff-4d6b-8aef-04ea5e2d19a1": [],
    "b51f531e-e371-4d83-b959-06bb54a5a91d": [],
    "b52b4467-185b-408a-a7aa-a3bdee642a7a": [],
    "b68fdc38-73a5-419a-be59-900b6883891a": [],
    "b6bb05ba-2e89-4268-a78a-1eb47d700a29": [],
    "b70aed5b-7657-45cd-8e73-143b74a43903": [],
    "b765936b-695e-4d2a-987f-c43f830b0b47": [],
    "b8083f6c-d79b-4f60-b185-2796d3a2fd43": [],
    "b8c102c2-99a3-46f0-a850-acd3df4765c1": [],
    "b9c3734b-9470-49c0-ba58-0fa79da1c7f8": [],
    "b9d00e31-06dd-4197-877a-4a7f5060f318": [],
    "bac95bf3-b271-487f-bedc-e2d2b88efacb": [],
    "bb3580e1-97be-4c1a-be28-a86a69c358f5": [
     "88433834-1a7d-4333-9d00-58a8dd1e249a"
    ],
    "bba45640-a7ee-4457-a59c-8ebc9ddfdc6f": [],
    "bbb74a09-77af-43a4-b9e0-180ddde7302a": [],
    "bc092c38-8fdd-41e7-a3b7-d82e887c977a": [],
    "bc16ac36-812f-457c-bb5b-d800cdfe2730": [],
    "bc2be607-17cc-4a92-8edf-4e20a37705de": [],
    "bc5062ea-9bbb-485f-bd82-231b63494cf2": [],
    "bec4e85e-91e4-4e61-a3c7-a5ba8cc3ae59": [
     "e76e607a-c8f9-4c42-8dca-5d393f486952",
     "c4e29c1e-bd63-4906-8a51-2f7d628c2903"
    ],
    "bf15854a-a178-44c9-a1f6-8e2bcae9cdb1": [],
    "bf8a7bf4-0a22-4220-94ac-ae39ea9abc7a": [],
    "c066dcc4-e58a-4552-a7d5-6484e52b20ac": [],
    "c0b72a1f-725f-422c-8f88-b4a1ada2a9d5": [],
    "c0c3aaf8-5baa-46f6-9548-b76c4c9bceb5": [],
    "c108b63a-b72b-4fca-99bb-99df68f33b28": [],
    "c15c45b8-fae1-4073-a503-3a34b45816de": [],
    "c20c90c2-6176-404e-89ca-0bf3d398fdf8": [],
    "c226a711-261b-4094-8563-05bdabd975a2": [],
    "c263c588-8803-4040-b66e-e7fdc0564e12": [],
    "c28d27df-8efc-4fa5-a8fe-0fe2ebd59fdf": [],
    "c2f8c5a0-176f-426b-9e88-82898a96e639": [],
    "c34b2bd2-72d4-4399-bd98-bfbdcc6a7aef": [],
    "c35e6bad-66d3-47fc-9f8b-3e86f0076eee": [
     "cc2f9707-5716-43ab-96c8-5b3a214a2f97"
    ],
    "c35f0234-0fd1-4eae-99f4-21cd002beec4": [],
    "c408293b-9830-4a43-98f2-f80442a7930d": [],
    "c41af84e-e946-4dc4-bc3e-195de99ba289": [],
    "c486c93b-8d61-4b96-bf25-21156ed7712e": [],
    "c48f93dd-2f09-4ec9-b6ee-3cf4f377778c": [],
    "c4e29c1e-bd63-4906-8a51-2f7d628c2903": [
     "09a96006-1fe1-49ae-aa5b-3934b7b2ef8a",
     "473c83f0-1bfb-4791-adc7-a67213491475"
    ],
    "c55d9cf3-f661-47ba-98e3-9bc540103572": [],
    "c55eb881-1709-4fa3-9699-f76dac45dec5": [],
    "c6acbf3c-5a75-4c09-ab24-c071f0b9fcf3": [],
    "c75f0301-1bdd-4296-9d42-df749cb4a5d3": [],
    "c7eb889a-eb56-4104-925b-014a9dc932c3": [],
    "c7fc434d-41b1-4d11-81e9-422c13269cde": [],
    "c8983445-5767-464f-8212-caa4c43b0850": [],
    "c8b3f96f-9bef-46e0-967a-9d08e7b90130": [
     "6be2eaa8-3cc4-49f7-a2eb-2688c38e9518",
     "bf15854a-a178-44c9-a1f6-8e2bcae9cdb1"
    ],
    "c8b82282-b0bb-46db-b61d-a64d18038fdd": [],
    "c8ca99df-1074-40a2-8cec-9047b94da9e3": [],
    "c994a752-9170-4833-980d-1468debfcfa9": [],
    "c99d629d-9122-4aaa-9272-0fd3df36ecfd": [],
    "ca1f9863-b192-438c-970a-b7e47ab3aa9d": [],
    "cb1eac5b-e3d3-4461-b847-82ea6775cb30": [],
    "cbd66af0-0988-4cb6-a92b-3a9f29684838": [],
    "cbdf6407-6579-43ff-be91-f09abee17304": [],
    "cbfe0b6e-f8c6-4797-946c-7ae6897187fb": [],
    "cc2f9707-5716-43ab-96c8-5b3a214a2f97": [
     "bf15854a-a178-44c9-a1f6-8e2bcae9cdb1",
     "e5df5883-ddcb-44f6-8cbd-0538a60333ba"
    ],
    "ccd8d4e3-05b4-4b02-9113-080258227eec": [],
    "ccf5e151-24c0-4b64-b008-44f62033103d": [],
    "cda8fdef-2f85-4d76-a530-f92756456020": [
     "1dea9741-0922-47b6-9ab9-ee5d5a351381",
     "c4e29c1e-bd63-4906-8a51-2f7d628c2903"
    ],
    "ceffdf6c-2fac-4928-85c5-ebaaabdf39f3": [],
    "cf6030bd-e6d5-4bf9-aa6e-06f6f1855183": [],
    "d0600448-960b-4426-a469-edee866b4f4b": [],
    "d0f9392c-c3e6-4499-b819-82f998cbbfa6": [],
    "d1711eca-119d-4ecf-b244-5626d2983e53": [],
    "d1bf80d3-97e7-4e35-bce0-574ddaacca3b": [],
    "d1e255ff-0513-448b-a50c-c7ef71b723f6": [],
    "d2928b4f-97fd-47d2-b301-ac0810a145c3": [],
    "d3142d41-837c-439c-a468-51a285d2baf8": [],
    "d3238f85-6e1e-4fd8-b919-9eae7ec492bd": [],
    "d3a9bf15-d7e8-4158-8f67-3d194f9ac274": [],
    "d41554b9-4b6e-4a66-a8e8-1164d5593ae6": [],
    "d437bc53-28fd-4331-b1ac-0316a4b845d9": [],
    "d44c06dd-40c1-4375-9a39-8aa448342530": [],
    "d467d7c8-18be-4c69-b582-177670ab0d42": [
     "cda8fdef-2f85-4d76-a530-f92756456020",
     "c4e29c1e-bd63-4906-8a51-2f7d628c2903"
    ],
    "d63b3bb3-6426-46f5-89d5-4f7b07995606": [],
    "d63dc61a-572c-42fc-bf82-59a20c787ae8": [],
    "d65a21fd-464f-49e7-8150-4e310fcdcb7f": [],
    "d7428d70-f95c-4ef0-875a-7345b6b3fa11": [],
    "d76813ca-ad01-4c13-aa10-e2b1a5ee1e45": [
     "bf15854a-a178-44c9-a1f6-8e2bcae9cdb1"
    ],
    "d7a04e33-fb83-4d1c-9b35-bf1f3da8d57c": [],
    "d7cc4d56-7537-40e8-a7a1-ef43dabeba26": [],
    "d7d2ff34-6456-4972-a87f-65b0cc74327b": [],
    "d839388c-d1f6-4c22-b3a0-2be31d00a77b": [],
    "d84cc31a-e646-4f36-aee8-41e2c65972ec": [
     "cda8fdef-2f85-4d76-a530-f92756456020",
     "c4e29c1e-bd63-4906-8a51-2f7d628c2903"
    ],
    "d90930a2-5432-49ed-abe9-abf6ab388845": [],
    "d9cec2c3-e455-4aff-b287-07ddd8aeeabe": [],
    "da84ae6b-0469-417f-8ab8-0a7142037c72": [],
    "dad45be6-3225-4b66-b5e7-8ece2209ca57": [],
    "dafbce7d-28a3-425c-b425-5a4d84654d3c": [],
    "db4099aa-1793-41eb-9872-3adfb6d05872": [],
    "db652a72-578c-4cf2-8f0b-4f7fc911e24f": [],
    "dc363b91-053e-40a8-97ac-9c9e2c144dbf": [],
    "dc4ae54f-a50a-4ea0-bd5d-3307ff536541": [],
    "dc542929-0101-443c-b6d3-376c809920e8": [
     "066a3b3c-7e52-499a-b3dc-345fbf8d9d1f"
    ],
    "dc78b8ab-a0d0-44d3-9449-204791128dfa": [],
    "dcbcd42d-d5e0-4661-a2cd-db9809634ea5": [],
    "dcbdcff8-a9ef-4dbf-9f67-125fdeb88971": [],
    "dd5f354e-853b-46d0-ba0b-41149a9797bd": [],
    "ddc81e14-02a5-44f4-bd1b-9de511c7066f": [],
    "ddce0b53-f8da-451a-b1ca-0ac05101fd36": [],
    "dfb87548-6221-472d-bd0c-d76a68c75275": [],
    "e20a7f66-cefc-4413-bda1-210ee5ff6c21": [],
    "e224fdd8-1f6e-4fc0-9b7f-e758abb66bf0": [],
    "e2634e04-5a04-495b-a571-ac46c4fb0534": [],
    "e27d4cc8-a35d-4293-be52-5d3af0cd2687": [],
    "e2938a1a-7dd4-4d19-a915-458702338c93": [],
    "e309237b-74a0-46f3-8d15-69d629388d55": [],
    "e33650ab-0268-4985-aa4a-3274660228b2": [],
    "e37bee13-0d33-4c0c-841d-17c6f946ebd4": [],
    "e3b9a0f8-7b75-4c99-8be0-8ed3fda99245": [],
    "e3d3916f-0241-4814-add0-6ab46bc39256": [],
    "e3fba3c9-e9f2-4e9d-9c25-9b3b4f15ff38": [
     "ad147c2e-16fc-447c-81d3-ce4c36a7881c",
     "473c83f0-1bfb-4791-adc7-a67213491475",
     "8a50abc7-1b82-476f-9767-aa0145069532"
    ],
    "e55757c9-ab5f-4dbf-93f5-474456a23525": [],
    "e579f4f2-ac4a-49d6-a9f1-430736cf38d3": [],
    "e5b7b287-031b-49dc-ba09-40957f8ace9d": [],
    "e5df5883-ddcb-44f6-8cbd-0538a60333ba": [],
    "e76e607a-c8f9-4c42-8dca-5d393f486952": [
     "1dea9741-0922-47b6-9ab9-ee5d5a351381",
     "c4e29c1e-bd63-4906-8a51-2f7d628c2903"
    ],
    "e7863523-4911-4c67-a5e9-eb5aa05bdd0b": [],
    "e7fd027f-2bd3-4a71-a24a-b4109a203486": [],
    "e813b99c-6974-4513-878e-4591a59c76c8": [
     "e76e607a-c8f9-4c42-8dca-5d393f486952",
     "c4e29c1e-bd63-4906-8a51-2f7d628c2903"
    ],
    "e83c3ffc-45ef-4ed9-913f-1b8b8e4bd20e": [],
    "e84ecb8a-a55f-400d-8cb9-84fd6810abca": [],
    "e85c85e5-882a-4af7-a63d-008f61e8c42e": [],
    "e8719ca7-b9cf-4f73-a439-cb78c4b1dd25": [],
    "e8d49765-7d09-41ed-9f86-0453d1a3f03f": [],
    "e96f62f9-37fa-4b00-8bbc-efd197916228": [],
    "e98419cd-d725-452c-a7a9-74dd78876a45": [],
    "e986a965-5c12-4d7e-b6cb-0b4319c1adfd": [],
    "e9b1963a-cae9-4fbe-a791-7b0dda88e39f": [],
    "e9f227fa-1cfc-4417-a053-87bd59da805f": [],
    "ea44f87b-70cf-4f1a-ae50-79d93b8bd3fe": [],
    "ea7dec27-0097-40ba-9eaa-70b57f559807": [],
    "eada83e4-645d-474a-9ad7-eb2d7b5deb28": [],
    "eb877d0d-d096-4a69-9571-12350a3d7b7e": [],
    "ebdc0409-f453-46b6-9848-f68679880fd7": [],
    "ec202a39-33e2-4556-8568-ff8b07dfa3d2": [],
    "ec6a8578-fce8-40d0-bc51-6a87a94ffffe": [],
    "ecac37d7-8c39-4c0d-9094-7652acfbafcf": [],
    "ecf4bdfd-910d-4e2b-88a9-ecdb09e50774": [],
    "ecf9be83-54e8-4f2a-a698-f9bad2ac7fec": [],
    "ed11b599-0769-44df-973d-7cf427ef5d0b": [],
    "ed7936e0-c2af-47e4-ba0a-4aeafd04853f": [],
    "ed802fc5-98c5-418e-b6aa-6e40f729c61a": [],
    "edbdd622-3264-4f86-a7dc-ee893aecdfec": [],
    "ee4c3dff-0ea0-4d6c-89e3-dc9ef8589b3c": [],
    "eef81c10-1c19-451d-aeab-1358ef22ca60": [],
    "ef179f3a-4c05-4672-9e3c-488418352065": [],
    "ef679654-ab3d-4826-bb01-69cbf40f55d9": [],
    "ef6fff1e-8429-4305-93c6-be70457830c6": [],
    "ef94c891-e418-488d-b7fe-9929e9d1fb5d": [],
    "efa2ec02-5724-4b3a-bb29-57148ad2a64f": [],
    "efd88d34-22f0-44c7-9de4-ca4ea9f229dc": [],
    "efe0ef40-3f2f-4dae-8696-85bf060ea5f0": [],
    "efe1ae34-b914-43c3-9a1e-4c6ad06a1d5d": [],
    "eff9d3ce-c9df-4c42-921a-f9693002be9d": [],
    "f07c6ace-496b-4d9e-aaeb-6159c9ff6f07": [],
    "f0db2b78-c1a4-4cd0-8d16-b4385101d602": [],
    "f0eecc88-37fe-49e1-b1e3-e02f72a18b56": [],
    "f105f4b8-436d-43a0-a7d3-58a623de151d": [],
    "f124d1a4-5c2b-4c0b-b122-146956d58061": [],
    "f16d15da-c183-4254-9d10-3ff9d3d6cfb9": [],
    "f19bf0cf-3813-4c95-85a1-c2753db13287": [],
    "f1e8ce59-dd10-4b93-8522-3a2668888382": [],
    "f1fe05aa-91f1-4b8d-b669-5e8466a82970": [],
    "f229a8ce-1c49-4bba-90d0-f2a6726e7e06": [],
    "f347e062-b301-4de4-af73-e856f704fc97": [],
    "f37770ef-23b3-4c05-bfee-2d7893782f2b": [],
    "f443d59a-7aad-41ff-bbe4-e22b9139b888": [],
    "f484f22c-2393-4115-b052-f08020a6cf9d": [],
    "f4abcda7-37dd-4886-bfdc-6006cd9a51d6": [],
    "f5041017-cdde-450d-8c9e-baf77ed13d1e": [],
    "f544f7fd-0bba-4182-abd4-eeeefe564fee": [],
    "f7a21558-466b-45db-9a3c-f91b661f1855": [],
    "f7f5d25b-2e6a-4879-9761-b97a740c9826": [],
    "f80ee48f-c048-433b-bdad-dae0c3d20f28": [],
    "f88cff5b-c0ee-41b6-83eb-015ba35d2a8d": [],
    "f8ed8b9e-6a98-48c6-87a9-b7b11ca48582": [],
    "f9ad1efc-8e3d-475f-b4c7-8c0176a8c01e": [],
    "f9f351c5-5aec-4688-b6b3-cac4ec394cc5": [],
    "fa2b2987-3313-4af0-9bfe-383143ada65c": [],
    "faf85628-4846-4e85-a05e-3b939e36df12": [
     "0abd668a-a3e4-4080-a3ee-29755323fff3",
     "e5df5883-ddcb-44f6-8cbd-0538a60333ba"
    ],
    "fb3789c1-9efa-4dfb-a3c0-77b3d59808c9": [],
    "fc13c8f6-539e-4b8b-b974-2049aad7daed": [],
    "fc3fff5c-413a-4370-9e8b-52806da0835d": [],
    "fc7648ff-8cad-4364-a6fb-f87528b07a39": [],
    "fc981260-13ce-48d1-af45-919aec0a8ca4": [],
    "fd25a2c9-323d-4c2c-8370-dcdce366905f": [],
    "fd728295-7d11-47d3-ac83-8278540ccf59": [],
    "fde2b13c-876e-427c-9364-b1b3e982a348": [],
    "fe0b3e72-13ce-4a4c-9e0d-ba188a0a0979": [],
    "fe145b79-a5df-4791-b02a-9f2956179ba9": [],
    "fe70a391-2126-47f0-8e65-b2adc1fd2b30": [],
    "fed3be0b-bc3a-4279-a4d7-31b6ba43a219": [],
    "fed405c3-8d2d-4b68-908d-5aa0f506ba38": [],
    "fedde81f-a790-439f-b1ef-42691c1bc7b6": [],
    "ff074467-48a4-489b-9c10-63e1a6943e3e": [],
    "ff592aaf-b609-4264-bfe3-8e427ae2bbdd": []
   }
  },
  "kernelspec": {
   "display_name": "Python 3 (ipyflow)",
   "language": "python",
   "name": "ipyflow"
  },
  "language_info": {
   "codemirror_mode": {
    "name": "ipython",
    "version": 3
   },
   "file_extension": ".py",
   "mimetype": "text/x-python",
   "name": "python",
   "nbconvert_exporter": "python",
   "pygments_lexer": "ipython3",
   "version": "3.8.10"
  }
 },
 "nbformat": 4,
 "nbformat_minor": 4
}
