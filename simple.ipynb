{
 "cells": [
  {
   "cell_type": "code",
   "execution_count": 2,
   "metadata": {},
   "outputs": [
    {
     "name": "stdout",
     "output_type": "stream",
     "text": [
      "Obtaining file:///mnt/c/Users/RECODE/Programs/kishu-vldb/kishu\n",
      "  Installing build dependencies ... \u001b[?25ldone\n",
      "\u001b[?25h  Checking if build backend supports build_editable ... \u001b[?25ldone\n",
      "\u001b[?25h  Getting requirements to build editable ... \u001b[?25ldone\n",
      "\u001b[?25h  Preparing editable metadata (pyproject.toml) ... \u001b[?25ldone\n",
      "\u001b[?25hRequirement already satisfied: requests in ./.linux-venv/lib/python3.10/site-packages (from kishu==0.2.0) (2.32.3)\n",
      "Requirement already satisfied: psutil in ./.linux-venv/lib/python3.10/site-packages (from kishu==0.2.0) (6.1.0)\n",
      "Requirement already satisfied: xxhash in ./.linux-venv/lib/python3.10/site-packages (from kishu==0.2.0) (3.5.0)\n",
      "Requirement already satisfied: ipylab in ./.linux-venv/lib/python3.10/site-packages (from kishu==0.2.0) (1.0.0)\n",
      "Requirement already satisfied: flask in ./.linux-venv/lib/python3.10/site-packages (from kishu==0.2.0) (3.1.0)\n",
      "Requirement already satisfied: numpy in ./.linux-venv/lib/python3.10/site-packages (from kishu==0.2.0) (2.1.3)\n",
      "Requirement already satisfied: dill in ./.linux-venv/lib/python3.10/site-packages (from kishu==0.2.0) (0.3.9)\n",
      "Requirement already satisfied: dataclasses_json in ./.linux-venv/lib/python3.10/site-packages (from kishu==0.2.0) (0.6.7)\n",
      "Requirement already satisfied: ipykernel in ./.linux-venv/lib/python3.10/site-packages (from kishu==0.2.0) (6.29.5)\n",
      "Requirement already satisfied: shortuuid in ./.linux-venv/lib/python3.10/site-packages (from kishu==0.2.0) (1.0.13)\n",
      "Requirement already satisfied: typer in ./.linux-venv/lib/python3.10/site-packages (from kishu==0.2.0) (0.13.1)\n",
      "Requirement already satisfied: nbconvert in ./.linux-venv/lib/python3.10/site-packages (from kishu==0.2.0) (7.16.4)\n",
      "Requirement already satisfied: Flask-CORS in ./.linux-venv/lib/python3.10/site-packages (from kishu==0.2.0) (5.0.0)\n",
      "Requirement already satisfied: pandas in ./.linux-venv/lib/python3.10/site-packages (from kishu==0.2.0) (2.2.3)\n",
      "Requirement already satisfied: jupyter_ui_poll in ./.linux-venv/lib/python3.10/site-packages (from kishu==0.2.0) (1.0.0)\n",
      "Requirement already satisfied: nbformat in ./.linux-venv/lib/python3.10/site-packages (from kishu==0.2.0) (5.10.4)\n",
      "Requirement already satisfied: loguru in ./.linux-venv/lib/python3.10/site-packages (from kishu==0.2.0) (0.7.2)\n",
      "Requirement already satisfied: dataclasses in ./.linux-venv/lib/python3.10/site-packages (from kishu==0.2.0) (0.6)\n",
      "Requirement already satisfied: typing in ./.linux-venv/lib/python3.10/site-packages (from kishu==0.2.0) (3.7.4.3)\n",
      "Requirement already satisfied: networkx in ./.linux-venv/lib/python3.10/site-packages (from kishu==0.2.0) (3.4.2)\n",
      "Requirement already satisfied: typing-inspect<1,>=0.4.0 in ./.linux-venv/lib/python3.10/site-packages (from dataclasses_json->kishu==0.2.0) (0.9.0)\n",
      "Requirement already satisfied: marshmallow<4.0.0,>=3.18.0 in ./.linux-venv/lib/python3.10/site-packages (from dataclasses_json->kishu==0.2.0) (3.23.1)\n",
      "Requirement already satisfied: Jinja2>=3.1.2 in ./.linux-venv/lib/python3.10/site-packages (from flask->kishu==0.2.0) (3.1.4)\n",
      "Requirement already satisfied: click>=8.1.3 in ./.linux-venv/lib/python3.10/site-packages (from flask->kishu==0.2.0) (8.1.7)\n",
      "Requirement already satisfied: Werkzeug>=3.1 in ./.linux-venv/lib/python3.10/site-packages (from flask->kishu==0.2.0) (3.1.3)\n",
      "Requirement already satisfied: itsdangerous>=2.2 in ./.linux-venv/lib/python3.10/site-packages (from flask->kishu==0.2.0) (2.2.0)\n",
      "Requirement already satisfied: blinker>=1.9 in ./.linux-venv/lib/python3.10/site-packages (from flask->kishu==0.2.0) (1.9.0)\n",
      "Requirement already satisfied: jupyter-core!=5.0.*,>=4.12 in ./.linux-venv/lib/python3.10/site-packages (from ipykernel->kishu==0.2.0) (5.7.2)\n",
      "Requirement already satisfied: comm>=0.1.1 in ./.linux-venv/lib/python3.10/site-packages (from ipykernel->kishu==0.2.0) (0.2.2)\n",
      "Requirement already satisfied: packaging in ./.linux-venv/lib/python3.10/site-packages (from ipykernel->kishu==0.2.0) (24.2)\n",
      "Requirement already satisfied: nest-asyncio in ./.linux-venv/lib/python3.10/site-packages (from ipykernel->kishu==0.2.0) (1.6.0)\n",
      "Requirement already satisfied: matplotlib-inline>=0.1 in ./.linux-venv/lib/python3.10/site-packages (from ipykernel->kishu==0.2.0) (0.1.7)\n",
      "Requirement already satisfied: jupyter-client>=6.1.12 in ./.linux-venv/lib/python3.10/site-packages (from ipykernel->kishu==0.2.0) (8.6.3)\n",
      "Requirement already satisfied: ipython>=7.23.1 in ./.linux-venv/lib/python3.10/site-packages (from ipykernel->kishu==0.2.0) (8.29.0)\n",
      "Requirement already satisfied: traitlets>=5.4.0 in ./.linux-venv/lib/python3.10/site-packages (from ipykernel->kishu==0.2.0) (5.14.3)\n",
      "Requirement already satisfied: debugpy>=1.6.5 in ./.linux-venv/lib/python3.10/site-packages (from ipykernel->kishu==0.2.0) (1.8.9)\n",
      "Requirement already satisfied: pyzmq>=24 in ./.linux-venv/lib/python3.10/site-packages (from ipykernel->kishu==0.2.0) (26.2.0)\n",
      "Requirement already satisfied: tornado>=6.1 in ./.linux-venv/lib/python3.10/site-packages (from ipykernel->kishu==0.2.0) (6.4.2)\n",
      "Requirement already satisfied: ipywidgets<9,>=7.6.0 in ./.linux-venv/lib/python3.10/site-packages (from ipylab->kishu==0.2.0) (8.1.5)\n",
      "Requirement already satisfied: defusedxml in ./.linux-venv/lib/python3.10/site-packages (from nbconvert->kishu==0.2.0) (0.7.1)\n",
      "Requirement already satisfied: tinycss2 in ./.linux-venv/lib/python3.10/site-packages (from nbconvert->kishu==0.2.0) (1.4.0)\n",
      "Requirement already satisfied: pygments>=2.4.1 in ./.linux-venv/lib/python3.10/site-packages (from nbconvert->kishu==0.2.0) (2.18.0)\n",
      "Requirement already satisfied: bleach!=5.0.0 in ./.linux-venv/lib/python3.10/site-packages (from nbconvert->kishu==0.2.0) (6.2.0)\n",
      "Requirement already satisfied: jupyterlab-pygments in ./.linux-venv/lib/python3.10/site-packages (from nbconvert->kishu==0.2.0) (0.3.0)\n",
      "Requirement already satisfied: pandocfilters>=1.4.1 in ./.linux-venv/lib/python3.10/site-packages (from nbconvert->kishu==0.2.0) (1.5.1)\n",
      "Requirement already satisfied: mistune<4,>=2.0.3 in ./.linux-venv/lib/python3.10/site-packages (from nbconvert->kishu==0.2.0) (3.0.2)\n",
      "Requirement already satisfied: markupsafe>=2.0 in ./.linux-venv/lib/python3.10/site-packages (from nbconvert->kishu==0.2.0) (3.0.2)\n",
      "Requirement already satisfied: nbclient>=0.5.0 in ./.linux-venv/lib/python3.10/site-packages (from nbconvert->kishu==0.2.0) (0.10.0)\n",
      "Requirement already satisfied: beautifulsoup4 in ./.linux-venv/lib/python3.10/site-packages (from nbconvert->kishu==0.2.0) (4.12.3)\n",
      "Requirement already satisfied: jsonschema>=2.6 in ./.linux-venv/lib/python3.10/site-packages (from nbformat->kishu==0.2.0) (4.23.0)\n",
      "Requirement already satisfied: fastjsonschema>=2.15 in ./.linux-venv/lib/python3.10/site-packages (from nbformat->kishu==0.2.0) (2.20.0)\n",
      "Requirement already satisfied: tzdata>=2022.7 in ./.linux-venv/lib/python3.10/site-packages (from pandas->kishu==0.2.0) (2024.2)\n",
      "Requirement already satisfied: python-dateutil>=2.8.2 in ./.linux-venv/lib/python3.10/site-packages (from pandas->kishu==0.2.0) (2.9.0.post0)\n",
      "Requirement already satisfied: pytz>=2020.1 in ./.linux-venv/lib/python3.10/site-packages (from pandas->kishu==0.2.0) (2024.2)\n",
      "Requirement already satisfied: urllib3<3,>=1.21.1 in ./.linux-venv/lib/python3.10/site-packages (from requests->kishu==0.2.0) (2.2.3)\n",
      "Requirement already satisfied: charset-normalizer<4,>=2 in ./.linux-venv/lib/python3.10/site-packages (from requests->kishu==0.2.0) (3.4.0)\n",
      "Requirement already satisfied: idna<4,>=2.5 in ./.linux-venv/lib/python3.10/site-packages (from requests->kishu==0.2.0) (3.10)\n",
      "Requirement already satisfied: certifi>=2017.4.17 in ./.linux-venv/lib/python3.10/site-packages (from requests->kishu==0.2.0) (2024.8.30)\n",
      "Requirement already satisfied: typing-extensions>=3.7.4.3 in ./.linux-venv/lib/python3.10/site-packages (from typer->kishu==0.2.0) (4.12.2)\n",
      "Requirement already satisfied: shellingham>=1.3.0 in ./.linux-venv/lib/python3.10/site-packages (from typer->kishu==0.2.0) (1.5.4)\n",
      "Requirement already satisfied: rich>=10.11.0 in ./.linux-venv/lib/python3.10/site-packages (from typer->kishu==0.2.0) (13.9.4)\n",
      "Requirement already satisfied: webencodings in ./.linux-venv/lib/python3.10/site-packages (from bleach!=5.0.0->nbconvert->kishu==0.2.0) (0.5.1)\n",
      "Requirement already satisfied: prompt-toolkit<3.1.0,>=3.0.41 in ./.linux-venv/lib/python3.10/site-packages (from ipython>=7.23.1->ipykernel->kishu==0.2.0) (3.0.48)\n",
      "Requirement already satisfied: exceptiongroup in ./.linux-venv/lib/python3.10/site-packages (from ipython>=7.23.1->ipykernel->kishu==0.2.0) (1.2.2)\n",
      "Requirement already satisfied: decorator in ./.linux-venv/lib/python3.10/site-packages (from ipython>=7.23.1->ipykernel->kishu==0.2.0) (5.1.1)\n",
      "Requirement already satisfied: stack-data in ./.linux-venv/lib/python3.10/site-packages (from ipython>=7.23.1->ipykernel->kishu==0.2.0) (0.6.3)\n",
      "Requirement already satisfied: jedi>=0.16 in ./.linux-venv/lib/python3.10/site-packages (from ipython>=7.23.1->ipykernel->kishu==0.2.0) (0.19.2)\n",
      "Requirement already satisfied: pexpect>4.3 in ./.linux-venv/lib/python3.10/site-packages (from ipython>=7.23.1->ipykernel->kishu==0.2.0) (4.9.0)\n",
      "Requirement already satisfied: jupyterlab-widgets~=3.0.12 in ./.linux-venv/lib/python3.10/site-packages (from ipywidgets<9,>=7.6.0->ipylab->kishu==0.2.0) (3.0.13)\n",
      "Requirement already satisfied: widgetsnbextension~=4.0.12 in ./.linux-venv/lib/python3.10/site-packages (from ipywidgets<9,>=7.6.0->ipylab->kishu==0.2.0) (4.0.13)\n",
      "Requirement already satisfied: attrs>=22.2.0 in ./.linux-venv/lib/python3.10/site-packages (from jsonschema>=2.6->nbformat->kishu==0.2.0) (24.2.0)\n",
      "Requirement already satisfied: jsonschema-specifications>=2023.03.6 in ./.linux-venv/lib/python3.10/site-packages (from jsonschema>=2.6->nbformat->kishu==0.2.0) (2024.10.1)\n",
      "Requirement already satisfied: rpds-py>=0.7.1 in ./.linux-venv/lib/python3.10/site-packages (from jsonschema>=2.6->nbformat->kishu==0.2.0) (0.21.0)\n",
      "Requirement already satisfied: referencing>=0.28.4 in ./.linux-venv/lib/python3.10/site-packages (from jsonschema>=2.6->nbformat->kishu==0.2.0) (0.35.1)\n",
      "Requirement already satisfied: platformdirs>=2.5 in ./.linux-venv/lib/python3.10/site-packages (from jupyter-core!=5.0.*,>=4.12->ipykernel->kishu==0.2.0) (4.3.6)\n",
      "Requirement already satisfied: six>=1.5 in ./.linux-venv/lib/python3.10/site-packages (from python-dateutil>=2.8.2->pandas->kishu==0.2.0) (1.16.0)\n",
      "Requirement already satisfied: markdown-it-py>=2.2.0 in ./.linux-venv/lib/python3.10/site-packages (from rich>=10.11.0->typer->kishu==0.2.0) (3.0.0)\n",
      "Requirement already satisfied: mypy-extensions>=0.3.0 in ./.linux-venv/lib/python3.10/site-packages (from typing-inspect<1,>=0.4.0->dataclasses_json->kishu==0.2.0) (1.0.0)\n",
      "Requirement already satisfied: soupsieve>1.2 in ./.linux-venv/lib/python3.10/site-packages (from beautifulsoup4->nbconvert->kishu==0.2.0) (2.6)\n",
      "Requirement already satisfied: parso<0.9.0,>=0.8.4 in ./.linux-venv/lib/python3.10/site-packages (from jedi>=0.16->ipython>=7.23.1->ipykernel->kishu==0.2.0) (0.8.4)\n",
      "Requirement already satisfied: mdurl~=0.1 in ./.linux-venv/lib/python3.10/site-packages (from markdown-it-py>=2.2.0->rich>=10.11.0->typer->kishu==0.2.0) (0.1.2)\n",
      "Requirement already satisfied: ptyprocess>=0.5 in ./.linux-venv/lib/python3.10/site-packages (from pexpect>4.3->ipython>=7.23.1->ipykernel->kishu==0.2.0) (0.7.0)\n",
      "Requirement already satisfied: wcwidth in ./.linux-venv/lib/python3.10/site-packages (from prompt-toolkit<3.1.0,>=3.0.41->ipython>=7.23.1->ipykernel->kishu==0.2.0) (0.2.13)\n",
      "Requirement already satisfied: pure-eval in ./.linux-venv/lib/python3.10/site-packages (from stack-data->ipython>=7.23.1->ipykernel->kishu==0.2.0) (0.2.3)\n",
      "Requirement already satisfied: executing>=1.2.0 in ./.linux-venv/lib/python3.10/site-packages (from stack-data->ipython>=7.23.1->ipykernel->kishu==0.2.0) (2.1.0)\n",
      "Requirement already satisfied: asttokens>=2.1.0 in ./.linux-venv/lib/python3.10/site-packages (from stack-data->ipython>=7.23.1->ipykernel->kishu==0.2.0) (2.4.1)\n",
      "Building wheels for collected packages: kishu\n",
      "  Building editable for kishu (pyproject.toml) ... \u001b[?25ldone\n",
      "\u001b[?25h  Created wheel for kishu: filename=kishu-0.2.0-0.editable-cp310-cp310-linux_x86_64.whl size=4318 sha256=c22802909199f325683fc45d3879417ecff547ceaadf300a59ac7ebb05107caf\n",
      "  Stored in directory: /tmp/pip-ephem-wheel-cache-pm8gu4ts/wheels/d9/79/eb/3d8846807d2e860008024986e5fda382806ac0fc3ec90314f0\n",
      "Successfully built kishu\n",
      "Installing collected packages: kishu\n",
      "  Attempting uninstall: kishu\n",
      "    Found existing installation: kishu 0.2.0\n",
      "    Uninstalling kishu-0.2.0:\n",
      "      Successfully uninstalled kishu-0.2.0\n",
      "Successfully installed kishu-0.2.0\n",
      "Error in callback <bound method KishuForJupyter.post_run_cell of KishuForJupyter(notebook_id: 20241126T003250, kernel_id: 4bc420f5-ef34-42a0-b019-c3bd56326443, notebook_path: /mnt/c/Users/RECODE/Programs/kishu-vldb/simple.ipynb, session_id: 4, platform: jupyterlab, commit_id_mode: uuid4)> (for post_run_cell), with arguments args (<ExecutionResult object at 7f915ef71a50, execution_count=2 error_before_exec=None error_in_exec=None info=<ExecutionInfo object at 7f915ef71b40, raw_cell=\"!pip install -e kishu/\" store_history=True silent=False shell_futures=True cell_id=2cc0e3a4-1334-407d-83bd-467ecc8c7a47> result=None>,),kwargs {}:\n"
     ]
    },
    {
     "ename": "AttributeError",
     "evalue": "'CheckpointRestorePlanner' object has no attribute 'write_row'",
     "output_type": "error",
     "traceback": [
      "\u001b[0;31m---------------------------------------------------------------------------\u001b[0m",
      "\u001b[0;31mAttributeError\u001b[0m                            Traceback (most recent call last)",
      "File \u001b[0;32m/mnt/c/Users/RECODE/Programs/kishu-vldb/kishu/kishu/jupyterint.py:564\u001b[0m, in \u001b[0;36mpost_run_cell\u001b[0;34m(self, result)\u001b[0m\n\u001b[1;32m      0\u001b[0m <Error retrieving source code with stack_data see ipython/ipython#13598>\n",
      "File \u001b[0;32m/mnt/c/Users/RECODE/Programs/kishu-vldb/kishu/kishu/jupyterint.py:658\u001b[0m, in \u001b[0;36m_commit_entry\u001b[0;34m(self, entry, changed_vars)\u001b[0m\n\u001b[1;32m    656\u001b[0m checkpoint_start_time \u001b[38;5;241m=\u001b[39m time\u001b[38;5;241m.\u001b[39mtime()\n\u001b[1;32m    657\u001b[0m entry\u001b[38;5;241m.\u001b[39mrestore_plan, entry\u001b[38;5;241m.\u001b[39mvarset_version \u001b[38;5;241m=\u001b[39m \u001b[38;5;28mself\u001b[39m\u001b[38;5;241m.\u001b[39m_checkpoint(entry)\n\u001b[0;32m--> 658\u001b[0m entry\u001b[38;5;241m.\u001b[39mactive_vses_string \u001b[38;5;241m=\u001b[39m \u001b[38;5;28mself\u001b[39m\u001b[38;5;241m.\u001b[39m_cr_planner\u001b[38;5;241m.\u001b[39mserialize_active_vses()\n\u001b[1;32m    659\u001b[0m \u001b[38;5;66;03m#REVISION-----\u001b[39;00m\n\u001b[1;32m    660\u001b[0m \u001b[38;5;66;03m#entry.ahg_string = self._cr_planner.serialize_ahg()\u001b[39;00m\n\u001b[1;32m    661\u001b[0m checkpoint_runtime_s \u001b[38;5;241m=\u001b[39m time\u001b[38;5;241m.\u001b[39mtime() \u001b[38;5;241m-\u001b[39m checkpoint_start_time\n",
      "File \u001b[0;32m/mnt/c/Users/RECODE/Programs/kishu-vldb/kishu/kishu/jupyterint.py:705\u001b[0m, in \u001b[0;36m_checkpoint\u001b[0;34m(self, cell_info)\u001b[0m\n\u001b[1;32m    703\u001b[0m checkpoint_plan\u001b[38;5;241m.\u001b[39mrun(\u001b[38;5;28mself\u001b[39m\u001b[38;5;241m.\u001b[39m_user_ns)\n\u001b[1;32m    704\u001b[0m \u001b[38;5;28mself\u001b[39m\u001b[38;5;241m.\u001b[39m_cr_planner\u001b[38;5;241m.\u001b[39mwrite_row(\u001b[38;5;124m\"\u001b[39m\u001b[38;5;124mcheckpoint-time\u001b[39m\u001b[38;5;124m\"\u001b[39m, time\u001b[38;5;241m.\u001b[39mtime() \u001b[38;5;241m-\u001b[39m start)\n\u001b[0;32m--> 705\u001b[0m \u001b[38;5;28;01mtry\u001b[39;00m:\n\u001b[1;32m    706\u001b[0m     \u001b[38;5;28mself\u001b[39m\u001b[38;5;241m.\u001b[39m_cr_planner\u001b[38;5;241m.\u001b[39mwrite_row(\u001b[38;5;124m\"\u001b[39m\u001b[38;5;124mcommit-table-size\u001b[39m\u001b[38;5;124m\"\u001b[39m, \u001b[38;5;28mself\u001b[39m\u001b[38;5;241m.\u001b[39mtotal_commit_size \u001b[38;5;241m+\u001b[39m sys\u001b[38;5;241m.\u001b[39mgetsizeof(\u001b[38;5;28mself\u001b[39m\u001b[38;5;241m.\u001b[39m_cr_planner\u001b[38;5;241m.\u001b[39m_ahg\u001b[38;5;241m.\u001b[39mserialize()))\n\u001b[1;32m    707\u001b[0m \u001b[38;5;28;01mexcept\u001b[39;00m \u001b[38;5;167;01mException\u001b[39;00m \u001b[38;5;28;01mas\u001b[39;00m e:\n",
      "\u001b[0;31mAttributeError\u001b[0m: 'CheckpointRestorePlanner' object has no attribute 'write_row'"
     ]
    }
   ],
   "source": [
    "!pip install -e kishu/"
   ]
  },
  {
   "cell_type": "code",
   "execution_count": null,
   "metadata": {},
   "outputs": [],
   "source": [
    "!pip show kishu"
   ]
  },
  {
   "cell_type": "code",
   "execution_count": 3,
   "metadata": {
    "collapsed": false,
    "jupyter": {
     "outputs_hidden": false
    },
    "pycharm": {
     "name": "#%%\n"
    },
    "tags": []
   },
   "outputs": [
    {
     "name": "stdout",
     "output_type": "stream",
     "text": [
      "1\n"
     ]
    }
   ],
   "source": [
    "x = 1\n",
    "print(x)"
   ]
  },
  {
   "cell_type": "code",
   "execution_count": 4,
   "metadata": {
    "collapsed": false,
    "jupyter": {
     "outputs_hidden": false
    },
    "pycharm": {
     "name": "#%%\n"
    },
    "tags": []
   },
   "outputs": [
    {
     "name": "stdout",
     "output_type": "stream",
     "text": [
      "2 1 2\n"
     ]
    }
   ],
   "source": [
    "y = x\n",
    "x = x + 1\n",
    "z = 1\n",
    "a = 1\n",
    "del a\n",
    "a = 2\n",
    "print(x, y, a)"
   ]
  },
  {
   "cell_type": "code",
   "execution_count": 3,
   "metadata": {
    "collapsed": false,
    "jupyter": {
     "outputs_hidden": false
    },
    "pycharm": {
     "name": "#%%\n"
    },
    "tags": []
   },
   "outputs": [],
   "source": [
    "# Record imported libraries\n",
    "import numpy as np\n",
    "from numpy import random"
   ]
  },
  {
   "cell_type": "code",
   "execution_count": null,
   "metadata": {},
   "outputs": [],
   "source": [
    "!kishu init simple.ipynb"
   ]
  },
  {
   "cell_type": "code",
   "execution_count": 4,
   "metadata": {
    "collapsed": false,
    "jupyter": {
     "outputs_hidden": false
    },
    "pycharm": {
     "name": "#%%\n"
    }
   },
   "outputs": [],
   "source": [
    "b = 1"
   ]
  },
  {
   "cell_type": "code",
   "execution_count": 5,
   "metadata": {
    "collapsed": false,
    "jupyter": {
     "outputs_hidden": false
    },
    "pycharm": {
     "name": "#%%\n"
    }
   },
   "outputs": [],
   "source": [
    "def func():\n",
    "    global b\n",
    "    b += 1\n",
    "func()"
   ]
  },
  {
   "cell_type": "code",
   "execution_count": 6,
   "metadata": {},
   "outputs": [],
   "source": [
    "del a"
   ]
  },
  {
   "cell_type": "code",
   "execution_count": 7,
   "metadata": {},
   "outputs": [
    {
     "name": "stdout",
     "output_type": "stream",
     "text": [
      "b\t func\t np\t random\t x\t y\t z\t \n"
     ]
    }
   ],
   "source": [
    "%who"
   ]
  }
 ],
 "metadata": {
  "kernelspec": {
   "display_name": "Python 3 (ipykernel)",
   "language": "python",
   "name": "python3"
  },
  "kishu": {
   "notebook_id": "20241126T003250",
   "session_count": 4
  },
  "language_info": {
   "codemirror_mode": {
    "name": "ipython",
    "version": 3
   },
   "file_extension": ".py",
   "mimetype": "text/x-python",
   "name": "python",
   "nbconvert_exporter": "python",
   "pygments_lexer": "ipython3",
   "version": "3.10.12"
  },
  "vscode": {
   "interpreter": {
    "hash": "831878006862ccc20c8644a68163e333be809b5fee14b33e0a32c4838e696fe8"
   }
  }
 },
 "nbformat": 4,
 "nbformat_minor": 4
}
